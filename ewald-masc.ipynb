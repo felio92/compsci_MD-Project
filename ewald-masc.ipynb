{
 "cells": [
  {
   "cell_type": "markdown",
   "metadata": {},
   "source": [
    "# Ewald sum\n",
    "\n",
    "References:\n",
    "- \"Computer Simulation of Liquids\" by Michael P. Allen and Dominic J. Tildesley (2nd edition, Oxford University Press, 2017)\n",
    "- https://github.com/Allen-Tildesley"
   ]
  },
  {
   "cell_type": "code",
   "execution_count": 1,
   "metadata": {},
   "outputs": [],
   "source": [
    "import numpy as np\n",
    "import torch\n",
    "from scipy.special import erfc\n",
    "\n",
    "def distance(x):\n",
    "    return torch.norm(x[None, :, :] - x[:, None, :], dim=-1)\n",
    "\n",
    "def qpairs(q):\n",
    "    return q[None, :]*q[:, None]"
   ]
  },
  {
   "cell_type": "code",
   "execution_count": 2,
   "metadata": {},
   "outputs": [],
   "source": [
    "def rwald ( x, q, sigma=0.1178511 ):\n",
    "    \"\"\"Returns the r-space part of energy of ewald summation\n",
    "    \n",
    "    Arguments:\n",
    "        x (float): position vectors (dim = n x 3)\n",
    "        q (int): charges (dim = n)\n",
    "        sigma (float): sqrt(variance), width of gaussian, ~ kappa\n",
    "    \n",
    "    Variables:\n",
    "        n (int): number of particles\n",
    "    \n",
    "    Output:\n",
    "        e_short (float): short range part of ewald potential e\n",
    "    \"\"\"\n",
    "    epsilon = 8.854187817e-12\n",
    "    #x = torch.tensor(x, dtype=np.float32)\n",
    "    #q = torch.tensor(q, dtype=np.float32)\n",
    "    n, d = list(x.size())\n",
    "    assert n == q.shape[0], 'dimension error: q needs n entries'\n",
    "    \n",
    "    e_short = 0.\n",
    "    \n",
    "    r = distance(torch.Tensor(x))\n",
    "    qiqj = qpairs(torch.Tensor(q))\n",
    "    r_invers = r.clone()\n",
    "    r_invers[r_invers!=0] = 1/r_invers[r_invers!=0]\n",
    "    return torch.sum(\n",
    "        qiqj * r_invers * erfc( r / (np.sqrt(2) * sigma) )\n",
    "        ) / (2 * np.pi * epsilon)"
   ]
  },
  {
   "cell_type": "code",
   "execution_count": 3,
   "metadata": {
    "scrolled": true
   },
   "outputs": [],
   "source": [
    "charge = torch.tensor([-1., 2, -1, 3])\n",
    "position = torch.tensor([[0., 0.], [0., 1.], [1., 1.], [1., 0.]])\n",
    "#qiqj = qpairs(charge)\n",
    "#print(qiqj)\n",
    "#dist = distance(position)\n",
    "#print(dist)\n",
    "#dist[dist!=0] = 1/dist[dist!=0]\n",
    "#print(qiqj*dist)\n",
    "#print(torch.sum(qiqj))"
   ]
  },
  {
   "cell_type": "code",
   "execution_count": 4,
   "metadata": {},
   "outputs": [
    {
     "name": "stdout",
     "output_type": "stream",
     "text": [
      "tensor(-7.7363e-06)\n"
     ]
    }
   ],
   "source": [
    "print(rwald(position, charge))"
   ]
  },
  {
   "cell_type": "code",
   "execution_count": 5,
   "metadata": {},
   "outputs": [
    {
     "name": "stdout",
     "output_type": "stream",
     "text": [
      "[[0.1 0.2 0.4]\n",
      " [0.8 1.6 3.2]]\n",
      "[[3.96143909e-001 8.96860218e-002 6.88513897e-004]\n",
      " [1.13521436e-011 5.52394460e-042 2.34001672e-162]]\n"
     ]
    }
   ],
   "source": [
    "a = np.array([[.1, .2, .4], [.8, 1.6, 3.2]])\n",
    "print(a)\n",
    "print(erfc(a*6))"
   ]
  },
  {
   "cell_type": "code",
   "execution_count": null,
   "metadata": {},
   "outputs": [],
   "source": []
  }
 ],
 "metadata": {
  "kernelspec": {
   "display_name": "Python 3",
   "language": "python",
   "name": "python3"
  },
  "language_info": {
   "codemirror_mode": {
    "name": "ipython",
    "version": 3
   },
   "file_extension": ".py",
   "mimetype": "text/x-python",
   "name": "python",
   "nbconvert_exporter": "python",
   "pygments_lexer": "ipython3",
   "version": "3.7.2"
  }
 },
 "nbformat": 4,
 "nbformat_minor": 2
}
