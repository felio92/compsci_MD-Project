{
 "cells": [
  {
   "cell_type": "code",
   "execution_count": 27,
   "metadata": {},
   "outputs": [],
   "source": [
    "import numpy as np\n",
    "import matplotlib.pyplot as plt\n",
    "from numba import jit\n",
    "import potentials\n",
    "from distances import *\n",
    "from scipy.special import erfc"
   ]
  },
  {
   "cell_type": "code",
   "execution_count": 28,
   "metadata": {},
   "outputs": [],
   "source": [
    "class Ewald(object):\n",
    "    def __init__(self, alpha, sigma, r_cutoff, k_cutoff, accuracy):\n",
    "        self.L = r_cutoff*2 #minimum image convention\n",
    "        self.vol = L**3\n",
    "        self.a = alpha\n",
    "        self.s = sigma\n",
    "        self.rc = r_cutoff\n",
    "        self.kc = k_cutoff\n",
    "        self.e = accuracy\n",
    "        \n",
    "    def image_coord(coord, i, j):\n",
    "        return coord + [self.L*i, self.L*j]\n",
    "    \n",
    "    def pot_sr(self, coord, charges):\n",
    "        #images =\n",
    "        dist = distances(vectors(coord, pbc=True))\n",
    "        mask = dist<=self.rc\n",
    "        dist[dist!=0] = 1/dist[dist!=0]\n",
    "        dist_ma = np.ma.masked_array(dist, mask)\n",
    "        return 1/2 * charges * np.ma.dot(erfc(self.a*dist_ma), charges)\n",
    "    def pot_lr(self, coord, charges):\n",
    "        pass"
   ]
  },
  {
   "cell_type": "code",
   "execution_count": 29,
   "metadata": {},
   "outputs": [],
   "source": [
    "coord = np.asarray([[1.,0], [2,5], [6, 1]])\n",
    "vec = -vectors(coord,pbc=True, L=7)\n",
    "dis = distances(vec)\n",
    "charges = np.asarray([1, -2, 1])"
   ]
  },
  {
   "cell_type": "code",
   "execution_count": 30,
   "metadata": {},
   "outputs": [
    {
     "data": {
      "image/png": "[encoded data removed]",
      "text/plain": [
       "<Figure size 432x288 with 1 Axes>"
      ]
     },
     "metadata": {
      "needs_background": "light"
     },
     "output_type": "display_data"
    }
   ],
   "source": [
    "nb_images = np.asarray([coord + [7*a, 7*b] for a in range(-1,2) for b in range(-1,2) if  not (a==0 and b==0)])\n",
    "plt.scatter(coord[:,0],coord[:,1])\n",
    "plt.quiver([1,1],[0,0],vec[0,1:,0],vec[0,1:,1],scale=1,scale_units='xy', angles='xy')\n",
    "for i in range(8):\n",
    "    plt.scatter(nb_images[i,:,0], nb_images[i,:,1])"
   ]
  },
  {
   "cell_type": "code",
   "execution_count": null,
   "metadata": {},
   "outputs": [],
   "source": []
  }
 ],
 "metadata": {
  "kernelspec": {
   "display_name": "Python 3",
   "language": "python",
   "name": "python3"
  },
  "language_info": {
   "codemirror_mode": {
    "name": "ipython",
    "version": 3
   },
   "file_extension": ".py",
   "mimetype": "text/x-python",
   "name": "python",
   "nbconvert_exporter": "python",
   "pygments_lexer": "ipython3",
   "version": "3.7.2"
  }
 },
 "nbformat": 4,
 "nbformat_minor": 2
}
