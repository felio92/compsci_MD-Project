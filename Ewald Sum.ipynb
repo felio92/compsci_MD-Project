{
 "cells": [
  {
   "cell_type": "markdown",
   "metadata": {},
   "source": [
    "# Ewald Notebook"
   ]
  },
  {
   "cell_type": "code",
   "execution_count": null,
   "metadata": {},
   "outputs": [],
   "source": [
    "%matplotlib notebook\n",
    "from ipywidgets import *\n",
    "import numpy as np\n",
    "import matplotlib.pyplot as plt\n",
    "import matplotlib.patches as patches\n",
    "from mpl_toolkits.mplot3d import Axes3D\n",
    "from matplotlib import animation\n",
    "from numba import jit\n",
    "import potentials\n",
    "from ewald_numpy import *\n",
    "from optimize import descent\n",
    "from sampling import mcmc\n",
    "from integrators import vv\n",
    "from distances import *\n",
    "from scipy.special import erfc\n",
    "import line_profiler"
   ]
  },
  {
   "cell_type": "code",
   "execution_count": null,
   "metadata": {},
   "outputs": [],
   "source": [
    "def nacl_ewald(r_cutoff, n_max, k_cutoff, max_a, step_a, E=None):\n",
    "    coord =np.asarray([[0,0,0], [1/2,1/2,0], [1/2,0,1/2], [0,1/2,1/2],\n",
    "                           [1/2,1/2,1/2], [1/2,0,0], [0,1/2,0],[0,0,1/2]])\n",
    "    if E==None:\n",
    "        charges = np.asarray([-1, -1., -1, -1, 1, 1, 1, 1])\n",
    "        E = Ewald(charges, (0,1), 0.1, r_cutoff, n_max, k_cutoff)\n",
    "    a_array = np.arange(0.1, max_a, step_a)\n",
    "    pot_lr, pot_sr, pot_self = np.zeros_like(a_array), np.zeros_like(a_array), np.zeros_like(a_array)\n",
    "    for i in range(len(a_array)):\n",
    "        E.params = (a_array[i], r_cutoff, n_max, k_cutoff)\n",
    "        pot_lr[i] = E.pot_lr(coord)\n",
    "        pot_sr[i] = E.pot_sr(coord)\n",
    "        pot_self[i] = E.pot_self()\n",
    "    pot_total = pot_lr + pot_sr - pot_self\n",
    "    return np.asarray([a_array, pot_lr, pot_sr, pot_self, pot_total])"
   ]
  },
  {
   "cell_type": "code",
   "execution_count": null,
   "metadata": {},
   "outputs": [],
   "source": [
    "def madelung_formula(n):\n",
    "    #taken from the wikipedia article on the Madelung constant\n",
    "    x=np.arange(1, n, 2)\n",
    "    arg = (x[:,None]**2+x**2)\n",
    "    return 12*np.pi*np.sum(1/np.cosh(np.pi/2*np.sqrt(arg))**2)"
   ]
  },
  {
   "cell_type": "code",
   "execution_count": null,
   "metadata": {},
   "outputs": [],
   "source": [
    "a_array, pot_lr, pot_sr, pot_self, pot_total=nacl_ewald(10, 5, 10, 5,0.1)\n",
    "print(\"Madelung's constant from Ewald:\",np.sum(pot_total[12:]/len(pot_total[12:])/8))\n",
    "print(\"Madelung's constant from liter:\",-madelung_formula(20))"
   ]
  },
  {
   "cell_type": "code",
   "execution_count": null,
   "metadata": {
    "scrolled": true
   },
   "outputs": [],
   "source": [
    "charges = np.asarray([-1, -1., -1, -1, 1, 1, 1, 1])\n",
    "coord = np.asarray([[0,0,0], [1/2,1/2,0], [1/2,0,1/2], [0,1/2,1/2],\n",
    "                           [1/2,1/2,1/2], [1/2,0,0], [0,1/2,0],[0,0,1/2]])\n",
    "\n",
    "E = Ewald(charges, (0,1), 0.1, 0.5, 1, 1)\n",
    "\n",
    "fig, ax = plt.subplots(1,2,figsize=(10,5))\n",
    "a_array, pot_lr, pot_sr, pot_self, pot_total =nacl_ewald(10, 10, 10, 30,1)\n",
    "plt1,=ax[0].plot(a_array, pot_lr, label=\"$\\phi_{LR}$\")\n",
    "plt2,=ax[0].plot(a_array, pot_sr, label=\"$\\phi_{SR}$\")\n",
    "plt3,=ax[0].plot(a_array, -pot_self, label=\"$\\phi_{self}$\")\n",
    "plt4,=ax[0].plot(a_array, pot_total, label=\"$\\phi_{tot}$\")\n",
    "\n",
    "circle = plt.Circle([0.5,0.5], radius=0.5, fill=False)\n",
    "box = patches.Rectangle([0,0],1,1, fill=False,linestyle='--')\n",
    "\n",
    "def update(r=2., n=1, k=1):\n",
    "    a_array, pot_lr, pot_sr, pot_self, pot_total=nacl_ewald(r, n, k, 30, 1, E)\n",
    "    plt1.set_ydata(pot_lr)\n",
    "    plt2.set_ydata(pot_sr)\n",
    "    plt4.set_ydata(pot_total)\n",
    "    fig.canvas.draw()\n",
    "    \n",
    "    ax[1].clear()\n",
    "    circle.radius = r\n",
    "    ax[1].add_patch(circle)\n",
    "    ax[1].add_patch(box)\n",
    "    n_array = np.mgrid[-n:n+1,-n:n+1].reshape(2,-1).T\n",
    "    na_coord = np.asarray([[0,1/2],[1/2,0],[1,1/2],[1/2,1]])\n",
    "    na_coord = (n_array[:,None,None] + na_coord).reshape(-1,2)\n",
    "    cl_coord = np.asarray([[0,0],[0,1],[1,0],[1,1],[1/2,1/2]])\n",
    "    cl_coord = (n_array[:,None,None] + cl_coord).reshape(-1,2)\n",
    "    ax[1].scatter(na_coord[:,0],na_coord[:,1],s=20*min(1/n,1/r))\n",
    "    ax[1].scatter(cl_coord[:,0],cl_coord[:,1],s=20*min(1/n,1/r))\n",
    "    fig.canvas.draw()\n",
    "\n",
    "ax[0].set_xlabel(r'$\\alpha$')\n",
    "ax[0].set_title(r'Ewald potentials V splitting param. $\\alpha$')\n",
    "ax[0].legend()\n",
    "ax[1].set_aspect('equal')\n",
    "w=interact(update,\n",
    "        r=widgets.FloatSlider(min=0.5,max=10,step=0.25,value=0.5,continuous_update=False),\n",
    "        k=widgets.IntSlider(min=1,max=10,step=1,value=1,continuous_update=False),\n",
    "        n=widgets.IntSlider(min=1,max=10,step=1,value=1,continuous_update=False));"
   ]
  },
  {
   "cell_type": "code",
   "execution_count": null,
   "metadata": {
    "scrolled": false
   },
   "outputs": [],
   "source": [
    "E.params = 1, 2, 1,10\n",
    "charges = np.asarray([-1, -1., -1, -1, 1, 1, 1, 1])\n",
    "coord = np.asarray([[0.05,0,0], [1/2,1/2,0], [1/2,0,1/2], [0,1/2,1/2],\n",
    "                           [1/2,1/2,1/2], [1/2,0,0], [0,1/2,0],[0,0,1/2]])\n",
    "\n",
    "\n",
    "def update(r=0.5, k=1, n=1, alpha=0.1):\n",
    "    ax.clear()\n",
    "    E.params = alpha, r, n, k\n",
    "    force = E.force(coord)\n",
    "    na_force = np.asarray([force[5],force[6]])\n",
    "    cl_force = np.asarray([force[0],force[1],force[0]])\n",
    "    ax.set_xlim((-1,2))\n",
    "    ax.set_ylim((-1,2))\n",
    "    n_array = np.mgrid[-n:n+1,-n:n+1].reshape(2,-1).T\n",
    "    na_coord = np.asarray([[1/2, 0],[0,1/2]])\n",
    "    cl_coord = np.asarray([[0, 0],[1/2, 1/2],[1,0]])\n",
    "    na_coord = (n_array[:,None,None] + na_coord).reshape(-1,2)\n",
    "    cl_coord = (n_array[:,None,None] + cl_coord).reshape(-1,2)\n",
    "    na_force = (np.zeros_like(n_array)[:,None,None] + na_force[:,:2]).reshape(-1,2)\n",
    "    cl_force = (np.zeros_like(n_array)[:,None,None] + cl_force[:,:2]).reshape(-1,2)\n",
    "    ax.quiver(na_coord[:,0],na_coord[:,1],na_force[:,0],na_force[:,1],angles='xy')\n",
    "    ax.quiver(cl_coord[:,0],cl_coord[:,1],cl_force[:,0],cl_force[:,1],angles='xy')\n",
    "    ax.scatter(na_coord[:,0],na_coord[:,1])\n",
    "    ax.scatter(cl_coord[:,0],cl_coord[:,1])\n",
    "    fig.canvas.draw()\n",
    "\n",
    "\n",
    "fig, ax = plt.subplots()\n",
    "plt.xlim((-1.5,2))\n",
    "plt.ylim((-1.5,2))\n",
    "ax.set_aspect(\"equal\")\n",
    "\n",
    "w=interact(update,\n",
    "        r=widgets.FloatSlider(min=1,max=10,step=0.25,value=0.5,continuous_update=False),\n",
    "        k=widgets.IntSlider(min=1,max=10,step=1,value=1,continuous_update=False),\n",
    "        n=widgets.IntSlider(min=1,max=10,step=1,value=1,continuous_update=False),\n",
    "        alpha=widgets.FloatSlider(min=0.1, max=10, step=0.1, value=0.1, continuous_update=False));"
   ]
  },
  {
   "cell_type": "markdown",
   "metadata": {},
   "source": [
    "# Optimization using gradient descent on NaCl with one of the Na+ ions being initially displaced"
   ]
  },
  {
   "cell_type": "code",
   "execution_count": null,
   "metadata": {},
   "outputs": [],
   "source": [
    "E.params = (1, 3, 3, 5) #set Ewald parameters to ones, which were seen to be appropriate for NaCl\n",
    "charges = np.asarray([-1, -1., -1, -1, 1, 1, 1, 1])\n",
    "E = Ewald(charges, (0,1), 5, 3, 4, 4)\n",
    "coord = np.asarray([[0.2,0,0], [1/2,1/2,0], [1/2,0,1/2], [0,1/2,1/2],\n",
    "                           [1/2,1/2,1/2], [1/2,0,0], [0,1/2,0],[0,0,1/2]])#first x-coordinate is slightly displaced\n",
    "n_array = np.mgrid[-2:3,-2:3,-2:3].reshape(3,-1).T\n",
    "lj_pot = potentials.potentials.LJ_cut\n",
    "lj_grad = potentials.gradients.LJ_cut\n",
    "def grad(coord, boxsize=(0,1), pbc=True):\n",
    "    L = boxsize[1] - boxsize[0]\n",
    "    vecs = L*n_array[:,None,None] - vectors(coord, boxsize)\n",
    "    gradient = np.zeros_like(coord)\n",
    "    for v in vecs:\n",
    "        gradient+=lj_grad(v, sig=1/4)\n",
    "    return -E.force(coord) + gradient\n",
    "def pot(coord, pbc=True,  boxsize=(0,1)):\n",
    "    L = boxsize[1] - boxsize[0]\n",
    "    vecs = L*n_array[:,None, None] - vectors(coord, boxsize)\n",
    "    dist = distances(vecs)\n",
    "    potential = 0\n",
    "    for d in dist:\n",
    "        potential+=np.sum(lj_pot(d, sig=1/4))\n",
    "    return E.pot(coord)  + potential"
   ]
  },
  {
   "cell_type": "code",
   "execution_count": null,
   "metadata": {},
   "outputs": [],
   "source": [
    "r_matrix, steps = descent(coord, grad, maxst=5000, boxsize=(0,1), pbc=True, save_config=True)\n",
    "pot_energy = np.asarray([pot(r) for r in r_matrix])"
   ]
  },
  {
   "cell_type": "code",
   "execution_count": null,
   "metadata": {
    "scrolled": false
   },
   "outputs": [],
   "source": [
    "fig = plt.figure(figsize=plt.figaspect(0.5))\n",
    "ax = fig.add_subplot(121, projection='3d')\n",
    "n_array2 = np.mgrid[-1:2,-1:2,-1:2].reshape(3,-1).T\n",
    "colors = np.asarray(len(n_array2)*[-1, -1., -1, -1, 1, 1, 1, 1])\n",
    "data = (coord + n_array2[:, None, None]).reshape(-1,3)\n",
    "scat = ax.scatter(data[:,0],data[:,1], data[:,2],c=colors)\n",
    "ax.set_xlim(-1,1.5)\n",
    "ax.set_ylim(-0.5,2)\n",
    "ax.set_zlim(-0.5,2)\n",
    "ax2 = fig.add_subplot(122)\n",
    "ax2.set_title(\"Total potential energy v step of optimization\")\n",
    "scat2 = ax2.scatter(0, pot_energy[0], c=\"red\",zorder=10)\n",
    "line =ax2.plot(pot_energy,zorder=5)\n",
    "def animate(i):\n",
    "    index = 4*i\n",
    "    data = (r_matrix[index]+n_array2[:,None,None]).reshape(-1,3)\n",
    "    scat._offsets3d=(data[:,0],data[:,1],data[:,2])\n",
    "    scat2.set_offsets([index, pot_energy[index]])\n",
    "    return scat,\n",
    "\n",
    "#Writer = animation.writers['ffmpeg']\n",
    "#writer = Writer(fps=25, bitrate=1800)\n",
    "anim = animation.FuncAnimation(fig, animate, interval=50)\n",
    "#anim.save('LJ_Harmonic_Particles.mp4', writer=writer)"
   ]
  },
  {
   "cell_type": "markdown",
   "metadata": {},
   "source": [
    "# MCMC on NaCl with one of the Na+ ions being initially displaced with $\\beta$=100"
   ]
  },
  {
   "cell_type": "code",
   "execution_count": null,
   "metadata": {},
   "outputs": [],
   "source": [
    "r_matrix= mcmc(pot, 8, 3, 10000, 0.01, beta=100, boxsize=(0,1),pbc=True, save_config=True, init_config = None)\n",
    "pot_energy = np.asarray([pot(r) for r in r_matrix])"
   ]
  },
  {
   "cell_type": "code",
   "execution_count": null,
   "metadata": {},
   "outputs": [],
   "source": [
    "print(max(pot_energy))\n",
    "fig = plt.figure(figsize=plt.figaspect(0.5))\n",
    "ax = fig.add_subplot(121, projection='3d')\n",
    "n_array2 = np.mgrid[-1:2,-1:2,-1:2].reshape(3,-1).T\n",
    "colors = np.asarray(len(n_array2)*[-1, -1., -1, -1, 1, 1, 1, 1])\n",
    "data = (coord + n_array2[:, None, None]).reshape(-1,3)\n",
    "scat = ax.scatter(data[:,0],data[:,1], data[:,2], c=colors)\n",
    "ax.set_xlim(0,1)\n",
    "ax.set_ylim(0,1)\n",
    "ax.set_zlim(0,1)\n",
    "ax2 = fig.add_subplot(122)\n",
    "ax2.set_title(\"Total potential energy v step of optimization\")\n",
    "scat2 = ax2.scatter(0, pot_energy[0], c=\"red\",zorder=10)\n",
    "line =ax2.plot(pot_energy,zorder=5)\n",
    "def animate(i):\n",
    "    index = 4*i\n",
    "    data = (r_matrix[index]+n_array2[:,None,None]).reshape(-1,3)\n",
    "    scat._offsets3d=(data[:,0],data[:,1],data[:,2])\n",
    "    scat2.set_offsets([index, pot_energy[index]])\n",
    "    return scat,\n",
    "\n",
    "#Writer = animation.writers['ffmpeg']\n",
    "#writer = Writer(fps=25, bitrate=1800)\n",
    "anim = animation.FuncAnimation(fig, animate, interval=50)\n",
    "#anim.save('LJ_Harmonic_Particles.mp4', writer=writer)"
   ]
  },
  {
   "cell_type": "markdown",
   "metadata": {},
   "source": [
    "# Crystal dynamics of displaced NaCl, using Velocity Verlet integrator"
   ]
  },
  {
   "cell_type": "code",
   "execution_count": null,
   "metadata": {},
   "outputs": [],
   "source": [
    "r_matrix, v_matrix, a_matrix = vv(grad, coord, np.zeros_like(coord), 1, 1, 0.001, boxsize=(0,1), pbc=True)\n",
    "pot_energy = np.asarray([pot(r) for r in r_matrix])"
   ]
  },
  {
   "cell_type": "code",
   "execution_count": null,
   "metadata": {},
   "outputs": [],
   "source": [
    "fig = plt.figure(figsize=plt.figaspect(0.5))\n",
    "ax = fig.add_subplot(121, projection='3d')\n",
    "n_array = np.mgrid[-1:2,-1:2,-1:2].reshape(3,-1).T\n",
    "colors = np.asarray(len(n_array2)*[-1, -1., -1, -1, 1, 1, 1, 1])\n",
    "data = (coord + n_array2[:, None, None]).reshape(-1,3)\n",
    "scat = ax.scatter(data[:,0],data[:,1], data[:,2], c=colors)\n",
    "ax.set_xlim(0,1)\n",
    "ax.set_ylim(0,1)\n",
    "ax.set_zlim(0,1)\n",
    "ax2 = fig.add_subplot(122)\n",
    "ax2.set_title(\"Total potential energy v step of optimization\")\n",
    "scat2 = ax2.scatter(0, pot_energy[0], c=\"red\",zorder=10)\n",
    "line =ax2.plot(pot_energy,zorder=5)\n",
    "def animate(i):\n",
    "    index = 4*i\n",
    "    data = (r_matrix[index]+n_array2[:,None,None]).reshape(-1,3)\n",
    "    scat._offsets3d=(data[:,0],data[:,1],data[:,2])\n",
    "    scat2.set_offsets([index, pot_energy[index]])\n",
    "    return scat,\n",
    "\n",
    "#Writer = animation.writers['ffmpeg']\n",
    "#writer = Writer(fps=25, bitrate=1800)\n",
    "anim = animation.FuncAnimation(fig, animate, interval=50)\n",
    "#anim.save('LJ_Harmonic_Particles.mp4', writer=writer)"
   ]
  },
  {
   "cell_type": "code",
   "execution_count": null,
   "metadata": {},
   "outputs": [],
   "source": [
    "def ewald(E, coord, r_cutoff, n_max, k_cutoff, max_a, step_a):\n",
    "    a_array = np.arange(0.1, max_a, step_a)\n",
    "    pot_lr, pot_sr, pot_self = np.zeros_like(a_array), np.zeros_like(a_array), np.zeros_like(a_array)\n",
    "    for i in range(len(a_array)):\n",
    "        E.params = (a_array[i], r_cutoff, n_max, k_cutoff)\n",
    "        pot_lr[i] = E.pot_lr(coord)\n",
    "        pot_sr[i] = E.pot_sr(coord)\n",
    "        pot_self[i] = E.pot_self()\n",
    "    pot_total = pot_lr + pot_sr - pot_self\n",
    "    return np.asarray([a_array, pot_lr, pot_sr, pot_self, pot_total])"
   ]
  },
  {
   "cell_type": "code",
   "execution_count": null,
   "metadata": {
    "scrolled": false
   },
   "outputs": [],
   "source": [
    "N = 10\n",
    "boxsize = (0, 1)\n",
    "L = boxsize[1] - boxsize[0]\n",
    "coord = L*np.random.uniform(size=(N, 3))\n",
    "charges = np.asarray(int(N/2)*[1,-1])\n",
    "\n",
    "E = Ewald(charges, boxsize, 1, 5, 7, 7)\n",
    "print(E.pot(coord))\n",
    "\n",
    "def update(r=0.5, k=1, n=1):\n",
    "    a_array, pot_lr, pot_sr, pot_self, pot_total=ewald(E,coord,r, n, k, 5, .1)\n",
    "    plt1.set_ydata(pot_lr)\n",
    "    plt2.set_ydata(pot_sr)\n",
    "    plt4.set_ydata(pot_total)\n",
    "    fig.canvas.draw()\n",
    "\n",
    "fig = plt.figure(figsize=plt.figaspect(0.5))\n",
    "ax = fig.add_subplot(121)\n",
    "a_array, pot_lr, pot_sr, pot_self, pot_total =ewald(E,coord,5, 2, 3, 5,.1)\n",
    "plt1,=ax.plot(a_array, pot_lr, label=\"$\\phi_{LR}$\")\n",
    "plt2,=ax.plot(a_array, pot_sr, label=\"$\\phi_{SR}$\")\n",
    "plt3,=ax.plot(a_array, -pot_self, label=\"$\\phi_{self}$\")\n",
    "plt4,=ax.plot(a_array, pot_total, label=\"$\\phi_{tot}$\")\n",
    "ax.set_xlabel(r'$\\alpha$')\n",
    "ax.set_title(r'Ewald potentials V splitting param. $\\alpha$')\n",
    "ax.legend()\n",
    "ax2 = fig.add_subplot(122, projection='3d')\n",
    "ax2.scatter(coord[:,0],coord[:,1],coord[:,2], c=charges)\n",
    "plt.show()\n",
    "\n",
    "w=interact(update,\n",
    "r=widgets.FloatSlider(min=1,max=50,step=0.25,value=5,continuous_update=False),\n",
    "k=widgets.IntSlider(min=1,max=30,step=1,value=7,continuous_update=False),\n",
    "n=widgets.IntSlider(min=1,max=30,step=1,value=7,continuous_update=False))"
   ]
  },
  {
   "cell_type": "code",
   "execution_count": null,
   "metadata": {},
   "outputs": [],
   "source": []
  }
 ],
 "metadata": {
  "kernelspec": {
   "display_name": "Python 3",
   "language": "python",
   "name": "python3"
  },
  "language_info": {
   "codemirror_mode": {
    "name": "ipython",
    "version": 3
   },
   "file_extension": ".py",
   "mimetype": "text/x-python",
   "name": "python",
   "nbconvert_exporter": "python",
   "pygments_lexer": "ipython3",
   "version": "3.7.2"
  }
 },
 "nbformat": 4,
 "nbformat_minor": 2
}
