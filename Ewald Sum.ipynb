{
 "cells": [
  {
   "cell_type": "code",
   "execution_count": null,
   "metadata": {},
   "outputs": [],
   "source": [
    "import numpy as np\n",
    "import matplotlib.pyplot as plt\n",
    "from numba import jit\n",
    "import potentials\n",
    "from distances import *\n",
    "from scipy.special import erfc\n",
    "from matplotlib.widgets import Slider, Button, RadioButtons"
   ]
  },
  {
   "cell_type": "code",
   "execution_count": null,
   "metadata": {},
   "outputs": [],
   "source": [
    "boxsize = (0, 1)\n",
    "L = boxsize[1] - boxsize[0]"
   ]
  },
  {
   "cell_type": "code",
   "execution_count": null,
   "metadata": {},
   "outputs": [],
   "source": [
    "class Ewald(object):\n",
    "    def __init__(self, charges, boxsize,alpha, r_cutoff, n_max, k_cutoff, accuracy):\n",
    "        #probably includes redundant parameters, will remove some in the future\n",
    "        self.boxsize = boxsize\n",
    "        self.L = boxsize[1] - boxsize[0]\n",
    "        self.vol = self.L**3\n",
    "        self.a = alpha\n",
    "        self.rc = r_cutoff\n",
    "        self.kc = k_cutoff\n",
    "        self.e = accuracy\n",
    "        self.q = charges\n",
    "        self.k_array = np.asarray([[i,j, k] for i in range(int(k_cutoff)+1) \n",
    "                                   for j in range(int((k_cutoff**2-i**2)**(1/2))+1)\n",
    "                                   for k in range(int((k_cutoff**2-i**2-j**2)**(1/2)+1)) if (i,j,k)!=(0,0,0)])\n",
    "        self.k_array = np.concatenate([[i,j,k]*self.k_array for i in [-1, 1] for j in [-1, 1] for k in [-1, 1]])\n",
    "        self.n_array = np.asarray([[i*L, j*L, k*L] \n",
    "                                   for i in range(-n_max, n_max+1) \n",
    "                                   for j in range(-n_max, n_max+1) \n",
    "                                   for k in range(-n_max, n_max+1)])\n",
    "        \n",
    "    def image_dvec(self, dvec, index_array):\n",
    "        #return np.asarray([dvec + [self.L*i, self.L*j] for i in index_array for j in index_array])\n",
    "        #creates particle-particle distance vectors for particle images in an order determined by index_array\n",
    "        return np.asarray([dvec + [self.L*i, self.L*j, self.L*k] for i in index_array for j in index_array for k in index_array])\n",
    "    \n",
    "    def pot_sr(self, coord):\n",
    "        #index_array = [0, -1, 1] #determines order of the image cells\n",
    "        i_dvec = self.n_array[:,None,None]-vectors(coord, self.boxsize)\n",
    "        #i_dvec = self.image_dvec(-vectors(coord, self.boxsize), index_array) #creates particle-particle vectors, including images\n",
    "        dist = distances(i_dvec) #calculates the pairwise particle distances, including images\n",
    "        mask = dist>=self.rc #particle-particle interactions are ignored if interparticle distance exceeds cutoff radius\n",
    "        dist = np.ma.masked_array(dist, dist==0) #division by zero is prevented\n",
    "        dist_ma = np.ma.masked_array(dist, mask) #applies cutoff mask to distance matrix\n",
    "        return np.sum(self.q*np.ma.sum(1/2*self.q[None,:]*1/dist_ma*erfc(self.a*dist_ma), axis=(-1,0)))   \n",
    "    \n",
    "    def S(self,coord):\n",
    "        #calculates the absolute squared of S(k) (structure factor inside imaginary part of Ewald sum)\n",
    "        k_r = np.tensordot(self.k_array,coord, axes=(-1, -1)) #calculates the scalar product of all k-vectors with the position vectors k_r[i,j] = dot(k[i],r[j]) \n",
    "        s_re = np.tensordot(self.q, np.cos(2*np.pi*k_r), axes=(-1, -1))\n",
    "        s_im = np.tensordot(self.q, np.sin(2*np.pi*k_r), axes=(-1, -1))\n",
    "        return s_re**2 + s_im**2\n",
    "        \n",
    "    def pot_lr(self, coord):\n",
    "        #long-ranged potential that is calculated in reciprocal space. Cutoff is defined by k_cutoff (see init)\n",
    "        k_abs = np.linalg.norm(self.k_array,axis=-1)\n",
    "        return 1/(2*np.pi*self.vol)*np.sum((np.exp(-(np.pi*k_abs/self.a)**2)/k_abs**2)*self.S(coord))\n",
    "    \n",
    "    def pot_self(self):\n",
    "        #self-interaction potential, that has to be corrected for in the Ewald sum\n",
    "        return self.a/np.sqrt(np.pi)*np.linalg.norm(self.q)**2\n",
    "    \n",
    "    def pot(self, coord):\n",
    "        return np.ma.sum((self.pot_sr(coord),self.pot_lr(coord), - self.pot_self()))\n",
    "        \n",
    "        "
   ]
  },
  {
   "cell_type": "code",
   "execution_count": null,
   "metadata": {},
   "outputs": [],
   "source": [
    "def nacl_ewald(r_cutoff, n_max, k_cutoff):\n",
    "    charges = np.asarray([-1, -1., -1, -1, 1, 1, 1, 1])\n",
    "    coord =np.asarray([[0,0,0], [1/2,1/2,0], [1/2,0,1/2], [0,1/2,1/2],\n",
    "                       [1/2,1/2,1/2], [1/2,0,0], [0,1/2,0],[0,0,1/2]])\n",
    "    a_array = np.arange(0.1, 5, 0.1)\n",
    "    E_array = [Ewald(charges,(0,1),a_i,r_cutoff, n_max, k_cutoff, 1e-10) for a_i in a_array]\n",
    "    pot_lr = np.asarray([E.pot_lr(coord) for E in E_array])\n",
    "    pot_sr = np.asarray([E.pot_sr(coord) for E in E_array])\n",
    "    pot_self = [E.pot_self() for E in E_array]\n",
    "    pot_total = pot_lr + pot_sr - pot_self\n",
    "    return a_array, pot_lr, pot_sr, pot_self, pot_total"
   ]
  },
  {
   "cell_type": "code",
   "execution_count": null,
   "metadata": {},
   "outputs": [],
   "source": [
    "a_array, pot_lr, pot_sr, pot_self, pot_total =nacl_ewald(10, 10, 10)"
   ]
  },
  {
   "cell_type": "code",
   "execution_count": null,
   "metadata": {},
   "outputs": [],
   "source": [
    "fig, ax = plt.subplots(figsize=(16,9))\n",
    "ax.plot(a_array, pot_lr, label=\"$\\phi_{LR}$\")\n",
    "ax.plot(a_array, pot_sr, label=\"$\\phi_{SR}$\")\n",
    "ax.plot(a_array, pot_self, label=\"$\\phi_{self}$\")\n",
    "ax.plot(a_array, pot_total, label=\"$\\phi_{tot}$\")\n",
    "ax.legend(fontsize=25)\n",
    "plt.show()\n",
    "print(\"Madelung's constant from Ewald:\",np.sum(pot_total[12:]/len(pot_total[12:])/8))\n",
    "print(\"Madelung's constant from liter:\",-1.7475645946331821)"
   ]
  },
  {
   "cell_type": "code",
   "execution_count": null,
   "metadata": {},
   "outputs": [],
   "source": []
  }
 ],
 "metadata": {
  "kernelspec": {
   "display_name": "Python 3",
   "language": "python",
   "name": "python3"
  },
  "language_info": {
   "codemirror_mode": {
    "name": "ipython",
    "version": 3
   },
   "file_extension": ".py",
   "mimetype": "text/x-python",
   "name": "python",
   "nbconvert_exporter": "python",
   "pygments_lexer": "ipython3",
   "version": "3.7.2"
  }
 },
 "nbformat": 4,
 "nbformat_minor": 2
}
