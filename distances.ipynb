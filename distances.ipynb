{
 "cells": [
  {
   "cell_type": "markdown",
   "metadata": {},
   "source": [
    "# Distances"
   ]
  },
  {
   "cell_type": "markdown",
   "metadata": {},
   "source": [
    "### TO DISCUSS:\n",
    "####  1) At what point will we turn distances > cutoff into NaN values?\n",
    "####  2) What units will we use (length, time, energy...)?\n",
    "####  3) Which variables should be globalized?\n",
    "####  4) Forget about symmetrization?\n",
    "####  5) Plotting with respect to PBC is an actual piece of work (include acceleration vectors) \n",
    "\n",
    "\n",
    "\n",
    "\n",
    "### NOTES TO SELF:\n",
    "#### 1) The largest possible distance between two points with PBC is   $\\Large \\frac{Boxlength}{\\sqrt{2}}$\n"
   ]
  },
  {
   "cell_type": "code",
   "execution_count": null,
   "metadata": {},
   "outputs": [],
   "source": [
    "import numpy as np\n",
    "import random"
   ]
  },
  {
   "cell_type": "code",
   "execution_count": null,
   "metadata": {},
   "outputs": [],
   "source": [
    "#random (grid-)position sampler in a box with side length max_a\n",
    "max_a = 5\n",
    "min_a = 0\n",
    "#Number of gridpoints per axis\n",
    "n_grid_x = 300\n",
    "n_grid_y = 300\n",
    "#Array with all possible x/y gridpoints, on which positions will be sampled\n",
    "possible_x, possible_y = np.linspace(min_a,max_a,n_grid_x+1), np.linspace(min_a,max_a,n_grid_y+1)\n",
    "#number of randomly sampled particles on grid points\n",
    "n_atoms = 10\n",
    "coord = np.array([[random.choice(possible_x),random.choice(possible_y)] for i in range(0,n_atoms)])"
   ]
  },
  {
   "cell_type": "code",
   "execution_count": null,
   "metadata": {},
   "outputs": [],
   "source": [
    "#The following function computes connecting vectors between particles with or without respect to PBC\n",
    "#INPUT: coordinate array of particles of shape (n,2)\n",
    "#OUTPUT: array of connecting vectors of all particles of shape (n,n,2)\n",
    "def vectors(coord, pbc=False):\n",
    "    vecs = coord[:, None, :] - coord[None, :, :]\n",
    "    if not pbc:\n",
    "        return vecs\n",
    "    elif pbc:\n",
    "        vecs += (vecs<-0.5*max_a)*max_a - (vecs>0.5*max_a)*max_a\n",
    "        return vecs\n",
    "    \n",
    "#Euclidean distance calculator\n",
    "#INPUT: array of connecting vectors of all particles of shape (n,n,2)\n",
    "#OUTPUT: array of distances between all particles of shape (n,n)\n",
    "def distances(vectors):\n",
    "    return np.linalg.norm(vectors,axis=-1)\n",
    "\n",
    "#Normalized vectors are needed for the integrator to calculate forces\n",
    "#This function will normalize the list of connecting vectors obtained from function 'vectors'\n",
    "\n",
    "#INPUT: array of connecting vectors of all particles of shape (n,n,2) and the norm of all those vectors of shape (n,n)\n",
    "#OUTPUT: array of normalized connecting vectors of all particles of shape (n,n,2)\n",
    "def normalize(vectors,distances):\n",
    "    #set all elements with zero distance to 1 to calculate the norm (avoid ZeroDivisionError)\n",
    "    return vectors/((distances==0)*1 + distances)[:,:,None]"
   ]
  },
  {
   "cell_type": "code",
   "execution_count": null,
   "metadata": {},
   "outputs": [],
   "source": [
    "vecs = vectors(coord,pbc=True)\n",
    "dist = distances(vecs)\n",
    "print(distances(normalize(vecs,dist)))"
   ]
  },
  {
   "cell_type": "code",
   "execution_count": null,
   "metadata": {},
   "outputs": [],
   "source": []
  },
  {
   "cell_type": "code",
   "execution_count": null,
   "metadata": {},
   "outputs": [],
   "source": []
  },
  {
   "cell_type": "code",
   "execution_count": null,
   "metadata": {},
   "outputs": [],
   "source": []
  },
  {
   "cell_type": "code",
   "execution_count": null,
   "metadata": {},
   "outputs": [],
   "source": []
  },
  {
   "cell_type": "code",
   "execution_count": null,
   "metadata": {},
   "outputs": [],
   "source": []
  },
  {
   "cell_type": "code",
   "execution_count": null,
   "metadata": {},
   "outputs": [],
   "source": []
  }
 ],
 "metadata": {
  "kernelspec": {
   "display_name": "Python 3",
   "language": "python",
   "name": "python3"
  },
  "language_info": {
   "codemirror_mode": {
    "name": "ipython",
    "version": 3
   },
   "file_extension": ".py",
   "mimetype": "text/x-python",
   "name": "python",
   "nbconvert_exporter": "python",
   "pygments_lexer": "ipython3",
   "version": "3.7.2"
  }
 },
 "nbformat": 4,
 "nbformat_minor": 2
}
