{
 "cells": [
  {
   "cell_type": "code",
   "execution_count": 1,
   "metadata": {},
   "outputs": [],
   "source": [
    "import numpy as np"
   ]
  },
  {
   "cell_type": "code",
   "execution_count": 2,
   "metadata": {},
   "outputs": [],
   "source": [
    "def coulomb(dist, q, eps0=1):\n",
    "    dist[dist!=0] = 1/dist[dist!=0]\n",
    "    pot = 1/(4*np.pi*eps0) * np.dot(dist, q)\n",
    "    return pot"
   ]
  },
  {
   "cell_type": "code",
   "execution_count": 5,
   "metadata": {},
   "outputs": [],
   "source": [
    "def LJ(dist, eps, sig):\n",
    "    dist[dist!=0] = 1/dist[dist!=0]\n",
    "    pot_rep = np.dot(np.mult(eps,sig**12),dist**12) \n",
    "    pot_atr = np.dot(np.mult(eps,sig**6),dist**6)\n",
    "    pot = pot_rep - pot_atr\n",
    "    return pot"
   ]
  },
  {
   "cell_type": "code",
   "execution_count": 6,
   "metadata": {},
   "outputs": [],
   "source": [
    "def harmonic(r, r0, k):\n",
    "    return k*(r - r0)"
   ]
  },
  {
   "cell_type": "code",
   "execution_count": null,
   "metadata": {},
   "outputs": [],
   "source": []
  }
 ],
 "metadata": {
  "kernelspec": {
   "display_name": "Python 3",
   "language": "python",
   "name": "python3"
  },
  "language_info": {
   "codemirror_mode": {
    "name": "ipython",
    "version": 3
   },
   "file_extension": ".py",
   "mimetype": "text/x-python",
   "name": "python",
   "nbconvert_exporter": "python",
   "pygments_lexer": "ipython3",
   "version": "3.7.2"
  }
 },
 "nbformat": 4,
 "nbformat_minor": 2
}
