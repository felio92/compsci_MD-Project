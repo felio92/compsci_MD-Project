{
 "cells": [
  {
   "cell_type": "markdown",
   "metadata": {},
   "source": [
    "# Integrator\n",
    "\n",
    "## Euler method\n",
    "\n",
    "- is a first-order numerical procedure for solving ordinary differential equations (ODEs) with a given initial value\n",
    "- approximating the integral with the finite sum \n",
    "- by the Taylor expansion, the quadratic and higher-order terms are ignored\n",
    "\n",
    "Approximation \n",
    "$$ x(t+\\tau)=x(t)+\\tau\\, v(t)\\\\\n",
    "v(t+\\tau)=v(t)+\\tau\\, a(t)=v(t)-\\frac{\\tau}{m}\\,\\nabla\\phi(x(t)) \\\\\n",
    "\\text{with}\\,\\, v= \\frac{\\partial x}{\\partial t}; \\,\\, \\text{and}\\,\\, a=\\frac{F}{m}=-\\frac{1}{m}\\nabla \\phi(x(t))$$\n",
    "\n",
    "### Goals\n",
    "- setup of the algorithm \n",
    "    - parameters  \n",
    "    - inputs\n",
    "- timing\n",
    "- 1D, 2D and 3D distinction\n",
    "- vectorization\n",
    "- testing\n",
    "    - ZeroDivisionError, NameError and TypeErrorn ValueError, Type,Error, RuntimeError, IOError\n",
    "    - functionality\n",
    "    - ??\n",
    "- visualisation\n",
    "    - timing\n",
    "    - stability\n",
    "    - ??"
   ]
  },
  {
   "cell_type": "markdown",
   "metadata": {},
   "source": [
    "### setup of the algorithm\n",
    "- import packages\n",
    "- define function with its inputs\n",
    "    - (function): potential gradient \n",
    "    - (parameter): mass\n",
    "    - (functionality): size (number of time steps), time step, initial configuration, initial velocity\n",
    "- creating positiion and velocity container (vector, array, np. zeros ??)\n",
    "- initialization by adding the start configuration\n",
    "- time iteration \n",
    "    - euler approximation\n",
    "    - write in pos and vel container\n",
    "- returning position and velocety container\n"
   ]
  },
  {
   "cell_type": "code",
   "execution_count": null,
   "metadata": {},
   "outputs": [],
   "source": [
    "%matplotlib notebook\n",
    "import numpy as np\n",
    "import timeit\n",
    "import matplotlib.pyplot as plt\n",
    "from matplotlib import animation, rc\n",
    "from IPython.display import HTML"
   ]
  },
  {
   "cell_type": "code",
   "execution_count": null,
   "metadata": {},
   "outputs": [],
   "source": [
    "# wehmeyer\n",
    "def eulerW(potential_gradient, size=100, x_init=1.0, v_init=0.0, mass=1.0, time_step=0.005):\n",
    "    x, v = np.zeros(size), np.zeros(size)\n",
    "    x[0], v[0] = x_init, v_init\n",
    "    for i in range(1, size):\n",
    "        x[i] = x[i - 1] + time_step * v[i - 1]\n",
    "        v[i] = v[i - 1] - time_step * potential_gradient(x[i - 1]) / mass\n",
    "    return x, v\n",
    "\n",
    "def potential_gradient(x):\n",
    "    return x\n",
    "\n",
    "#timeit.timeit(eulerW, number= 100) # geht nicht warum?"
   ]
  },
  {
   "cell_type": "markdown",
   "metadata": {},
   "source": [
    "#### open system"
   ]
  },
  {
   "cell_type": "code",
   "execution_count": null,
   "metadata": {},
   "outputs": [],
   "source": [
    "def potential_gradient(p, k=10):\n",
    "    return k*p"
   ]
  },
  {
   "cell_type": "code",
   "execution_count": null,
   "metadata": {},
   "outputs": [],
   "source": [
    "def eulerJ(potential_gradient, position_init, velocity_init, mass, T, time_step):\n",
    "    size = int(T/time_step)  # number of time steps\n",
    "    n = len(position_init)   # number of particles\n",
    "    dim = position_init.shape[-1]\n",
    "    m = mass\n",
    "    #print(n)\n",
    "    # creating positiion and velocity container\n",
    "    position_matrix, velocity_matrix, acceleration_matrix = np.zeros((size, n, dim)), np.zeros((size, n, dim)), np.zeros((size, n, dim))\n",
    "    # initialization by adding the start configuration\n",
    "    position_matrix[0], velocity_matrix[0], acceleration_matrix[0] = position_init, velocity_init, - 1/m *potential_gradient(position_init)\n",
    "    # time iteration\n",
    "    for t in range(1, size):\n",
    "        # rename # kostet das rechenleistung ? bennenung lieber von anfang anders?\n",
    "        p = position_matrix[t-1]\n",
    "        v = velocity_matrix[t-1]\n",
    "        a = acceleration_matrix[t]\n",
    "        gp = potential_gradient(p)\n",
    "        # euler approximation\n",
    "        p_new = p + time_step*v\n",
    "        #print(v,gp)\n",
    "        v_new = v - time_step/m * gp\n",
    "        a = - potential_gradient(p_new)/m\n",
    "        # write in pos and vel container\n",
    "        position_matrix[t], velocity_matrix[t], acceleration_matrix[t] = p_new, v_new, a\n",
    "    # returning position and velocety container\n",
    "    return position_matrix, velocity_matrix, acceleration_matrix\n",
    "\n",
    "#%line_profiler"
   ]
  },
  {
   "cell_type": "code",
   "execution_count": null,
   "metadata": {},
   "outputs": [],
   "source": [
    "p_0 = np.array([[1., 0., 0.], [0., 0., 0.]])\n",
    "v_0 = np.array([[100., 100., 100.], [100., 100., 100.]])\n",
    "m = np.array([[1., 1., 1.], [1., 1., 1.]])\n",
    "\n",
    "res = eulerJ(potential_gradient, p_0, v_0, m, 10, 1/100)\n",
    "res\n",
    "#print(a[0][:,0,0])\n",
    "plt.plot(res[0][:,0, 0], res[0][:,0,1])"
   ]
  },
  {
   "cell_type": "markdown",
   "metadata": {},
   "source": [
    "### closed system"
   ]
  },
  {
   "cell_type": "code",
   "execution_count": null,
   "metadata": {},
   "outputs": [],
   "source": [
    "def potential_gradient(p, k=1):\n",
    "    p_max_r = p_max - p_max/4\n",
    "    p_max_l = p_max/4\n",
    "    V_max_r = 4 * np.abs(p - p_max_r)**2*np.heaviside(p, np.abs(p - p_max_r))\n",
    "    V_max_l = 4 * np.abs(p - p_max_l)**2*np.heaviside(p, np.abs(p - p_max_l))\n",
    "    p_min_r = p_min - p_min/4\n",
    "    p_min_l = p_min/4\n",
    "    V_min_r = 4 * np.abs(p - p_min_r)**2*np.heaviside(p, np.abs(p - p_min_r))\n",
    "    V_min_l = 4 * np.abs(p - p_min_l)**2*np.heaviside(p, np.abs(p - p_min_l))\n",
    "    V = k*p\n",
    "    return V * V_max_l * V_max_r * V_min_l * V_min_r\n",
    "\n",
    "#def box_potential(p, p_max):\n",
    "    #p_r = p_max - p_max/4\n",
    "    #p_l = p_max/4\n",
    "    #V_r = 4 * np.abs(p - p_r)**2*np.heaviside(p, np.abs(p - p_l))\n",
    "    #V_l = 4 * np.abs(p - p_l)**2*np.heaviside(p, np.abs(p - p_l))\n",
    "    #return V_r + V_l\n",
    "\n",
    "\n",
    "\n",
    "#def potential_gradient(gradient, box_potential):\n",
    "    #return gradient + box_potential"
   ]
  },
  {
   "cell_type": "code",
   "execution_count": null,
   "metadata": {},
   "outputs": [],
   "source": [
    "def potential_gradient(p, p_max=5, p_min=0, k=10):\n",
    "    V = k*p\n",
    "    V_end = 0\n",
    "    if np.any(p >= p_max):\n",
    "        V_r = 5 * np.abs(p - (p_max - p_max/4)**2*np.any(p <= (p_max - p_max/4))\n",
    "        V_end = V_end + V_r\n",
    "        if np.any(p <= p_min):\n",
    "            V_l = 5 * np.abs(p - p_max/4)**2*np.any(p >= p_max/4)\n",
    "            V_end = V_end * V_l\n",
    "            V += V_end\n",
    "            print(V)\n",
    "    return V  \n",
    "p = np.array([[5],[0],[1],[4]])\n",
    "pot = potential_gradient(p)\n",
    "#plt.plot(p, pot)"
   ]
  },
  {
   "cell_type": "code",
   "execution_count": null,
   "metadata": {},
   "outputs": [],
   "source": [
    "def potential_gradient(p, p_max=5, p_min=0, k=1):\n",
    "    V = k*p\n",
    "    V_r = 2*np.abs(p*(p>=p_max) - (p_max - p_max/4)*(p>=p_max))**2\n",
    "    V_l = 2*np.abs(p*(p<=p_min) - (p_max/4)*(p<=p_min))**2\n",
    "    V = V+ V_r+ V_l \n",
    "    #print(V_l)\n",
    "    #print(V_r)\n",
    "    #print(V)\n",
    "    return V  \n",
    "#p = np.array([[5, 0, 1],[0, 1, 6],[1, 6, 0],[4, 1, 3]])\n",
    "#pot = potential_gradient(p)\n",
    "#plt.plot(p[:, 1], pot[:,1])"
   ]
  },
  {
   "cell_type": "code",
   "execution_count": null,
   "metadata": {},
   "outputs": [],
   "source": [
    "def eulerclose(potential_gradient, position_init, velocity_init, mass, T, time_step):\n",
    "    size = int(T/time_step)  # number of time steps\n",
    "    n = len(position_init)   # number of particles\n",
    "    dim = position_init.shape[-1]\n",
    "    m = mass\n",
    "    #print(n)\n",
    "    # creating positiion and velocity container\n",
    "    position_matrix, velocity_matrix, acceleration_matrix = np.zeros((size, n, dim)), np.zeros((size, n, dim)), np.zeros((size, n, dim))\n",
    "    # initialization by adding the start configuration\n",
    "    position_matrix[0], velocity_matrix[0], acceleration_matrix[0] = position_init, velocity_init, - 1/m *potential_gradient(position_init)\n",
    "    # time iteration\n",
    "    for t in range(1, size):\n",
    "        # rename # kostet das rechenleistung ? bennenung lieber von anfang anders?\n",
    "        p = position_matrix[t-1]\n",
    "        v = velocity_matrix[t-1]\n",
    "        a = acceleration_matrix[t]\n",
    "        gp = potential_gradient(p)\n",
    "        # euler approximation\n",
    "        p_new = p + time_step*v\n",
    "        v_new = v - time_step/m * gp\n",
    "        a = - potential_gradient(p_new)/m\n",
    "        # write in pos and vel container\n",
    "        position_matrix[t], velocity_matrix[t], acceleration_matrix[t] = p_new, v_new, a\n",
    "    # returning position and velocety container\n",
    "    return position_matrix, velocity_matrix, acceleration_matrix"
   ]
  },
  {
   "cell_type": "code",
   "execution_count": null,
   "metadata": {},
   "outputs": [],
   "source": [
    "# testing \n",
    "# input 2D\n",
    "p_0 = np.array([[1., 1.]])\n",
    "v_0 = np.array([[0., 0.]])\n",
    "p_max = np.array([[5., 5.]])\n",
    "p_min = np.array([[0., 0.]])\n",
    "#p_max = 5.\n",
    "m = np.array([[1., 1.]])\n",
    "# input 3D\n",
    "#p_max = np.array([[2., 3., 2.], [2., 3., 2.]])\n",
    "#p_0 = np.array([[1., 0., 0.], [0., 1., 0.]])\n",
    "#v_0 = np.array([[0., 0., 0.], [0., 0., 0.]])\n",
    "#m = np.array([[1., 1., 1.], [1., 1., 1.]])\n",
    "\n",
    "# result\n",
    "res = eulerclose(potential_gradient, p_0, v_0, m, 100, 1/10)\n",
    "res\n",
    "#print(a[0][:,0,0])\n",
    "plt.plot(res[0][:,0, 0], res[1][:,0,0])\n",
    "\n",
    "# potential\n",
    "#pot = potential_gradient(p_0)\n",
    "#plt.plot(res[2][:, 0, 1], res[0][:,0, 1])"
   ]
  },
  {
   "cell_type": "markdown",
   "metadata": {},
   "source": [
    "### periodic system"
   ]
  },
  {
   "cell_type": "code",
   "execution_count": null,
   "metadata": {},
   "outputs": [],
   "source": [
    "def potential_gradient(p,k=10):\n",
    "    return k*p"
   ]
  },
  {
   "cell_type": "code",
   "execution_count": null,
   "metadata": {},
   "outputs": [],
   "source": [
    "def eulerpbc(potential_gradient, position_init, velocity_init, mass, T, time_step, pbc=True):\n",
    "    size = int(T/time_step)  # number of time steps\n",
    "    n = len(position_init)   # number of particles\n",
    "    dim = position_init.shape[-1]\n",
    "    m = mass\n",
    "    #print(n)\n",
    "    # creating positiion and velocity container\n",
    "    position_matrix, velocity_matrix, acceleration_matrix = np.zeros((size, n, dim)), np.zeros((size, n, dim)), np.zeros((size, n, dim))\n",
    "    # initialization by adding the start configuration\n",
    "    position_matrix[0], velocity_matrix[0], acceleration_matrix[0] = position_init, velocity_init, - 1/m *potential_gradient(position_init)\n",
    "    # time iteration\n",
    "    for t in range(1, size):\n",
    "        # rename # kostet das rechenleistung ? bennenung lieber von anfang anders?\n",
    "        p = position_matrix[t-1]\n",
    "        v = velocity_matrix[t-1]\n",
    "        a = acceleration_matrix[t]\n",
    "        gp = potential_gradient(p)\n",
    "        # euler approximation\n",
    "        p_new = p + time_step*v\n",
    "        if pbc == True:\n",
    "            p_new = abs(abs(p_new) - (np.any(p_new >= p_max) or np.any(p_new <= p_min))*p_max)\n",
    "        v_new = v - time_step/m * gp\n",
    "        a = - potential_gradient(p_new)/m\n",
    "        # write in pos and vel container\n",
    "        position_matrix[t], velocity_matrix[t], acceleration_matrix[t] = p_new, v_new, a\n",
    "    # returning position and velocety container\n",
    "    return position_matrix, velocity_matrix, acceleration_matrix"
   ]
  },
  {
   "cell_type": "code",
   "execution_count": null,
   "metadata": {},
   "outputs": [],
   "source": [
    "# testing \n",
    "# input 2D\n",
    "#p_0 = np.array([[1., 0.]])\n",
    "#v_0 = np.array([[1., 0.]])\n",
    "p_max = 5.\n",
    "p_min = 0.\n",
    "#m = np.array([[1., 1.]])\n",
    "# input 3D\n",
    "#p_max = np.array([[2., 3., 2.], [2., 3., 2.]])\n",
    "p_0 = np.array([[5., 0., 0.], [0., 1., 0.]])\n",
    "v_0 = np.array([[0., 0., 0.], [0., 0., 0.]])\n",
    "m = np.array([[1., 1., 1.], [1., 1., 1.]])\n",
    "\n",
    "# result\n",
    "res = eulerpbc(potential_gradient, p_0, v_0, m, 100, 1/100)\n",
    "#res\n",
    "#print(a[0][:,0,0])\n",
    "plt.plot(res[0][:,0, 0], res[1][:,0,0])\n",
    "#print(res[0])"
   ]
  },
  {
   "cell_type": "markdown",
   "metadata": {},
   "source": [
    "### all combined"
   ]
  },
  {
   "cell_type": "code",
   "execution_count": null,
   "metadata": {},
   "outputs": [],
   "source": [
    "M = np.array([\n",
    "    [1, 2, 3],\n",
    "    [4, 5, 6],\n",
    "    [7, 8, 9]\n",
    "    ])\n",
    "print(M)\n",
    "print(type(M))\n",
    "print(type(M).__module__)"
   ]
  },
  {
   "cell_type": "code",
   "execution_count": null,
   "metadata": {},
   "outputs": [],
   "source": []
  },
  {
   "cell_type": "code",
   "execution_count": null,
   "metadata": {},
   "outputs": [],
   "source": [
    "def box_potential(p, p_max):\n",
    "    p_r = p_max - p_max/4\n",
    "    print(p_r)\n",
    "    p_l = p_max/4\n",
    "    print(p_l)\n",
    "    print(p - p_r)\n",
    "    V_r = 4 * np.abs(p - p_r)**2*np.heaviside(p, np.abs(p - p_l))\n",
    "    V_l = 4 * np.abs(p - p_l)**2*np.heaviside(p, np.abs(p - p_l))\n",
    "    return np.array(V_r + V_l)\n",
    "\n",
    "p = np.array([[1., 0.]])\n",
    "p_max = np.array([[5., 5.]])\n",
    "#p_max = 5.\n",
    "res = box_potential(p, p_max)"
   ]
  },
  {
   "cell_type": "code",
   "execution_count": null,
   "metadata": {},
   "outputs": [],
   "source": []
  }
 ],
 "metadata": {
  "kernelspec": {
   "display_name": "Python 3",
   "language": "python",
   "name": "python3"
  },
  "language_info": {
   "codemirror_mode": {
    "name": "ipython",
    "version": 3
   },
   "file_extension": ".py",
   "mimetype": "text/x-python",
   "name": "python",
   "nbconvert_exporter": "python",
   "pygments_lexer": "ipython3",
   "version": "3.7.2"
  }
 },
 "nbformat": 4,
 "nbformat_minor": 2
}
