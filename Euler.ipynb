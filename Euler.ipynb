{
 "cells": [
  {
   "cell_type": "markdown",
   "metadata": {},
   "source": [
    "# Integrator\n",
    "\n",
    "## Euler method\n",
    "\n",
    "- is a first-order numerical procedure for solving ordinary differential equations (ODEs) with a given initial value\n",
    "- approximating the integral with the finite sum \n",
    "- by the Taylor expansion, the quadratic and higher-order terms are ignored\n",
    "\n",
    "Approximation \n",
    "$$ x(t+\\tau)=x(t)+\\tau\\, v(t)\\\\\n",
    "v(t+\\tau)=v(t)+\\tau\\, a(t)=v(t)-\\frac{\\tau}{m}\\,\\nabla\\phi(x(t)) \\\\\n",
    "\\text{with}\\,\\, v= \\frac{\\partial x}{\\partial t}; \\,\\, \\text{and}\\,\\, a=\\frac{F}{m}=-\\frac{1}{m}\\nabla \\phi(x(t))$$\n",
    "\n",
    "### Goals\n",
    "- setup of the algorithm \n",
    "    - parameters  \n",
    "    - inputs\n",
    "- timing\n",
    "- 1D, 2D and 3D distinction\n",
    "- vectorization\n",
    "- testing\n",
    "    - ZeroDivisionError, NameError and TypeErrorn ValueError, Type,Error, RuntimeError, IOError\n",
    "    - functionality\n",
    "    - ??\n",
    "- visualisation\n",
    "    - timing\n",
    "    - stability\n",
    "    - ??"
   ]
  },
  {
   "cell_type": "markdown",
   "metadata": {},
   "source": [
    "### setup of the algorithm\n",
    "- import packages\n",
    "- define function with its inputs\n",
    "    - (function): potential gradient \n",
    "    - (parameter): mass\n",
    "    - (functionality): size (number of time steps), time step, initial configuration, initial velocity\n",
    "- creating positiion and velocity container (vector, array, np. zeros ??)\n",
    "- initialization by adding the start configuration\n",
    "- time iteration \n",
    "    - euler approximation\n",
    "    - write in pos and vel container\n",
    "- returning position and velocety container\n"
   ]
  },
  {
   "cell_type": "code",
   "execution_count": null,
   "metadata": {},
   "outputs": [],
   "source": [
    "%matplotlib notebook\n",
    "import numpy as np\n",
    "import timeit\n",
    "import matplotlib.pyplot as plt\n",
    "from matplotlib import animation, rc\n",
    "from IPython.display import HTML"
   ]
  },
  {
   "cell_type": "code",
   "execution_count": null,
   "metadata": {},
   "outputs": [],
   "source": [
    "# wehmeyer\n",
    "def eulerW(potential_gradient, size=100, x_init=1.0, v_init=0.0, mass=1.0, time_step=0.005):\n",
    "    x, v = np.zeros(size), np.zeros(size)\n",
    "    x[0], v[0] = x_init, v_init\n",
    "    for i in range(1, size):\n",
    "        x[i] = x[i - 1] + time_step * v[i - 1]\n",
    "        v[i] = v[i - 1] - time_step * potential_gradient(x[i - 1]) / mass\n",
    "    return x, v\n",
    "\n",
    "def potential_gradient(x):\n",
    "    return x\n",
    "\n",
    "#timeit.timeit(eulerW, number= 100) # geht nicht warum?"
   ]
  },
  {
   "cell_type": "code",
   "execution_count": null,
   "metadata": {},
   "outputs": [],
   "source": [
    "def potential_gradient"
   ]
  },
  {
   "cell_type": "code",
   "execution_count": null,
   "metadata": {},
   "outputs": [],
   "source": [
    "def eulerJ(potential_gradient, position_init, velocity_init, mass, T, time_step, dim):\n",
    "    size = int(T/time_step)  # number of time steps\n",
    "    n = len(position_init)   # number of particles\n",
    "    # creating positiion and velocity container\n",
    "    position_matrix, velocity_matrix = np.zeros((size, n, dim)), np.zeros((size, n, dim))\n",
    "    # initialization by adding the start configuration\n",
    "    position_matrix[0], velocity_matrix[0] = position_init, velocity_init\n",
    "    # time iteration\n",
    "    for t in range(1, size):\n",
    "        # rename # kostet das rechenleistung ? bennenung lieber von anfang anders?\n",
    "        p = position_matrix[t-1]\n",
    "        v = velocity_matrix[t-1]\n",
    "        m = mass\n",
    "        gp = potential_gradient(p)\n",
    "        # euler approximation\n",
    "        p_new = p + time_step*v\n",
    "        v_new = v - time_step/m * gp\n",
    "        # write in pos and vel container\n",
    "        position_matrix[t], velocity_matrix[t] = p_new, v_new\n",
    "    # returning position and velocety container\n",
    "    return position_matrix, velocity_matrix\n",
    "\n",
    "#timeit.timeit(eulerJ, number= 100)"
   ]
  },
  {
   "cell_type": "code",
   "execution_count": null,
   "metadata": {},
   "outputs": [],
   "source": []
  },
  {
   "cell_type": "code",
   "execution_count": null,
   "metadata": {},
   "outputs": [],
   "source": []
  }
 ],
 "metadata": {
  "kernelspec": {
   "display_name": "Python 3",
   "language": "python",
   "name": "python3"
  },
  "language_info": {
   "codemirror_mode": {
    "name": "ipython",
    "version": 3
   },
   "file_extension": ".py",
   "mimetype": "text/x-python",
   "name": "python",
   "nbconvert_exporter": "python",
   "pygments_lexer": "ipython3",
   "version": "3.7.0"
  }
 },
 "nbformat": 4,
 "nbformat_minor": 2
}
