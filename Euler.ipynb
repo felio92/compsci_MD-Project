{
 "cells": [
  {
   "cell_type": "markdown",
   "metadata": {},
   "source": [
    "# Integrator\n",
    "\n",
    "## Euler method\n",
    "\n",
    "- is a first-order numerical procedure for solving ordinary differential equations (ODEs) with a given initial value\n",
    "- approximating the integral with the finite sum \n",
    "- by the Taylor expansion, the quadratic and higher-order terms are ignored\n",
    "\n",
    "Approximation \n",
    "$$ x(t+\\tau)=x(t)+\\tau\\, v(t)\\\\\n",
    "v(t+\\tau)=v(t)+\\tau\\, a(t)=v(t)-\\frac{\\tau}{m}\\,\\nabla\\phi(x(t)) \\\\\n",
    "\\text{with}\\,\\, v= \\frac{\\partial x}{\\partial t}; \\,\\, \\text{and}\\,\\, a=\\frac{F}{m}=-\\frac{1}{m}\\nabla \\phi(x(t))$$\n",
    "\n",
    "### Goals\n",
    "- setup of the algorithm \n",
    "    - parameters  \n",
    "    - inputs\n",
    "- timing\n",
    "- 1D, 2D and 3D distinction\n",
    "- vectorization\n",
    "- testing\n",
    "    - ZeroDivisionError, NameError and TypeErrorn ValueError, Type,Error, RuntimeError, IOError\n",
    "    - functionality\n",
    "    - ??\n",
    "- visualisation\n",
    "    - timing\n",
    "    - stability\n",
    "    - ??"
   ]
  },
  {
   "cell_type": "markdown",
   "metadata": {},
   "source": [
    "### setup of the algorithm\n",
    "- import packages\n",
    "- define function with its inputs\n",
    "    - (function): potential gradient \n",
    "    - (parameter): mass\n",
    "    - (functionality): size (number of time steps), time step, initial configuration, initial velocity\n",
    "- creating positiion and velocity container (vector, array, np. zeros ??)\n",
    "- initialization by adding the start configuration\n",
    "- time iteration \n",
    "    - euler approximation\n",
    "    - write in pos and vel container\n",
    "- returning position and velocety container\n"
   ]
  },
  {
   "cell_type": "code",
   "execution_count": 1,
   "metadata": {},
   "outputs": [],
   "source": [
    "#%matplotlib notebook\n",
    "import numpy as np\n",
    "#import timeit\n",
    "#import matplotlib.pyplot as plt\n",
    "#from matplotlib import animation, rc\n",
    "#from IPython.display import HTML\n",
    "#import plotly.plotly as py\n",
    "#import plotly.graph_objs as go"
   ]
  },
  {
   "cell_type": "code",
   "execution_count": null,
   "metadata": {},
   "outputs": [],
   "source": [
    "# wehmeyer\n",
    "def eulerW(potential_gradient, size=100, x_init=1.0, v_init=0.0, mass=1.0, time_step=0.005):\n",
    "    x, v = np.zeros(size), np.zeros(size)\n",
    "    x[0], v[0] = x_init, v_init\n",
    "    for i in range(1, size):\n",
    "        x[i] = x[i - 1] + time_step * v[i - 1]\n",
    "        v[i] = v[i - 1] - time_step * potential_gradient(x[i - 1]) / mass\n",
    "    return x, v\n",
    "\n",
    "def potential_gradient(x):\n",
    "    return x\n",
    "\n",
    "#timeit.timeit(eulerW, number= 100) # geht nicht warum?"
   ]
  },
  {
   "cell_type": "markdown",
   "metadata": {},
   "source": [
    "#### euler algorithm for open system "
   ]
  },
  {
   "cell_type": "code",
   "execution_count": null,
   "metadata": {},
   "outputs": [],
   "source": [
    "def potential_gradient(p,k=10):\n",
    "    return k*p"
   ]
  },
  {
   "cell_type": "code",
   "execution_count": null,
   "metadata": {},
   "outputs": [],
   "source": [
    "def eulerJ(potential_gradient, position_init, velocity_init, mass, T, time_step):\n",
    "    size = int(T/time_step)  # number of time steps\n",
    "    n = len(position_init)   # number of particles\n",
    "    dim = position_init.shape[-1]\n",
    "    m = mass\n",
    "    #print(n)\n",
    "    # creating positiion and velocity container\n",
    "    position_matrix, velocity_matrix, acceleration_matrix = np.zeros((size, n, dim)), np.zeros((size, n, dim)), np.zeros((size, n, dim))\n",
    "    # initialization by adding the start configuration\n",
    "    position_matrix[0], velocity_matrix[0], acceleration_matrix[0] = position_init, velocity_init, - 1/m *potential_gradient(position_init)\n",
    "    # time iteration\n",
    "    for t in range(1, size):\n",
    "        # rename # kostet das rechenleistung ? bennenung lieber von anfang anders?\n",
    "        p = position_matrix[t-1]\n",
    "        v = velocity_matrix[t-1]\n",
    "        a = acceleration_matrix[t]\n",
    "        gp = potential_gradient(p)\n",
    "        # euler approximation\n",
    "        p_new = p + time_step*v\n",
    "        #print(v,gp)\n",
    "        v_new = v - time_step/m * gp\n",
    "        a = - potential_gradient(p_new)/m\n",
    "        # write in pos and vel container\n",
    "        position_matrix[t], velocity_matrix[t], acceleration_matrix[t] = p_new, v_new, a\n",
    "    # returning position and velocety container\n",
    "    return position_matrix, velocity_matrix, acceleration_matrix\n",
    "\n",
    "#%line_profiler"
   ]
  },
  {
   "cell_type": "code",
   "execution_count": null,
   "metadata": {},
   "outputs": [],
   "source": [
    "p_0 = np.array([[1., 0., 0.], [1., 0., 0.]])\n",
    "v_0 = np.array([[0., 0., 0.], [0., 0., 0.]])\n",
    "m = np.array([[1.], [1.]])\n",
    "\n",
    "res = eulerJ(potential_gradient, p_0, v_0, m, 10, 1/100)\n",
    "res\n",
    "#print(a[0][:,0,0])\n",
    "plt.plot(res[0][:,0, 0], res[1][:,0,0])"
   ]
  },
  {
   "cell_type": "markdown",
   "metadata": {},
   "source": [
    "#### euler algorithm for closed system, non periodic"
   ]
  },
  {
   "cell_type": "code",
   "execution_count": 2,
   "metadata": {},
   "outputs": [],
   "source": [
    "def potential_gradient(p,k=10):\n",
    "    return k*p\n",
    "\n",
    "def boundary(p, p_max):\n",
    "    p_r = p_max - p_max/4\n",
    "    p_l = p_max/4\n",
    "    V_end_r = 4 * np.abs(p-p_r)**2*np.heaviside(np.abs(p-p_r))\n",
    "    V_end_l = 4 * np.abs(p-p_l)**2*np.heaviside(np.abs(p-p_l))\n",
    "    return V_end_r + V_end_l\n",
    "\n",
    "def potential():\n",
    "    return potantial_gradient + boundary"
   ]
  },
  {
   "cell_type": "code",
   "execution_count": 3,
   "metadata": {},
   "outputs": [],
   "source": [
    "def euler(potential, position_init, velocity_init, mass, T, time_step):\n",
    "    size = int(T/time_step)  # number of time steps\n",
    "    n = len(position_init)   # number of particles\n",
    "    dim = position_init.shape[-1]\n",
    "    m = mass\n",
    "    #print(n)\n",
    "    # creating positiion and velocity container\n",
    "    position_matrix, velocity_matrix, acceleration_matrix = np.zeros((size, n, dim)), np.zeros((size, n, dim)), np.zeros((size, n, dim))\n",
    "    # initialization by adding the start configuration\n",
    "    position_matrix[0], velocity_matrix[0], acceleration_matrix[0] = position_init, velocity_init, - 1/m *potential_gradient(position_init)\n",
    "    # time iteration\n",
    "    for t in range(1, size):\n",
    "        # rename # kostet das rechenleistung ? bennenung lieber von anfang anders?\n",
    "        p = position_matrix[t-1]\n",
    "        v = velocity_matrix[t-1]\n",
    "        a = acceleration_matrix[t]\n",
    "        gp = potential_gradient(p)\n",
    "        # euler approximation\n",
    "        p_new = p + time_step*v\n",
    "        #print(v,gp)\n",
    "        v_new = v - time_step/m * gp\n",
    "        a = - potential_gradient(p_new)/m\n",
    "        # write in pos and vel container\n",
    "        position_matrix[t], velocity_matrix[t], acceleration_matrix[t] = p_new, v_new, a\n",
    "    # returning position and velocety container\n",
    "    return position_matrix, velocity_matrix, acceleration_matrix\n"
   ]
  },
  {
   "cell_type": "code",
   "execution_count": 5,
   "metadata": {},
   "outputs": [
    {
     "data": {
      "text/plain": [
       "(array([[[1.        , 0.        , 0.        ],\n",
       "         [1.        , 0.        , 0.        ]],\n",
       " \n",
       "        [[1.        , 0.        , 0.        ],\n",
       "         [1.        , 0.        , 0.        ]],\n",
       " \n",
       "        [[0.999     , 0.        , 0.        ],\n",
       "         [0.999     , 0.        , 0.        ]],\n",
       " \n",
       "        ...,\n",
       " \n",
       "        [[1.63737293, 0.        , 0.        ],\n",
       "         [1.63737293, 0.        , 0.        ]],\n",
       " \n",
       "        [[1.63210043, 0.        , 0.        ],\n",
       "         [1.63210043, 0.        , 0.        ]],\n",
       " \n",
       "        [[1.62519055, 0.        , 0.        ],\n",
       "         [1.62519055, 0.        , 0.        ]]]),\n",
       " array([[[ 0.        ,  0.        ,  0.        ],\n",
       "         [ 0.        ,  0.        ,  0.        ]],\n",
       " \n",
       "        [[-0.1       ,  0.        ,  0.        ],\n",
       "         [-0.1       ,  0.        ,  0.        ]],\n",
       " \n",
       "        [[-0.2       ,  0.        ,  0.        ],\n",
       "         [-0.2       ,  0.        ,  0.        ]],\n",
       " \n",
       "        ...,\n",
       " \n",
       "        [[-0.52725052,  0.        ,  0.        ],\n",
       "         [-0.52725052,  0.        ,  0.        ]],\n",
       " \n",
       "        [[-0.69098782,  0.        ,  0.        ],\n",
       "         [-0.69098782,  0.        ,  0.        ]],\n",
       " \n",
       "        [[-0.85419786,  0.        ,  0.        ],\n",
       "         [-0.85419786,  0.        ,  0.        ]]]),\n",
       " array([[[-10.        ,  -0.        ,  -0.        ],\n",
       "         [-10.        ,  -0.        ,  -0.        ]],\n",
       " \n",
       "        [[-10.        ,  -0.        ,  -0.        ],\n",
       "         [-10.        ,  -0.        ,  -0.        ]],\n",
       " \n",
       "        [[ -9.99      ,  -0.        ,  -0.        ],\n",
       "         [ -9.99      ,  -0.        ,  -0.        ]],\n",
       " \n",
       "        ...,\n",
       " \n",
       "        [[-16.37372933,  -0.        ,  -0.        ],\n",
       "         [-16.37372933,  -0.        ,  -0.        ]],\n",
       " \n",
       "        [[-16.32100428,  -0.        ,  -0.        ],\n",
       "         [-16.32100428,  -0.        ,  -0.        ]],\n",
       " \n",
       "        [[-16.2519055 ,  -0.        ,  -0.        ],\n",
       "         [-16.2519055 ,  -0.        ,  -0.        ]]]))"
      ]
     },
     "execution_count": 5,
     "metadata": {},
     "output_type": "execute_result"
    }
   ],
   "source": [
    "p_max = np.array([[2., 3., 2.], [2., 3., 2.]])\n",
    "p_0 = np.array([[1., 0., 0.], [1., 0., 0.]])\n",
    "v_0 = np.array([[0., 0., 0.], [0., 0., 0.]])\n",
    "m = np.array([[1.], [1.]])\n",
    "\n",
    "res = euler(potential_gradient, p_0, v_0, m, 10, 1/100)\n",
    "res\n",
    "#print(a[0][:,0,0])\n",
    "#plt.plot(res[0][:,0, 0], res[1][:,0,0])"
   ]
  },
  {
   "cell_type": "code",
   "execution_count": null,
   "metadata": {},
   "outputs": [],
   "source": []
  }
 ],
 "metadata": {
  "kernelspec": {
   "display_name": "Python 3",
   "language": "python",
   "name": "python3"
  },
  "language_info": {
   "codemirror_mode": {
    "name": "ipython",
    "version": 3
   },
   "file_extension": ".py",
   "mimetype": "text/x-python",
   "name": "python",
   "nbconvert_exporter": "python",
   "pygments_lexer": "ipython3",
   "version": "3.7.2"
  }
 },
 "nbformat": 4,
 "nbformat_minor": 2
}
