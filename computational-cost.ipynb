{
 "cells": [
  {
   "cell_type": "markdown",
   "metadata": {},
   "source": [
    "# Comparison of computational costs\n",
    "## Distances and distance vectors\n",
    "- Pytorch \n",
    "- Numpy\n",
    "- Numba"
   ]
  },
  {
   "cell_type": "code",
   "execution_count": null,
   "metadata": {},
   "outputs": [],
   "source": [
    "import numpy as np\n",
    "from numba import jit\n",
    "import torch\n",
    "\n",
    "import timeit"
   ]
  },
  {
   "cell_type": "code",
   "execution_count": null,
   "metadata": {},
   "outputs": [],
   "source": [
    "def dist_vec(x): \n",
    "    \"\"\"Calculates distance vectors and distances (euclidian norm of vecs)\n",
    "    \n",
    "    Arguments:\n",
    "        x (float): position vectors (dim = N x 3)\n",
    "    \n",
    "    Output:\n",
    "        dist (float): distances between particle pairs (dim = N x N)\n",
    "        vecs (float): distance vectors between particle pairs (dim = N x N x 3)\n",
    "    \"\"\"\n",
    "    dist = np.linalg.norm(\n",
    "        x[:, None, :] - x[None, :, :],\n",
    "        axis=-1)\n",
    "    vecs = x[None, :, :] - x[:, None, :]       \n",
    "    return dist, vecs"
   ]
  },
  {
   "cell_type": "code",
   "execution_count": null,
   "metadata": {},
   "outputs": [],
   "source": [
    "@jit\n",
    "def dist_jit(x): \n",
    "    \"\"\"Calculates distance vectors and distances (euclidian norm of vecs)\n",
    "    \n",
    "    Arguments:\n",
    "        x (float): position vectors (dim = N x 3)\n",
    "    \n",
    "    Output:\n",
    "        dist (float): distances between particle pairs (dim = N x N)\n",
    "        vecs (float): distance vectors between particle pairs (dim = N x N x 3)\n",
    "    \"\"\"\n",
    "    N, dim = x.shape[0], x.shape[-1]\n",
    "    dist = np.zeros((N, N))\n",
    "    vecs = np.zeros((N, N, dim))\n",
    "    for i in range(x.shape[0]):\n",
    "        for j in range(i):\n",
    "            dist[i][j] = np.linalg.norm(x[i] - x[j])\n",
    "            vecs[i][j] = x[i] - x[j]\n",
    "            dist[j][i] = dist[i][j]\n",
    "            vecs[j][i] = vecs[i][j]\n",
    "    return dist, vecs"
   ]
  },
  {
   "cell_type": "code",
   "execution_count": null,
   "metadata": {},
   "outputs": [],
   "source": [
    "def dist_torch(x): \n",
    "    \"\"\"Calculates distance vectors and distances (euclidian norm of vecs)\n",
    "    \n",
    "    Arguments:\n",
    "        x (float): position vectors (dim = N x 3)\n",
    "    \n",
    "    Output:\n",
    "        dist (float): distances between particle pairs (dim = N x N)\n",
    "        vecs (float): distance vectors between particle pairs (dim = N x N x 3)\n",
    "    \"\"\"\n",
    "    x = torch.Tensor(x)\n",
    "    vecs = x[None, :, :] - x[:, None, :]       \n",
    "    return torch.norm(vecs, dim=-1), vecs"
   ]
  },
  {
   "cell_type": "code",
   "execution_count": null,
   "metadata": {},
   "outputs": [],
   "source": [
    "def dist_cuda(x): \n",
    "    \"\"\"Calculates distance vectors and distances (euclidian norm of vecs)\n",
    "    \n",
    "    Arguments:\n",
    "        x (float): position vectors (dim = N x 3)\n",
    "    \n",
    "    Output:\n",
    "        dist (float): distances between particle pairs (dim = N x N)\n",
    "        vecs (float): distance vectors between particle pairs (dim = N x N x 3)\n",
    "    \"\"\"\n",
    "    x = torch.Tensor(x).cuda()\n",
    "    vecs = x[None, :, :] - x[:, None, :]       \n",
    "    return torch.norm(vecs, dim=-1).cpu(), vecs.cpu()"
   ]
  },
  {
   "cell_type": "code",
   "execution_count": null,
   "metadata": {},
   "outputs": [],
   "source": [
    "x = np.array([[0., 0.],\n",
    "                [0., 1.],\n",
    "                [1., 1.],\n",
    "                [1., 0.]])\n",
    "q = np.array([1., -1., 1., -1.])"
   ]
  },
  {
   "cell_type": "code",
   "execution_count": null,
   "metadata": {},
   "outputs": [],
   "source": [
    "assert (dist_vec(x)[0] == dist_jit(x)[0]).any\n",
    "assert (dist_vec(x)[1] == dist_jit(x)[1]).any\n",
    "assert (dist_vec(x)[0] == dist_torch(x)[0].numpy()).any\n",
    "assert (dist_vec(x)[1] == dist_torch(x)[1].numpy()).any\n",
    "#assert (dist_vec(x)[0] == dist_cuda(x)[0].numpy()).any\n",
    "#assert (dist_vec(x)[1] == dist_cuda(x)[1].numpy()).any"
   ]
  },
  {
   "cell_type": "code",
   "execution_count": null,
   "metadata": {},
   "outputs": [],
   "source": [
    "import random\n",
    "\n",
    "def Random_particles(N):\n",
    "    \"\"\"Creates a list of N particles with random positions and charges\n",
    "    \n",
    "    Arguments:\n",
    "        N (int): number of particles\n",
    "        \n",
    "    Output:\n",
    "        x (float): position vectors (dim = N x 3)\n",
    "        q (int): charges (dim = N)\n",
    "    \"\"\"\n",
    "    return np.random.rand(N,3), np.array([[-1,1][random.randrange(2)] for i in range(N)])\n"
   ]
  },
  {
   "cell_type": "code",
   "execution_count": null,
   "metadata": {},
   "outputs": [],
   "source": [
    "N = 500\n",
    "x, q = Random_particles(N)"
   ]
  },
  {
   "cell_type": "code",
   "execution_count": null,
   "metadata": {},
   "outputs": [],
   "source": [
    "%timeit dist_torch(x)\n",
    "#%timeit dist_cuda(x)\n",
    "%timeit dist_vec(x)\n",
    "%timeit dist_jit(x)"
   ]
  },
  {
   "cell_type": "code",
   "execution_count": null,
   "metadata": {},
   "outputs": [],
   "source": []
  },
  {
   "cell_type": "markdown",
   "metadata": {},
   "source": [
    "## Distances and distance vectors\n",
    "- Numpy\n",
    "- Numba"
   ]
  },
  {
   "cell_type": "code",
   "execution_count": null,
   "metadata": {},
   "outputs": [],
   "source": [
    "def distances(x): # pytorch\n",
    "    \"\"\"Calculates distance vectors and distances (euclidian norm of vecs)\n",
    "    \n",
    "    Arguments:\n",
    "        x (float): position vectors (dim = N x 3)\n",
    "    \n",
    "    Output:\n",
    "        dist (float): distances between particle pairs (dim = N x N)\n",
    "        vecs (float): distance vectors between particle pairs (dim = N x N x 3)\n",
    "    \"\"\"\n",
    "    x = torch.Tensor(x)\n",
    "    vecs = x[None, :, :] - x[:, None, :]       \n",
    "    return torch.norm(vecs, dim=-1), vecs"
   ]
  },
  {
   "cell_type": "code",
   "execution_count": null,
   "metadata": {},
   "outputs": [],
   "source": [
    "@jit\n",
    "def Coulomb_force_jit(x, q):\n",
    "    \"\"\"Coulomb's law\n",
    "\n",
    "    Arguments:\n",
    "        x (float): position vectors (dim = N x 3)\n",
    "        q (int): charges (dim = N)\n",
    "        \n",
    "    Constants:\n",
    "        vacuum permittivity: eps0 = 8.854187e-12 \n",
    "        elementary charge: qe = 1.602177e-19\n",
    "    \n",
    "    Output:\n",
    "        f (float): forces between all particle pairs (dim = N x N x 3)\n",
    "    \"\"\"\n",
    "    eps0, qe = 1., 1.\n",
    "    force = np.zeros(x.shape)\n",
    "    dist, vecs = distances(x)[0].numpy(), distances(x)[1].numpy()\n",
    "    for i in range(x.shape[0]):\n",
    "        for j in range(x.shape[0]):\n",
    "            if dist[i][j] != 0:\n",
    "                force[i] += q[i] * q[j] * vecs[i][j] / dist[i][j]**3\n",
    "    return qe/(4*np.pi*eps0)*force"
   ]
  },
  {
   "cell_type": "code",
   "execution_count": null,
   "metadata": {},
   "outputs": [],
   "source": [
    "def Coulomb_force_vec(x, q):\n",
    "    \"\"\"Coulomb's law\n",
    "\n",
    "    Arguments:\n",
    "        x (float): position vectors (dim = N x 3)\n",
    "        q (int): charges (dim = N)\n",
    "        \n",
    "    Constants:\n",
    "        vacuum permittivity: eps0 = 8.854187e-12 \n",
    "        elementary charge: qe = 1.602177e-19\n",
    "    \n",
    "    Output:\n",
    "        f (float): forces between all particle pairs (dim = N x N x 3)\n",
    "    \"\"\"\n",
    "    eps0, qe = 1., 1.\n",
    "    force = np.zeros(x.shape)\n",
    "    dist, vecs = distances(x)\n",
    "    dist[dist!=0] = 1/dist[dist!=0]**3\n",
    "    force = np.dot(np.diag(q), vecs * dist[:, :, None])\n",
    "    force = np.einsum(\"ijk,j\", force, q)\n",
    "    return qe/(4*np.pi*eps0)*force"
   ]
  },
  {
   "cell_type": "code",
   "execution_count": null,
   "metadata": {},
   "outputs": [],
   "source": [
    "def coulomb(coord, q, eps0=1, pbc=False):\n",
    "        dist, vectors = distances(coord)\n",
    "        dist[dist!=0] = 1/dist[dist!=0]**3\n",
    "        D = dist[:,:,None]*vectors\n",
    "        return q[:, None]*np.einsum(\"ijk, j\",D, q)"
   ]
  },
  {
   "cell_type": "code",
   "execution_count": null,
   "metadata": {},
   "outputs": [],
   "source": [
    "positions = np.array([[0., 0.],\n",
    "                    [0., 1.],\n",
    "                    [1., 1.],\n",
    "                    [1., 0.]])\n",
    "charges = np.array([1., -1., 1., -1.])"
   ]
  },
  {
   "cell_type": "code",
   "execution_count": null,
   "metadata": {},
   "outputs": [],
   "source": [
    "print(Coulomb_force_vec(positions, charges))\n",
    "print(-Coulomb_force_jit(positions, charges))"
   ]
  },
  {
   "cell_type": "code",
   "execution_count": null,
   "metadata": {},
   "outputs": [],
   "source": []
  },
  {
   "cell_type": "code",
   "execution_count": null,
   "metadata": {},
   "outputs": [],
   "source": [
    "N = 100\n",
    "x, q = Random_particles(N)"
   ]
  },
  {
   "cell_type": "code",
   "execution_count": null,
   "metadata": {},
   "outputs": [],
   "source": [
    "%timeit Coulomb_force_vec(x, q)\n",
    "%timeit Coulomb_force_jit(x, q)\n",
    "%timeit coulomb(x, q)"
   ]
  },
  {
   "cell_type": "code",
   "execution_count": null,
   "metadata": {},
   "outputs": [],
   "source": []
  },
  {
   "cell_type": "markdown",
   "metadata": {},
   "source": [
    "## Lennard-Jones-Gradient\n",
    "- Numpy \n",
    "- Pytorch "
   ]
  },
  {
   "cell_type": "code",
   "execution_count": null,
   "metadata": {},
   "outputs": [],
   "source": [
    "def dist_torch(x): \n",
    "    \"\"\"Calculates distance vectors and distances (euclidian norm of vecs)\n",
    "    \n",
    "    Arguments:\n",
    "        x (float): position vectors (dim = N x 3)\n",
    "    \n",
    "    Output:\n",
    "        dist (float): distances between particle pairs (dim = N x N)\n",
    "        vecs (float): distance vectors between particle pairs (dim = N x N x 3)\n",
    "    \"\"\"\n",
    "    x = torch.Tensor(x)\n",
    "    vecs = x[None, :, :] - x[:, None, :]       \n",
    "    return torch.norm(vecs, dim=-1), vecs\n",
    "\n",
    "def gradLJ_t(x, sig=1, eps=1):\n",
    "    dist, vecs = dist_torch(x)\n",
    "    dist[dist!=0] = 1/dist[dist!=0]\n",
    "    D_att = 6 * sig**6 * dist**8\n",
    "    D_rep = -12 * sig**12 * dist**14\n",
    "    D = 4*(eps*(D_att + D_rep))[:, :, None]*vecs\n",
    "    return torch.sum(D, dim=-2)\n",
    "\n",
    "# Felix\n",
    "def vectors(coord, boxsize, pbc=False):\n",
    "    vecs = coord[:, None, :] - coord[None, :, :]\n",
    "    if not pbc:\n",
    "        return vecs\n",
    "    elif pbc:\n",
    "        L = boxsize[1] - boxsize[0] #calculate boxlength\n",
    "        vecs += (vecs<-0.5*L)*L - (vecs>0.5*L)*L\n",
    "        return vecs\n",
    "\n",
    "def distances(vectors):\n",
    "    return np.linalg.norm(vectors,axis=-1)\n",
    "    \n",
    "def gradLJ(vecs, sig=1, eps=1):\n",
    "    dist = distances(vecs)\n",
    "    dist[dist!=0] = 1/dist[dist!=0]\n",
    "    D_att = 6 * sig**6 * dist**8\n",
    "    D_rep = -12 * sig**12 * dist**14\n",
    "    D = 4*(eps*(D_att + D_rep))[:, :, None]*vecs\n",
    "    return np.sum(D, axis=-2)"
   ]
  },
  {
   "cell_type": "code",
   "execution_count": null,
   "metadata": {},
   "outputs": [],
   "source": [
    "x_init = Random_particles(100)[0]"
   ]
  },
  {
   "cell_type": "code",
   "execution_count": null,
   "metadata": {},
   "outputs": [],
   "source": [
    "%timeit gradLJ_t(x_init).numpy()\n",
    "%timeit gradLJ(vectors(x_init, boxsize=(0,1)))"
   ]
  },
  {
   "cell_type": "code",
   "execution_count": null,
   "metadata": {},
   "outputs": [],
   "source": []
  }
 ],
 "metadata": {
  "kernelspec": {
   "display_name": "Python 3",
   "language": "python",
   "name": "python3"
  },
  "language_info": {
   "codemirror_mode": {
    "name": "ipython",
    "version": 3
   },
   "file_extension": ".py",
   "mimetype": "text/x-python",
   "name": "python",
   "nbconvert_exporter": "python",
   "pygments_lexer": "ipython3",
   "version": "3.7.2"
  }
 },
 "nbformat": 4,
 "nbformat_minor": 2
}
