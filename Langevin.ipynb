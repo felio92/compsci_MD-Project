{
 "cells": [
  {
   "cell_type": "markdown",
   "metadata": {},
   "source": [
    "# Integrator\n",
    "## Langevin \n",
    "- integration schemes that include a thermostat\n",
    "- full algorithms to simulate molecular dynamics in the N V T ensemble\n",
    "- stochastic dynamics, based on Langevin dynamics\n",
    "$$\n",
    "dp = M^{-1}v \\,\\text{d}t\\\\\n",
    "dv = -\\nabla \\phi(p)\\,\\text{d}t- \\gamma v \\,\\text{d}t + \\sigma M^{1/2}\\,\\text{d}W\n",
    "$$ \n",
    "     - the first part of the equation is equal to Newtonian dynamics\n",
    "     - and the function of the last two terms is to act as a thermostat (friction + noise)\n",
    "\n",
    "whereby:\n",
    "- $W = W (t)$ is a vector of 3N independent Wiener processes ? => results in the matrix of noise intensities and a vector of uncorrelated Gaussian random numbers $R_t$, \n",
    "* $\\gamma > 0$ is a free (scalar) parameter the isotopic friction constant which couple the system to the bath (damping parameter), \n",
    "* choosing $ \\sigma = \\sqrt{2\\gamma \\beta ^{-1}}$ it is possible to show that the unique probability distribution sampled by the dynamics is the canonical (Gibbs-Boltzmann) density\n",
    "\n",
    "integration by discretizing in time using a second-order numerical method  according to \n",
    "$$\\hat{L}*= L*_{\\text{LD}}+ \\delta t ^2 L*_2 + O(\\delta t^3)$$\n",
    "instead of Taylor series expansion\n",
    "\n",
    "for the BAOAB method the Langevin dynamics are breaked into three pieces\n",
    "$$\n",
    "\\left[ \\begin{matrix}dp\\\\dv\\end{matrix}\\right]= \\left[ \\begin{matrix}M^{-1}v\\\\0\\end{matrix}\\right]\\text{d}t+\\left[ \\begin{matrix}0\\\\-\\nabla\\phi(p)\\end{matrix}\\right]\\text{d}t\n",
    "+\\left[ \\begin{matrix}0\\\\-\\gamma v \\text{d}t + \\sigma M^{1/2}\\text{d}W\\end{matrix}\\right]$$\n",
    "\n",
    "- firts part is labelled A, second as B and third O\n",
    "O piece is associated with an Ornstein-Uhlenbeck equation with “exact” solution:\n",
    "$$v(t) = e^{-\\gamma t} v(0)+ \\frac{\\sigma}{\\sqrt{2\\gamma}}\\sqrt{1-e^{-2\\gamma t}}M^{1/2}R_t$$\n",
    "where $R_t$ is a vector of uncorrelated noise processes\n",
    "\n",
    "- the sequence is given through BAOAB\n",
    "- to ensure the method is symmetric  all “A” and “B” parts in BAOAB are integrated for a half timestep \n",
    "\n",
    "### Advantage\n",
    "-\n",
    "-\n",
    "\n",
    "\n"
   ]
  },
  {
   "cell_type": "code",
   "execution_count": null,
   "metadata": {},
   "outputs": [],
   "source": [
    "%matplotlib notebook\n",
    "import numpy as np\n",
    "import timeit\n",
    "import matplotlib.pyplot as plt\n",
    "from matplotlib import animation, rc\n",
    "from IPython.display import HTML"
   ]
  },
  {
   "cell_type": "code",
   "execution_count": null,
   "metadata": {},
   "outputs": [],
   "source": [
    "def potential_gradient(p,k=1):\n",
    "    return k*p"
   ]
  },
  {
   "cell_type": "code",
   "execution_count": null,
   "metadata": {},
   "outputs": [],
   "source": [
    "def langevin(potential_gradient, position_init, velocity_init, mass, total_time, time_step, damping, beta):\n",
    "    size = int(total_time/time_step)    # number of time steps\n",
    "    n = len(position_init)              # number of particles\n",
    "    dim = position_init.shape[-1]       # number of dimension\n",
    "    m = mass\n",
    "    # creating positiion, velocity and acceleration container\n",
    "    position_matrix, velocity_matrix, acceleration_matrix = np.zeros((size, n, dim)), np.zeros((size, n, dim)), np.zeros((size, n, dim))\n",
    "    # initialization by adding the start configuration\n",
    "    position_matrix[0], velocity_matrix[0], acceleration_matrix[0] = position_init, velocity_init, potential_gradient(position_init)\n",
    "    # time iteration\n",
    "    for t in range(1, size):\n",
    "        # rename # kostet das rechenleistung ? bennenung lieber von anfang anders?\n",
    "        p = position_matrix[t-1]\n",
    "        v = velocity_matrix[t-1]\n",
    "        a = acceleration_matrix[t]\n",
    "        gp = potential_gradient(p)\n",
    "        R_t = np.random.randn(n, dim)\n",
    "        # langevin approximation\n",
    "        fri = np.exp(-damping*time_step)\n",
    "        noi = np.sqrt((1-fri**2)/(beta*m))\n",
    "        v_new = v - time_step/(2*m) * gp                      # B\n",
    "        p_new = p + time_step/2 *v_new                        # A\n",
    "        v_new = fri*v_new + noi* R_t                          # O\n",
    "        p_new = p_new + time_step/2 *v_new                    # A\n",
    "        gp = potential_gradient(p_new)\n",
    "        v_new = v_new - time_step/(2*m) * gp                  # B\n",
    "        a = - gp/m\n",
    "        # write in pos, vel and acc container\n",
    "        position_matrix[t], velocity_matrix[t], acceleration_matrix[t] = p_new, v_new, a\n",
    "    # returning position and velocety container\n",
    "    return position_matrix, velocity_matrix, acceleration_matrix"
   ]
  },
  {
   "cell_type": "code",
   "execution_count": null,
   "metadata": {},
   "outputs": [],
   "source": [
    "# testing \n",
    "#p_0 = np.array([[1., 0.]])\n",
    "#v_0 = np.array([[0., 0.]])\n",
    "p_0 = np.array([[1., 0., 0.], [1., 0., 0.]])\n",
    "v_0 = np.array([[0., 0., 0.], [0., 0., 0.]])\n",
    "#m = np.array([1.])\n",
    "m = np.array([[1.], [1.]])\n",
    "\n",
    "res = langevin(potential_gradient, p_0, v_0, m, 100., 0.001, 0.1, 1.0)\n",
    "res\n",
    "#print(a[0][:,0,0])\n",
    "plt.plot(res[0][:,0, 0], res[1][:,0,0])"
   ]
  },
  {
   "cell_type": "code",
   "execution_count": null,
   "metadata": {},
   "outputs": [],
   "source": []
  },
  {
   "cell_type": "code",
   "execution_count": null,
   "metadata": {},
   "outputs": [],
   "source": []
  },
  {
   "cell_type": "code",
   "execution_count": null,
   "metadata": {},
   "outputs": [],
   "source": []
  }
 ],
 "metadata": {
  "kernelspec": {
   "display_name": "Python 3",
   "language": "python",
   "name": "python3"
  },
  "language_info": {
   "codemirror_mode": {
    "name": "ipython",
    "version": 3
   },
   "file_extension": ".py",
   "mimetype": "text/x-python",
   "name": "python",
   "nbconvert_exporter": "python",
   "pygments_lexer": "ipython3",
   "version": "3.7.0"
  }
 },
 "nbformat": 4,
 "nbformat_minor": 2
}
