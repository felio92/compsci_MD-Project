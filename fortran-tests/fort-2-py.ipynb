{
 "cells": [
  {
   "cell_type": "code",
   "execution_count": 1,
   "metadata": {},
   "outputs": [
    {
     "name": "stdout",
     "output_type": "stream",
     "text": [
      "fib(a,[n])\n",
      "\n",
      "Wrapper for ``fib``.\n",
      "\n",
      "Parameters\n",
      "----------\n",
      "a : input rank-1 array('d') with bounds (n)\n",
      "\n",
      "Other Parameters\n",
      "----------------\n",
      "n : input int, optional\n",
      "    Default: len(a)\n",
      "\n",
      "[ 0.  1.  1.  2.  3.  5.  8. 13.]\n"
     ]
    }
   ],
   "source": [
    "import numpy as np\n",
    "import fib1\n",
    "\n",
    "print(fib1.fib.__doc__)\n",
    "\n",
    "a = np.zeros(8,'d')\n",
    "fib1.fib(a)\n",
    "print(a)"
   ]
  },
  {
   "cell_type": "code",
   "execution_count": null,
   "metadata": {},
   "outputs": [],
   "source": []
  }
 ],
 "metadata": {
  "kernelspec": {
   "display_name": "Python 3",
   "language": "python",
   "name": "python3"
  },
  "language_info": {
   "codemirror_mode": {
    "name": "ipython",
    "version": 3
   },
   "file_extension": ".py",
   "mimetype": "text/x-python",
   "name": "python",
   "nbconvert_exporter": "python",
   "pygments_lexer": "ipython3",
   "version": "3.7.2"
  }
 },
 "nbformat": 4,
 "nbformat_minor": 2
}
