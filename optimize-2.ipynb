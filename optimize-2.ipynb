{
 "cells": [
  {
   "cell_type": "markdown",
   "metadata": {},
   "source": [
    "# Minimization of different potentials\n",
    "- Harmonic Potential\n",
    "- Lennard-Jones (LJ) Potential\n",
    "- Coulomb Potential\n",
    "- Ewald Sum"
   ]
  },
  {
   "cell_type": "code",
   "execution_count": null,
   "metadata": {},
   "outputs": [],
   "source": [
    "%matplotlib notebook\n",
    "import numpy as np\n",
    "import matplotlib.pyplot as plt\n",
    "from matplotlib import animation\n",
    "\n",
    "from potentials import potentials, gradients\n",
    "from distances import vectors, distances\n",
    "from ewald_numpy import Ewald\n",
    "\n",
    "from optimize import descent\n",
    "\n",
    "import time"
   ]
  },
  {
   "cell_type": "code",
   "execution_count": null,
   "metadata": {},
   "outputs": [],
   "source": [
    "def init_x(N=3, dim=2, x_pert=0, x_ampl=1., q_ampl=1, alter=False):\n",
    "    \"\"\"Generate initial particle distribution and charges\n",
    "        N**dim - # of particles\n",
    "        dim - dimension, 2D or 3D\n",
    "        x_pert - position perturbation, displaces particles\n",
    "        x_fact - position factor, sizes the free space between particles\n",
    "        q_ampl - amplification of charges\n",
    "        alter - True: enable alternating charges; False: generate random charges\n",
    "    \n",
    "    Output:\n",
    "        x: positions\n",
    "        q: charges\n",
    "    \"\"\"\n",
    "    import random\n",
    "    # Positions\n",
    "    distri = np.linspace(-N, N, N)\n",
    "    if dim==2:\n",
    "        XX, YY = np.meshgrid(distri, distri)\n",
    "        x = np.array([XX.flatten(),YY.flatten()]).T\n",
    "    elif dim==3:\n",
    "        XX, YY, ZZ = np.meshgrid(distri, distri, distri)\n",
    "        x = np.array([XX.flatten(),YY.flatten(),ZZ.flatten()]).T\n",
    "    assert len(x) == N**dim\n",
    "    x += np.random.uniform(low=-x_pert, high=x_pert, size=(N**dim,dim))\n",
    "    x *= x_ampl\n",
    "    # Charges\n",
    "    if alter:\n",
    "        q = np.array([(-1)**(i+j) for i in range(N) for j in range(N**(dim-1))])\n",
    "    else:\n",
    "        q = np.array([[-1,1][random.randrange(2)] for i in range(N**dim)])\n",
    "    q *= q_ampl\n",
    "    return x, q\n",
    "\n",
    "def Rand_Coord( N, dim=3, boxsize=(0,1) ):\n",
    "    \"\"\"Creates a list of N particles with random positions and charges\n",
    "    \n",
    "    Arguments:\n",
    "        N   (int): number of particles\n",
    "        dim (int): dimension\n",
    "        \n",
    "    Output:\n",
    "        x (float): position vectors (N x dim)\n",
    "    \"\"\"\n",
    "    #import random\n",
    "    #x = np.random.rand(N, dim)\n",
    "    x = np.random.uniform(low=boxsize[0], high=boxsize[1], size=(N, dim))\n",
    "    return x\n",
    "\n",
    "def Rand_Charge( N, neutral=False, q_ampl=1 ):\n",
    "    \"\"\"Creates a list of N particles with random positions and charges\n",
    "    \n",
    "    Arguments:\n",
    "        N        (int): Number of particles\n",
    "        neutral (Bool): True: neutralizes system, requires even N\n",
    "        \n",
    "    Output:\n",
    "        x, q\n",
    "        x (float): position vectors (N x dim)\n",
    "        q   (int): charges (N)\n",
    "    \"\"\"\n",
    "    import random\n",
    "    if neutral:\n",
    "        assert N % 2 == 0\n",
    "        q = np.array([(-1)**(i) for i in range(N)])\n",
    "    else:\n",
    "        q = np.array([[-1,1][random.randrange(2)] for i in range(N)])\n",
    "    return q * q_ampl\n"
   ]
  },
  {
   "cell_type": "code",
   "execution_count": null,
   "metadata": {},
   "outputs": [],
   "source": []
  },
  {
   "cell_type": "markdown",
   "metadata": {},
   "source": [
    "## Harmonic Potential"
   ]
  },
  {
   "cell_type": "code",
   "execution_count": null,
   "metadata": {},
   "outputs": [],
   "source": [
    "def grad_H2D(coord, boxsize=(0,1), pbc=False, r0=0.5, k=1):\n",
    "    return gradients.harmonic(coord, boxsize, pbc, r0, k)\n",
    "\n",
    "#def grad_H2D2(coord, boxsize=(0,1), pbc=False, r0=2, k=k):\n",
    "#    return grad_H(coord, boxsize=(0,1), pbc=False, r0=r0, k=k)\n",
    "\n",
    "example = np.array([[0.9, 0.9], [0.3, 0.3]])\n",
    "t0 = time.time()\n",
    "x_H2D, steps_H2D = descent(example, grad_H2D, boxsize=(0,1), pbc=True, prec=1e-7, save_config=True)\n",
    "t1 = time.time()\n",
    "print(x_H2D[-1], ' \\n # of steps:', steps_H2D, ' \\n time elapsed', t1-t0)"
   ]
  },
  {
   "cell_type": "code",
   "execution_count": null,
   "metadata": {},
   "outputs": [],
   "source": [
    "x_init = x_H2D[0]\n",
    "positions = x_H2D\n",
    "\n",
    "fig, ax = plt.subplots(figsize=(4, 4))\n",
    "scat = ax.scatter(x_init[:,0], x_init[:,1])\n",
    "def animate(i):\n",
    "    index = 50*i\n",
    "    data = positions[index]\n",
    "    scat.set_offsets(data)\n",
    "    return scat\n",
    "#Writer = animation.writers['ffmpeg']\n",
    "#writer = Writer(fps=25, bitrate=1800)\n",
    "anim = animation.FuncAnimation(fig, animate, interval=1, repeat=False)\n",
    "#anim.save('LJ_Harmonic_Particles.mp4', writer=writer)"
   ]
  },
  {
   "cell_type": "code",
   "execution_count": null,
   "metadata": {},
   "outputs": [],
   "source": [
    "config = x_H2D\n",
    "HO = np.sum(potentials.harmonic(config, boxsize=(0,1)), axis=-1)\n",
    "print()\n",
    "plt.plot(HO[0:-1])"
   ]
  },
  {
   "cell_type": "code",
   "execution_count": null,
   "metadata": {},
   "outputs": [],
   "source": [
    "def grad_H_3D(coord, boxsize=(0,1), pbc=False, r0=.5, k=1):\n",
    "    return gradients.harmonic(coord, boxsize, pbc, r0, k)\n",
    "\n",
    "example = Rand_Coord(2000)\n",
    "t0 = time.time()\n",
    "#x_H_3D = descent(example, grad_H_3D, boxsize=(0,1), pbc=True, prec=1e-6, a=1e-3)\n",
    "x_H_3D, steps_H_3D = descent(example, grad_H_3D, boxsize=(0,1), pbc=True, prec=1e-6, a=1e-3, save_config=True)\n",
    "t1 = time.time()\n",
    "print(x_H_3D.shape, ' \\n # of steps:', steps_H_3D, ' \\n time elapsed', t1-t0)"
   ]
  },
  {
   "cell_type": "code",
   "execution_count": null,
   "metadata": {},
   "outputs": [],
   "source": [
    "from mpl_toolkits.mplot3d import Axes3D\n",
    "\n",
    "#x_init = x_H_3D[-1]\n",
    "#x_init = x_H_3D[0]\n",
    "x_init = x_H_3D[int(len(x_H_3D)/2)]\n",
    "positions = x_H_3D\n",
    "\n",
    "fig = plt.figure(figsize=(7,7))\n",
    "ax = fig.add_subplot(111, projection='3d')\n",
    "colors = np.arange(len(x_init))\n",
    "scat = ax.scatter(x_init[:,0], x_init[:,1], x_init[:,2])\n",
    "def animate(i):\n",
    "    index = 20*i\n",
    "    data = positions[index]\n",
    "    scat._offsets3d=(data[:,0],data[:,1],data[:,2])\n",
    "    return scat,\n",
    "\n",
    "#anim = animation.FuncAnimation(fig, animate, interval=1)\n",
    "anim = animation.FuncAnimation(fig, animate, interval=10)#, frames=1050, repeat=False)"
   ]
  },
  {
   "cell_type": "markdown",
   "metadata": {},
   "source": [
    "## Harmonic & LJ Potential"
   ]
  },
  {
   "cell_type": "code",
   "execution_count": null,
   "metadata": {},
   "outputs": [],
   "source": [
    "sigma=1\n",
    "def grad_HL(coord, boxsize=(0,1), pbc=False, r0=1, k=1, eps=1, sig=sigma):\n",
    "    vecs = vectors(coord, boxsize, pbc)\n",
    "    return gradients.harmonic(coord, boxsize, pbc, r0, k) + gradients.LJ(vecs, eps=eps, sig=sig)\n",
    "   "
   ]
  },
  {
   "cell_type": "code",
   "execution_count": null,
   "metadata": {},
   "outputs": [],
   "source": [
    "#N = 2\n",
    "#x_HL_2D_init = Rand_Coord(N, dim=2, boxsize=(-1,1))*np.sqrt(N)\n",
    "\n",
    "x_HL_2D_init = np.array([[2.,-2], [-2,2]])\n",
    "#x_HL_2D_init = np.array([[-4.,1], [-2,1]])\n",
    "\n",
    "print(x_HL_2D_init)"
   ]
  },
  {
   "cell_type": "code",
   "execution_count": null,
   "metadata": {},
   "outputs": [],
   "source": [
    "t0 = time.time()\n",
    "x_HL_2D, steps_HL_2D = descent(x_HL_2D_init, grad_HL, pbc=False, a=3e-3, prec=1e-6, maxst=1e6, save_config=True)\n",
    "t1 = time.time()\n",
    "print(steps_HL_2D, '\\n', 'time elapsed: ', t1-t0)"
   ]
  },
  {
   "cell_type": "code",
   "execution_count": null,
   "metadata": {},
   "outputs": [],
   "source": [
    "x_init = x_HL_2D[0]\n",
    "positions = x_HL_2D\n",
    "\n",
    "\n",
    "fig, ax = plt.subplots(figsize=(5, 5))\n",
    "colors = np.arange(len(x_init))\n",
    "scat = ax.scatter(x_init[:,0], x_init[:,1])#, c=q)\n",
    "circles = [plt.Circle(r, radius=0.561*sigma, fill=False) \n",
    "            for i,r in enumerate(x_init)]\n",
    "for c in circles:\n",
    "    plt.gca().add_patch(c)\n",
    "axlim=(-2,2)\n",
    "ax.set_xlim(axlim)\n",
    "ax.set_ylim((-1,3,))\n",
    "def animate(i):\n",
    "    index = 1*i\n",
    "    data = positions[index]\n",
    "    scat.set_offsets(data)\n",
    "    for i, c in enumerate(circles):\n",
    "        c.center = data[i]\n",
    "    return scat\n",
    "anim = animation.FuncAnimation(fig, animate, interval=1)"
   ]
  },
  {
   "cell_type": "code",
   "execution_count": null,
   "metadata": {},
   "outputs": [],
   "source": [
    "x_init = x_HL_2D[427]\n",
    "positions = x_HL_2D[427]\n",
    "\n",
    "fig, ax = plt.subplots(figsize=(5, 5))\n",
    "colors = np.arange(len(x_init))\n",
    "#scat = ax.scatter(x_init[:,0], x_init[:,1])#, c=q)\n",
    "circles = [plt.Circle(r, radius=0.561*sigma, fill=False) \n",
    "            for i,r in enumerate(x_init)]\n",
    "for c in circles:\n",
    "    plt.gca().add_patch(c)\n",
    "axlim=(0,2)\n",
    "ax.set_xlim(axlim)\n",
    "ax.set_ylim(axlim)\n",
    "ax.scatter(x_HL_2D[427][0], x_HL_2D[427][1])\n",
    "\n",
    "x427= x_HL_2D[427]\n",
    "print(np.linalg.norm(x_HL_2D[427]-1,axis=-1))\n",
    "HO = np.sum(potentials.harmonic(x427, boxsize=(0,1)), axis=-1)\n",
    "LJ = np.sum(np.array([potentials.LJ(distances(vectors(x427)))]))\n",
    "print(HO+LJ)\n",
    "#\n",
    "configmin = x_HL_2D[-1]\n",
    "print(np.linalg.norm(x_HL_2D[-1]-1,axis=-1))\n",
    "HO = np.sum(potentials.harmonic(configmin, boxsize=(0,1)), axis=-1)\n",
    "LJ = np.sum(np.array([potentials.LJ(distances(vectors(configmin)))]))\n",
    "print(HO+LJ)"
   ]
  },
  {
   "cell_type": "markdown",
   "metadata": {},
   "source": [
    "### Potential energy"
   ]
  },
  {
   "cell_type": "code",
   "execution_count": null,
   "metadata": {},
   "outputs": [],
   "source": [
    "config = x_HL_2D\n",
    "HO = np.sum(potentials.harmonic(config, boxsize=(0,1)), axis=-1)\n",
    "LJ = np.array([potentials.LJ(distances(vectors(config[i]))) for i in range(len(config))])\n",
    "#\n",
    "fig1, (ax1, ax2) = plt.subplots(nrows=1, ncols=2, figsize=(8,4))\n",
    "ax1.plot(HO)\n",
    "#ax1.plot(HO[424:434])\n",
    "ax1.set_title(\"HO\")\n",
    "ax2.plot(LJ)\n",
    "#ax2.plot(LJ[424:434])\n",
    "ax2.set_title(\"LJ\")\n",
    "fig.tight_layout()"
   ]
  },
  {
   "cell_type": "code",
   "execution_count": null,
   "metadata": {},
   "outputs": [],
   "source": [
    "sigma=1\n",
    "def grad_HL(coord, boxsize=(0,1), pbc=False, r0=0.5, k=.1, eps=1, sig=sigma):\n",
    "    vecs = vectors(coord, boxsize, pbc)\n",
    "    return gradients.harmonic(coord, boxsize, pbc, r0, k) + gradients.LJ(vecs, eps=eps, sig=sig)\n",
    "   \n",
    "N = 40\n",
    "#x_HL_3D_init = Random_particles(N, dim=3)[0]*np.sqrt(N)\n",
    "x_HL_3D_init = init_x(N=3, dim=3)[0]\n",
    "print(x_HL_3D_init.shape)"
   ]
  },
  {
   "cell_type": "code",
   "execution_count": null,
   "metadata": {},
   "outputs": [],
   "source": [
    "t0 = time.time()\n",
    "x_HL_3D, steps_HL_3D = descent(x_HL_3D_init, grad_HL, pbc=False, a=2e-3, prec=1e-5, save_config=True)\n",
    "t1 = time.time()\n",
    "print(steps_HL_3D, '\\n', 'time elapsed: ', t1-t0)"
   ]
  },
  {
   "cell_type": "code",
   "execution_count": null,
   "metadata": {},
   "outputs": [],
   "source": [
    "from mpl_toolkits.mplot3d import Axes3D\n",
    "\n",
    "x_init = x_HL_3D[0]\n",
    "positions = x_HL_3D\n",
    "\n",
    "fig = plt.figure(figsize=(9,9))\n",
    "ax = fig.add_subplot(111, projection='3d')\n",
    "colors = np.arange(len(x_init))\n",
    "scat = ax.scatter(x_init[:,0], x_init[:,1], x_init[:,2])\n",
    "def animate(i):\n",
    "    index = 20*i\n",
    "    data = positions[index]\n",
    "    scat._offsets3d=(data[:,0],data[:,1],data[:,2])\n",
    "    return scat,\n",
    "\n",
    "#anim = animation.FuncAnimation(fig, animate, interval=1)\n",
    "anim = animation.FuncAnimation(fig, animate, interval=10)#, frames=1050, repeat=False)"
   ]
  },
  {
   "cell_type": "markdown",
   "metadata": {},
   "source": [
    "## Harmonic, LJ & Coulomb Potential"
   ]
  },
  {
   "cell_type": "code",
   "execution_count": null,
   "metadata": {},
   "outputs": [],
   "source": [
    "N = 20\n",
    "x_HLC_2D_init = Rand_Coord(N=N, dim=2, boxsize=(-1,1)) * np.sqrt(N) \n",
    "if N < 9:  x_HLC_2D_init *= 3\n",
    "q = Rand_Charge(N=N, neutral=True, q_ampl=3)\n",
    "\n",
    "sigma=1\n",
    "\n",
    "def grad_HLC(coord, boxsize=(0,1), pbc=False, r0=0, k=.2, eps=1, sig=sigma):\n",
    "    vecs = vectors(coord, boxsize, pbc)\n",
    "    return gradients.harmonic(coord, boxsize, pbc, r0, k) + gradients.LJ(vecs, eps, sig) - gradients.coulomb(vecs, q)\n",
    "    #return  gradients.harmonic(coord, boxsize, pbc, r0, k) - gradients.coulomb(vecs, q)\n",
    "\n",
    "print(x_HLC_2D_init.shape, q.shape)"
   ]
  },
  {
   "cell_type": "code",
   "execution_count": null,
   "metadata": {},
   "outputs": [],
   "source": [
    "#print(x_HLC_2D_init, q)\n",
    "print(q)"
   ]
  },
  {
   "cell_type": "code",
   "execution_count": null,
   "metadata": {},
   "outputs": [],
   "source": [
    "t0 = time.time()\n",
    "x_HLC_2D, steps_HLC_2D = descent(x_HLC_2D_init, grad_HLC, pbc=False, a=1e-4, prec=1e-5, maxst=1e6, save_config=True)\n",
    "t1 = time.time()\n",
    "print(steps_HLC_2D, '\\n', 'time elapsed: ', t1-t0)"
   ]
  },
  {
   "cell_type": "code",
   "execution_count": null,
   "metadata": {},
   "outputs": [],
   "source": [
    "x_init = x_HLC_2D[0]\n",
    "positions = x_HLC_2D\n",
    "\n",
    "\n",
    "fig, ax = plt.subplots(figsize=(7, 7))\n",
    "colors = np.arange(len(x_init))\n",
    "scat = ax.scatter(x_init[:,0], x_init[:,1], c=q)\n",
    "circles = [plt.Circle(r, radius=0.561*sigma, fill=False) \n",
    "            for i,r in enumerate(x_init)]\n",
    "for c in circles:\n",
    "    plt.gca().add_patch(c)\n",
    "ax.set_xlim(-5, 5)\n",
    "ax.set_ylim(-5, 5)\n",
    "def animate(i):\n",
    "    index = 40*i\n",
    "    data = positions[index]\n",
    "    scat.set_offsets(data)\n",
    "    for i, c in enumerate(circles):\n",
    "        c.center = data[i]\n",
    "    return scat\n",
    "anim = animation.FuncAnimation(fig, animate, interval=1)"
   ]
  },
  {
   "cell_type": "code",
   "execution_count": null,
   "metadata": {},
   "outputs": [],
   "source": [
    "config = x_HLC_2D\n",
    "HO = np.sum(potentials.harmonic(config, boxsize=(0,1)), axis=-1)\n",
    "LJ = np.array([potentials.LJ(distances(vectors(config[i]))) for i in range(len(config))])\n",
    "LJ = np.sum(LJ, axis=-1)\n",
    "Coul = np.array([potentials.coulomb(distances(vectors(config[i])), q) for i in range(len(config))])\n",
    "#Coul = np.sum(Coul, axis=-1)\n",
    "print(HO[-1], LJ[-1], Coul[-1])\n",
    "#\n",
    "fig1, (ax1, ax2, ax3) = plt.subplots(nrows=1, ncols=3, figsize=(8,4))\n",
    "#ax1.plot(HO[424:434])\n",
    "ax1.plot(HO)\n",
    "ax1.set_title(\"HO\")\n",
    "#ax2.plot(LJ[424:434])\n",
    "ax2.plot(LJ)\n",
    "ax2.set_title(\"LJ\")\n",
    "#ax2.plot(LJ[424:434])\n",
    "ax3.plot(Coul)\n",
    "ax3.set_title(\"Coulomb\")\n",
    "fig.tight_layout()"
   ]
  },
  {
   "cell_type": "markdown",
   "metadata": {},
   "source": [
    "## Ewald"
   ]
  },
  {
   "cell_type": "code",
   "execution_count": null,
   "metadata": {},
   "outputs": [],
   "source": [
    "E = Ewald(charges=q, boxsize=(0,1), alpha=5, r_cutoff=5, n_max=2, k_cutoff=5)\n",
    "#E.params = (5, 3, 4, 4) # appropriate Ewald parameters for NaCl\n",
    "charges = np.asarray([-1, -1, -1, -1, 1, 1, 1, 1.])\n",
    "#charges = np.asarray([-1, -1, -1, -1, 1, 1, 1, 1])\n",
    "pos = np.asarray([[0.05,0,0], [.5,.5,0], [.5,0,.5], [0,.5,.5], \n",
    "                  [.5,.5,.5], [.5,0,0], [0,.5,0],[0,0,.5]]) # slightly displace one particle\n",
    "\n",
    "def grad_E(coord, boxsize=(0,1), pbc=True):\n",
    "    return -E.force(coord)\n",
    "\n",
    "#descent(pos, grad_E, pbc=True)"
   ]
  },
  {
   "cell_type": "code",
   "execution_count": null,
   "metadata": {},
   "outputs": [],
   "source": []
  }
 ],
 "metadata": {
  "kernelspec": {
   "display_name": "Python 3",
   "language": "python",
   "name": "python3"
  },
  "language_info": {
   "codemirror_mode": {
    "name": "ipython",
    "version": 3
   },
   "file_extension": ".py",
   "mimetype": "text/x-python",
   "name": "python",
   "nbconvert_exporter": "python",
   "pygments_lexer": "ipython3",
   "version": "3.7.2"
  }
 },
 "nbformat": 4,
 "nbformat_minor": 2
}
