{
 "cells": [
  {
   "cell_type": "code",
   "execution_count": 1,
   "metadata": {},
   "outputs": [
    {
     "name": "stdout",
     "output_type": "stream",
     "text": [
      "[[0. 1. 1. 1. 1. 1. 1. 1. 1. 1.]\n",
      " [1. 0. 1. 1. 1. 1. 1. 1. 1. 1.]\n",
      " [1. 1. 0. 1. 1. 1. 1. 1. 1. 1.]\n",
      " [1. 1. 1. 0. 1. 1. 1. 1. 1. 1.]\n",
      " [1. 1. 1. 1. 0. 1. 1. 1. 1. 1.]\n",
      " [1. 1. 1. 1. 1. 0. 1. 1. 1. 1.]\n",
      " [1. 1. 1. 1. 1. 1. 0. 1. 1. 1.]\n",
      " [1. 1. 1. 1. 1. 1. 1. 0. 1. 1.]\n",
      " [1. 1. 1. 1. 1. 1. 1. 1. 0. 1.]\n",
      " [1. 1. 1. 1. 1. 1. 1. 1. 1. 0.]]\n"
     ]
    }
   ],
   "source": [
    "import matplotlib.pyplot as plt\n",
    "import numpy as np\n",
    "from numba import jit\n",
    "from distances import *\n",
    "from Potentials import *"
   ]
  },
  {
   "cell_type": "code",
   "execution_count": 64,
   "metadata": {},
   "outputs": [],
   "source": [
    "#creates initial velocities. Mean value given by energy, spread given by variance\n",
    "def initial_velocities(n_atoms, dim, energy, mass, variance):\n",
    "    plus_minus = np.array([np.random.normal(np.random.choice([1,-1])*np.sqrt(2*energy/mass),variance) for i in range(n_atoms*dim)])\n",
    "    return plus_minus.reshape(n_atoms,dim)\n",
    "    \n",
    "\n",
    "def new_config(coord,stepsize,pbc=False):\n",
    "    proposal = np.random.normal(coord,stepsize)\n",
    "    if pbc:\n",
    "        #in case of pbc, shift the values outside of the box accordingly\n",
    "        proposal += (proposal > max_a)*max_a*(-1) + (proposal < min_a)*max_a\n",
    "    else:\n",
    "        #if proposed values lie outside of box, we pull them back in with the next command\n",
    "        #go back to edge of box if outside\n",
    "        proposal += (proposal > max_a)*(-1)*(proposal-max_a) + (proposal < min_a)*(min_a-proposal)\n",
    "    return proposal"
   ]
  },
  {
   "cell_type": "code",
   "execution_count": 55,
   "metadata": {},
   "outputs": [],
   "source": [
    "#Variables to be defined: init_coord, LJ:sigma, LJ:epsilon, Coulomb:epsilon charges, potentials, boxsize, n_atoms\n",
    "@jit\n",
    "def mcmc(n_atoms,dim,n_steps,stepsize,pbc=False):\n",
    "    coord = np.random.rand(n_atoms,dim)*max_a\n",
    "    for i in range(n_steps):\n",
    "        dist=distances(vectors(coord,pbc))\n",
    "        #calculate the sum of potentials\n",
    "        sumpot = np.sum(LJ(dist,sigma,eps))\n",
    "        #propose new configuration (normally distributed around the old coordinates, variance given by stepsizei)\n",
    "        proposal = new_config(coord,stepsize,pbc)\n",
    "        proposed_sumpot = np.sum(LJ(distances(vectors(proposal,pbc)),sigma,eps))\n",
    "        prob = np.exp((sumpot-proposed_sumpot)*beta)\n",
    "        if prob > np.random.uniform(0,1):\n",
    "            coord = proposal\n",
    "    return coord"
   ]
  },
  {
   "cell_type": "code",
   "execution_count": 47,
   "metadata": {},
   "outputs": [],
   "source": []
  },
  {
   "cell_type": "code",
   "execution_count": 67,
   "metadata": {},
   "outputs": [],
   "source": []
  },
  {
   "cell_type": "code",
   "execution_count": null,
   "metadata": {},
   "outputs": [],
   "source": []
  },
  {
   "cell_type": "code",
   "execution_count": null,
   "metadata": {},
   "outputs": [],
   "source": []
  },
  {
   "cell_type": "code",
   "execution_count": null,
   "metadata": {},
   "outputs": [],
   "source": []
  }
 ],
 "metadata": {
  "kernelspec": {
   "display_name": "Python 3",
   "language": "python",
   "name": "python3"
  },
  "language_info": {
   "codemirror_mode": {
    "name": "ipython",
    "version": 3
   },
   "file_extension": ".py",
   "mimetype": "text/x-python",
   "name": "python",
   "nbconvert_exporter": "python",
   "pygments_lexer": "ipython3",
   "version": "3.7.0"
  }
 },
 "nbformat": 4,
 "nbformat_minor": 2
}
