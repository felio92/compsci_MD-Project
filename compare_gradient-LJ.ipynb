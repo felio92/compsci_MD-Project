{
 "cells": [
  {
   "cell_type": "markdown",
   "metadata": {},
   "source": [
    "# LJ-Gradient: Numpy vs. Torch "
   ]
  },
  {
   "cell_type": "code",
   "execution_count": 1,
   "metadata": {},
   "outputs": [],
   "source": [
    "import numpy as np\n",
    "import torch"
   ]
  },
  {
   "cell_type": "code",
   "execution_count": 2,
   "metadata": {},
   "outputs": [],
   "source": [
    "def dist_torch(x): \n",
    "    \"\"\"Calculates distance vectors and distances (euclidian norm of vecs)\n",
    "    \n",
    "    Arguments:\n",
    "        x (float): position vectors (dim = N x 3)\n",
    "    \n",
    "    Output:\n",
    "        dist (float): distances between particle pairs (dim = N x N)\n",
    "        vecs (float): distance vectors between particle pairs (dim = N x N x 3)\n",
    "    \"\"\"\n",
    "    x = torch.Tensor(x)\n",
    "    vecs = x[None, :, :] - x[:, None, :]       \n",
    "    return torch.norm(vecs, dim=-1), vecs\n",
    "\n",
    "def gradLJ_t(x, sig=1, eps=1):\n",
    "    dist, vecs = dist_torch(x)\n",
    "    dist[dist!=0] = 1/dist[dist!=0]\n",
    "    D_att = 6 * sig**6 * dist**8\n",
    "    D_rep = -12 * sig**12 * dist**14\n",
    "    D = 4*(eps*(D_att + D_rep))[:, :, None]*vecs\n",
    "    return torch.sum(D, dim=-2)\n",
    "\n",
    "# Felix\n",
    "def vectors(coord, boxsize, pbc=False):\n",
    "    vecs = coord[:, None, :] - coord[None, :, :]\n",
    "    if not pbc:\n",
    "        return vecs\n",
    "    elif pbc:\n",
    "        L = boxsize[1] - boxsize[0] #calculate boxlength\n",
    "        vecs += (vecs<-0.5*L)*L - (vecs>0.5*L)*L\n",
    "        return vecs\n",
    "\n",
    "def distances(vectors):\n",
    "    return np.linalg.norm(vectors,axis=-1)\n",
    "    \n",
    "def gradLJ(vecs, sig=1, eps=1):\n",
    "    dist = distances(vecs)\n",
    "    dist[dist!=0] = 1/dist[dist!=0]\n",
    "    D_att = 6 * sig**6 * dist**8\n",
    "    D_rep = -12 * sig**12 * dist**14\n",
    "    D = 4*(eps*(D_att + D_rep))[:, :, None]*vecs\n",
    "    return np.sum(D, axis=-2)"
   ]
  },
  {
   "cell_type": "code",
   "execution_count": 3,
   "metadata": {},
   "outputs": [],
   "source": [
    "import random\n",
    "import timeit\n",
    "\n",
    "def Random_particles( N, dim=3 ):\n",
    "    \"\"\"Creates a list of N particles with random positions and charges\n",
    "    \n",
    "    Arguments:\n",
    "        N (int): number of particles\n",
    "        \n",
    "    Output:\n",
    "        x (float): position vectors (dim = N x 3)\n",
    "        q (int): charges (dim = N)\n",
    "    \"\"\"\n",
    "    return np.random.uniform(-1,1, size=(N,dim)), np.array([[-1, 1][random.randrange(2)] for i in range(N)])"
   ]
  },
  {
   "cell_type": "code",
   "execution_count": 4,
   "metadata": {},
   "outputs": [],
   "source": [
    "x_init = Random_particles(100)[0]"
   ]
  },
  {
   "cell_type": "code",
   "execution_count": 5,
   "metadata": {},
   "outputs": [
    {
     "name": "stdout",
     "output_type": "stream",
     "text": [
      "3.48 ms ± 171 µs per loop (mean ± std. dev. of 7 runs, 100 loops each)\n",
      "2.24 ms ± 21.8 µs per loop (mean ± std. dev. of 7 runs, 100 loops each)\n"
     ]
    }
   ],
   "source": [
    "%timeit gradLJ_t(x_init).numpy()\n",
    "%timeit gradLJ(vectors(x_init, boxsize=(0,1)))"
   ]
  },
  {
   "cell_type": "code",
   "execution_count": null,
   "metadata": {},
   "outputs": [],
   "source": []
  }
 ],
 "metadata": {
  "kernelspec": {
   "display_name": "Python 3",
   "language": "python",
   "name": "python3"
  },
  "language_info": {
   "codemirror_mode": {
    "name": "ipython",
    "version": 3
   },
   "file_extension": ".py",
   "mimetype": "text/x-python",
   "name": "python",
   "nbconvert_exporter": "python",
   "pygments_lexer": "ipython3",
   "version": "3.7.2"
  }
 },
 "nbformat": 4,
 "nbformat_minor": 2
}
