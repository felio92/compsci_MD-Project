{
 "cells": [
  {
   "cell_type": "markdown",
   "metadata": {},
   "source": [
    "# Integrators\n",
    "- numerical procedure for solving ordinary differential equations (ODEs) with a given initial value"
   ]
  },
  {
   "cell_type": "code",
   "execution_count": null,
   "metadata": {},
   "outputs": [],
   "source": [
    "%matplotlib notebook\n",
    "import numpy as np\n",
    "from numba import jit\n",
    "from potentials import *\n",
    "from distances import *\n",
    "from sampling import *\n",
    "from integrators import *\n",
    "from optimize import *\n",
    "import matplotlib.pyplot as plt\n",
    "from matplotlib import animation\n",
    "from IPython.display import HTML\n",
    "from mpl_toolkits.mplot3d import Axes3D"
   ]
  },
  {
   "cell_type": "markdown",
   "metadata": {},
   "source": [
    "### potential"
   ]
  },
  {
   "cell_type": "code",
   "execution_count": null,
   "metadata": {},
   "outputs": [],
   "source": [
    "def pot_grad(position, boxsize = (0., 1.), sig = 1., eps = 1., pbc = False):\n",
    "    return gradients.harmonic(position, boxsize, r0=0.5)\n",
    "def pot(position, boxsize = (0., 1.), sig = 1., eps = 1., pbc = False):\n",
    "    return potentials.harmonic(position, boxsize, r0=0.5)"
   ]
  },
  {
   "cell_type": "markdown",
   "metadata": {},
   "source": [
    "### sampling"
   ]
  },
  {
   "cell_type": "code",
   "execution_count": null,
   "metadata": {},
   "outputs": [],
   "source": [
    "position_mcmc = mcmc(potentials.LJ, 3, 2, 100, 0.01, save_config=True)[-1]\n",
    "position_init = descent(position_mcmc*5, pot_grad, save_config=True)[0][-1]"
   ]
  },
  {
   "cell_type": "markdown",
   "metadata": {},
   "source": [
    "- velocity\n",
    "- one particle coordination"
   ]
  },
  {
   "cell_type": "code",
   "execution_count": null,
   "metadata": {},
   "outputs": [],
   "source": [
    "#position_init = np.array([1., 1.])\n",
    "velocity_init = np.zeros_like(position_init)\n",
    "velocity_init[0] = [0.5, 1.]\n",
    "#position_init[0] = [10., 3.]\n",
    "#print(position_init)\n",
    "#print(distances(vectors(position_init, boxsize=(0,1))))"
   ]
  },
  {
   "cell_type": "markdown",
   "metadata": {},
   "source": [
    "### Euler algorithm\n",
    "- is a first-order scheme\n",
    "- approximating the integral with the finite sum \n",
    "- by the Taylor expansion, the quadratic and higher-order terms are ignored\n",
    "\n",
    "Approximation \n",
    "$$ x(t+\\tau)\\approx x(t)+\\tau\\, v(t)\\\\\n",
    "v(t+\\tau)\\approx v(t)+\\tau\\, a(t)=v(t)-\\frac{\\tau}{m}\\,\\nabla\\phi(x(t)) \\\\\n",
    "\\text{with}\\,\\, v= \\frac{\\partial x}{\\partial t}; \\,\\, \\text{and}\\,\\, a=\\frac{F}{m}=-\\frac{1}{m}\\nabla \\phi(x(t))$$"
   ]
  },
  {
   "cell_type": "code",
   "execution_count": null,
   "metadata": {},
   "outputs": [],
   "source": [
    "position_matrixe, velocity_matrixe, acceleration_matrixe = euler(pot_grad, position_init, velocity_init, 1, 100, 0.001)"
   ]
  },
  {
   "cell_type": "markdown",
   "metadata": {},
   "source": [
    "### Velocity-Verlet\n",
    "- approximating the integral with the finite sum by the Taylor expansion\n",
    "- the cubic and higher-order terms are ignored\n",
    "Approximation\n",
    "\n",
    "$$\n",
    "x(t+\\tau)\\approx x(t)+\\tau \\,v(t)-\\frac{\\tau ^2}{2m}\\nabla\\phi(x(t))\\\\\n",
    "v(t+\\tau)\\approx v(t)-\\frac{\\tau }{2m}\\left(\\nabla\\phi(x(t))+\\nabla\\phi(x(t+\\tau))\\right)\n",
    "$$\n"
   ]
  },
  {
   "cell_type": "code",
   "execution_count": null,
   "metadata": {},
   "outputs": [],
   "source": [
    "position_matrixv, velocity_matrixv, acceleration_matrixv = vv(pot_grad, position_init, velocity_init, 1, 100, 0.001)"
   ]
  },
  {
   "cell_type": "markdown",
   "metadata": {},
   "source": [
    "### Langevin\n",
    "- integration schemes that include a thermostat\n",
    "- full algorithms to simulate molecular dynamics in the N V T ensemble\n",
    "- stochastic dynamics, based on Langevin dynamics\n",
    "$$\n",
    "dp = M^{-1}v \\,\\text{d}t\\\\\n",
    "dv = -\\nabla \\phi(p)\\,\\text{d}t- \\gamma v \\,\\text{d}t + \\sigma M^{1/2}\\,\\text{d}W\n",
    "$$ \n",
    "     - the first part of the equation is equal to Newtonian dynamics\n",
    "     - and the function of the last two terms is to act as a thermostat (friction + noise)\n",
    "\n",
    "whereby:\n",
    "- $W = W (t)$ is a vector of 3N independent Wiener processes ? => results in the matrix of noise intensities and a vector of uncorrelated Gaussian random numbers $R_t$, \n",
    "* $\\gamma > 0$ is a free (scalar) parameter the isotopic friction constant which couple the system to the bath (damping parameter), \n",
    "* choosing $ \\sigma = \\sqrt{2\\gamma \\beta ^{-1}}$ it is possible to show that the unique probability distribution sampled by the dynamics is the canonical (Gibbs-Boltzmann) density\n",
    "\n",
    "integration by discretizing in time using a second-order numerical method  according to \n",
    "$$\\hat{L}*= L*_{\\text{LD}}+ \\delta t ^2 L*_2 + O(\\delta t^3)$$\n",
    "instead of Taylor series expansion\n",
    "\n",
    "for the BAOAB method the Langevin dynamics are breaked into three pieces\n",
    "$$\n",
    "\\left[ \\begin{matrix}dp\\\\dv\\end{matrix}\\right]= \\left[ \\begin{matrix}M^{-1}v\\\\0\\end{matrix}\\right]\\text{d}t+\\left[ \\begin{matrix}0\\\\-\\nabla\\phi(p)\\end{matrix}\\right]\\text{d}t\n",
    "+\\left[ \\begin{matrix}0\\\\-\\gamma v \\text{d}t + \\sigma M^{1/2}\\text{d}W\\end{matrix}\\right]$$\n",
    "\n",
    "- firts part is labelled A, second as B and third O\n",
    "O piece is associated with an Ornstein-Uhlenbeck equation with “exact” solution:\n",
    "$$v(t) = e^{-\\gamma t} v(0)+ \\frac{\\sigma}{\\sqrt{2\\gamma}}\\sqrt{1-e^{-2\\gamma t}}M^{1/2}R_t$$\n",
    "where $R_t$ is a vector of uncorrelated noise processes\n",
    "\n",
    "- the sequence is given through BAOAB\n",
    "- to ensure the method is symmetric  all “A” and “B” parts in BAOAB are integrated for a half timestep \n",
    "\n"
   ]
  },
  {
   "cell_type": "code",
   "execution_count": null,
   "metadata": {},
   "outputs": [],
   "source": [
    "position_matrixl, velocity_matrixl, acceleration_matrixl = langevin(pot_grad, position_init, velocity_init, 1, 100, 0.001)"
   ]
  },
  {
   "cell_type": "markdown",
   "metadata": {},
   "source": [
    "### phase volume preservation"
   ]
  },
  {
   "cell_type": "code",
   "execution_count": null,
   "metadata": {},
   "outputs": [],
   "source": [
    "fig, axes = plt.subplots(1, 3, figsize=(7, 6))\n",
    "for ax, integrator in zip(axes.flat, (euler, vv, langevin)):\n",
    "    x, v, _ = integrator(\n",
    "        pot_grad, position_init, velocity_init, 1, 100, 0.1)\n",
    "    ax.plot(x[:,0], v[:,0])\n",
    "    ax.set_aspect('equal')\n",
    "    ax.set_xlabel(r'$p$')\n",
    "    ax.set_ylabel(r'$v$')\n",
    "fig.tight_layout()"
   ]
  },
  {
   "cell_type": "markdown",
   "metadata": {},
   "source": [
    "#### Euler\n",
    "- explicit Euler \n",
    "- do not perserve energy over time or volume in phase space\n",
    "    - trajectories diverge\n",
    "- deckt sich mit stability analysis des euler shemes \n",
    "\n",
    "#### Velocity-Verlet\n",
    "- Reversible integrator \n",
    "- symplectic\n",
    "    - conservation of volume occupied in phase space\n",
    "    \n",
    "#### Langevin\n",
    "- no damping $\\gamma = 0$ $\\rightarrow$ Newton dynamics \n",
    "    - symplectic\n",
    "        - conservation of volume occupied in phase space"
   ]
  },
  {
   "cell_type": "markdown",
   "metadata": {},
   "source": [
    "## pbc vs. box\n",
    "1. particle in center of box, HO at box edges, pbc\n",
    "    - code pbc\n",
    "2. particle in center of box, HO at box edges, barrier potential\n",
    "    - code barrier potential"
   ]
  },
  {
   "cell_type": "code",
   "execution_count": null,
   "metadata": {},
   "outputs": [],
   "source": [
    "def pot_grad(position, boxsize = (0., 1.), sig = 1., eps = 1., pbc = True):\n",
    "    #vecs = vectors(position, boxsize, pbc = True)\n",
    "    return gradients.harmonic(position, boxsize, r0=1)\n",
    "\n",
    "position_init = np.array([0.5, 0.5])\n",
    "velocity_init = np.zeros_like(position_init)\n",
    "\n",
    "position_matrix, velocity_matrix, acceleration_matrix = vv(pot_grad, position_init, velocity_init, 1, 10, 0.001, (0, 1), pbc=True)\n"
   ]
  },
  {
   "cell_type": "code",
   "execution_count": null,
   "metadata": {},
   "outputs": [],
   "source": [
    "fig, ax = plt.subplots(figsize=(6, 6))\n",
    "r_init = position_matrix[0]\n",
    "r_matrix = position_matrix\n",
    "v_matrix = velocity_matrix\n",
    "colors = np.arange(len(r_init))\n",
    "scat = ax.scatter(r_init[:,0], r_init[:,1], c=colors)\n",
    "ax.set_xlabel(r'$p_x$')\n",
    "ax.set_ylabel(r'$p_y$')\n",
    "circles = [plt.Circle(r, radius=0.2, fill=False) for i,r in enumerate(r_init)]\n",
    "for c in circles:\n",
    "    plt.gca().add_patch(c)\n",
    "qax = ax.quiver(r_matrix[0,:,0], r_matrix[0,:,1], v_matrix[1,:,0], v_matrix[1,:,1],np.arange(len(r_init)),scale=50, width=0.005)\n",
    "ax.set_xlim(-0.2, 1.2)\n",
    "ax.set_ylim(-0.2, 1.2)\n",
    "ax.plot(position_matrix[:,0, 0], position_matrix[:,0,1])\n",
    "def animate(i):\n",
    "    index = 4*i\n",
    "    data = r_matrix[index]\n",
    "    scat.set_offsets(data)\n",
    "    for i, c in enumerate(circles):\n",
    "        c.center = data[i]\n",
    "    qax.set_UVC(v_matrix[index,:,0],v_matrix[index,:,1])\n",
    "    qax.set_offsets(data)\n",
    "    return scat,\n",
    "\n",
    "#Writer = animation.writers['ffmpeg']\n",
    "#writer = Writer(fps=25, bitrate=1800)\n",
    "anim = animation.FuncAnimation(fig, animate, interval=1, repeat=False)\n",
    "#anim.save('LJ_Harmonic_Particles.mp4', writer=writer)\n"
   ]
  },
  {
   "cell_type": "code",
   "execution_count": null,
   "metadata": {},
   "outputs": [],
   "source": [
    "def pot_grad(position, boxsize = (0., 1.), sig = 1., eps = 1., pbc = False):\n",
    "    #vecs = vectors(position, boxsize, pbc = True)\n",
    "    return gradients.harmonic(position, boxsize, r0=1)+ gradients.pot_barrier(position, boxsize)\n",
    "\n",
    "position_init = np.array([0.5, 0.5])\n",
    "velocity_init = np.zeros_like(position_init)\n",
    "\n",
    "position_matrix, velocity_matrix, acceleration_matrix = vv(pot_grad, position_init, velocity_init, 1, 10, 0.001, (0, 1), pbc=False)"
   ]
  },
  {
   "cell_type": "code",
   "execution_count": null,
   "metadata": {},
   "outputs": [],
   "source": [
    "fig, ax = plt.subplots(figsize=(6, 6))\n",
    "r_init = position_matrix[0]\n",
    "r_matrix = position_matrix\n",
    "v_matrix = velocity_matrix\n",
    "colors = np.arange(len(r_init))\n",
    "scat = ax.scatter(r_init[:,0], r_init[:,1], c=colors)\n",
    "ax.set_xlabel(r'$p_x$')\n",
    "ax.set_ylabel(r'$p_y$')\n",
    "circles = [plt.Circle(r, radius=0.2, fill=False) for i,r in enumerate(r_init)]\n",
    "for c in circles:\n",
    "    plt.gca().add_patch(c)\n",
    "qax = ax.quiver(r_matrix[0,:,0], r_matrix[0,:,1], v_matrix[1,:,0], v_matrix[1,:,1],np.arange(len(r_init)),scale=50, width=0.005)\n",
    "ax.set_xlim(-0.2, 1.2)\n",
    "ax.set_ylim(-0.2, 1.2)\n",
    "ax.plot(position_matrix[:,0, 0], position_matrix[:,0,1])\n",
    "def animate(i):\n",
    "    index = 4*i\n",
    "    data = r_matrix[index]\n",
    "    scat.set_offsets(data)\n",
    "    for i, c in enumerate(circles):\n",
    "        c.center = data[i]\n",
    "    qax.set_UVC(v_matrix[index,:,0],v_matrix[index,:,1])\n",
    "    qax.set_offsets(data)\n",
    "    return scat,\n",
    "\n",
    "#Writer = animation.writers['ffmpeg']\n",
    "#writer = Writer(fps=25, bitrate=1800)\n",
    "anim = animation.FuncAnimation(fig, animate, interval=1, repeat=False)\n",
    "#anim.save('LJ_Harmonic_Particles.mp4', writer=writer)"
   ]
  },
  {
   "cell_type": "markdown",
   "metadata": {},
   "source": [
    "##  visualisation trajectories\n",
    "1. one paricle with initial velocity, LJ, barrier potential\n",
    "2. one paricle with initial velocity, LJ, pbc"
   ]
  },
  {
   "cell_type": "code",
   "execution_count": null,
   "metadata": {},
   "outputs": [],
   "source": [
    "def pot_grad_b(position, pbc = False, boxsize = (-5., 5.), sig = 1, eps = 1):\n",
    "    vecs = vectors(position, boxsize, pbc = False)\n",
    "    return gradients.LJ(vecs, eps, sig) + gradients.pot_barrier(position, boxsize)\n",
    "def pot_b(position, sig = 1, eps = 1, boxsize = (-5, 5), pbc = False):\n",
    "    vecs = vectors(position, boxsize, pbc)\n",
    "    dist = distances(vecs)\n",
    "    return potentials.LJ(dist, eps, sig) + potentials.pot_barrier(position, boxsize)\n",
    "\n",
    "position_mcmc_b = mcmc(pot_b, 100, 2, 10, 0.001, boxsize = (-5, 5))"
   ]
  },
  {
   "cell_type": "code",
   "execution_count": null,
   "metadata": {},
   "outputs": [],
   "source": [
    "position_init_b = descent(position_mcmc_b, pot_grad_b, boxsize=(-5,5), save_config=False)"
   ]
  },
  {
   "cell_type": "code",
   "execution_count": null,
   "metadata": {},
   "outputs": [],
   "source": [
    "velocity_init_b = np.zeros_like(position_init_b)\n",
    "position_init_b[0] = [10., 0.]\n",
    "velocity_init_b[0] = [-3., 0.]"
   ]
  },
  {
   "cell_type": "code",
   "execution_count": null,
   "metadata": {},
   "outputs": [],
   "source": [
    "position_matrix_b, velocity_matrix_b, acceleration_matrix_b = vv(pot_grad_b, position_init_b, velocity_init_b, 1, 10, 1e-3, (-5, 5))"
   ]
  },
  {
   "cell_type": "code",
   "execution_count": null,
   "metadata": {},
   "outputs": [],
   "source": [
    "fig, ax = plt.subplots(figsize=(6, 6))\n",
    "r_init = position_matrix_b[0]\n",
    "r_matrix = position_matrix_b\n",
    "v_matrix = velocity_matrix_b\n",
    "colors = np.arange(len(r_init))\n",
    "scat = ax.scatter(r_init[:,0], r_init[:,1], c=colors)\n",
    "ax.set_xlabel(r'$p_x$')\n",
    "ax.set_ylabel(r'$p_y$')\n",
    "circles = [plt.Circle(r, radius=0.5, fill=False) for i,r in enumerate(r_init)]\n",
    "for c in circles:\n",
    "    plt.gca().add_patch(c)\n",
    "qax = ax.quiver(r_matrix[0,:,0], r_matrix[0,:,1], v_matrix[1,:,0], v_matrix[1,:,1],np.arange(len(r_init)),scale=50, width=0.005)\n",
    "ax.set_xlim(-7, 7)\n",
    "ax.set_ylim(-7, 7)\n",
    "ax.plot(position_matrix_b[:,0, 0], position_matrix_b[:,0,1])\n",
    "def animate(i):\n",
    "    index = 4*i\n",
    "    data = r_matrix[index]\n",
    "    scat.set_offsets(data)\n",
    "    for i, c in enumerate(circles):\n",
    "        c.center = data[i]\n",
    "    qax.set_UVC(v_matrix[index,:,0],v_matrix[index,:,1])\n",
    "    qax.set_offsets(data)\n",
    "    return scat,\n",
    "\n",
    "#Writer = animation.writers['ffmpeg']\n",
    "#writer = Writer(fps=25, bitrate=1800)\n",
    "anim = animation.FuncAnimation(fig, animate, interval=1, repeat=False)\n",
    "#anim.save('LJ_Harmonic_Particles.mp4', writer=writer)"
   ]
  },
  {
   "cell_type": "code",
   "execution_count": null,
   "metadata": {},
   "outputs": [],
   "source": [
    "position = position_matrix_b[-1]\n",
    "dist=distances(vectors(position, boxsize=(-5,5), pbc=False))\n",
    "dim, boxsize = 2, (1,2)\n",
    "dmax = np.sqrt(dim)*(boxsize[1]-boxsize[0])\n",
    "plt.figure()\n",
    "def raddisfunc(dist, boxsize=(-5,5), dim=2, sigma=1):\n",
    "    N = len(dist)\n",
    "    dmax = np.sqrt(dim)*(boxsize[1]-boxsize[0])\n",
    "    dmin = 0\n",
    "    edges = np.linspace(dmin, dmax, 21)\n",
    "    ndist = int(N-1)\n",
    "    d = dist[0][1:]\n",
    "    rd = np.array([np.sum(np.logical_and((d >= emin).astype(int), (d < emax).astype(int)))/ndist for emin, emax in zip(edges[:-1], edges[1:])])\n",
    "    x = (edges[:-1] + edges[1:])/2\n",
    "    return x, rd\n",
    "\n",
    "\n",
    "res = raddisfunc(distances(vectors(position, boxsize=(-5,5), pbc=False)), dim=position.shape[-1], sigma=1)\n",
    "plt.plot(res[0], res[1])"
   ]
  },
  {
   "cell_type": "code",
   "execution_count": null,
   "metadata": {},
   "outputs": [],
   "source": [
    "def pot_grad_p(position, boxsize = (-5., 5.), pbc=True, sig = 1, eps = 1):\n",
    "    vecs = vectors(position, boxsize, pbc = True)\n",
    "    return gradients.LJ(vecs, eps, sig)\n",
    "def pot_p(position, sig = 1, eps = 1, boxsize = (-5, 5), pbc = True):\n",
    "    vecs = vectors(position, boxsize, pbc)\n",
    "    dist = distances(vecs)\n",
    "    return potentials.LJ(dist, eps, sig) \n",
    "\n",
    "position_mcmc_p = mcmc(pot_p, 10, 2, 10, 0.001, boxsize = (-5,5), pbc=True)"
   ]
  },
  {
   "cell_type": "code",
   "execution_count": null,
   "metadata": {},
   "outputs": [],
   "source": [
    "position_init_p = descent(position_mcmc_p, pot_grad_p, boxsize=(-5,5), save_config=False)"
   ]
  },
  {
   "cell_type": "code",
   "execution_count": null,
   "metadata": {},
   "outputs": [],
   "source": [
    "velocity_init_p = np.zeros_like(position_init_p)\n",
    "position_init_p[0] = [7., 0.]\n",
    "velocity_init_p[0] = [-1., 0.]"
   ]
  },
  {
   "cell_type": "code",
   "execution_count": null,
   "metadata": {},
   "outputs": [],
   "source": [
    "position_matrix_p, velocity_matrix_p, acceleration_matrix_p = vv(pot_grad_p, position_init_p, velocity_init_p, 1, 10, 1e-4, (-5, 5), pbc=True)"
   ]
  },
  {
   "cell_type": "code",
   "execution_count": null,
   "metadata": {},
   "outputs": [],
   "source": [
    "fig, ax = plt.subplots(figsize=(6, 6))\n",
    "r_init = position_matrix_p[0]\n",
    "r_matrix = position_matrix_p\n",
    "v_matrix = velocity_matrix_p\n",
    "colors = np.arange(len(r_init))\n",
    "scat = ax.scatter(r_init[:,0], r_init[:,1], c=colors)\n",
    "ax.set_xlabel(r'$p_x$')\n",
    "ax.set_ylabel(r'$p_y$')\n",
    "circles = [plt.Circle(r, radius=0.5, fill=False) for i,r in enumerate(r_init)]\n",
    "for c in circles:\n",
    "    plt.gca().add_patch(c)\n",
    "qax = ax.quiver(r_matrix[0,:,0], r_matrix[0,:,1], v_matrix[1,:,0], v_matrix[1,:,1],np.arange(len(r_init)),scale=50, width=0.005)\n",
    "ax.set_xlim(-7, 7)\n",
    "ax.set_ylim(-7, 7)\n",
    "ax.plot(position_matrix_p[:,0, 0], position_matrix_p[:,0,1])\n",
    "def animate(i):\n",
    "    index = 4*i\n",
    "    data = r_matrix[index]\n",
    "    scat.set_offsets(data)\n",
    "    for i, c in enumerate(circles):\n",
    "        c.center = data[i]\n",
    "    qax.set_UVC(v_matrix[index,:,0],v_matrix[index,:,1])\n",
    "    qax.set_offsets(data)\n",
    "    return scat,\n",
    "\n",
    "#Writer = animation.writers['ffmpeg']\n",
    "#writer = Writer(fps=25, bitrate=1800)\n",
    "anim = animation.FuncAnimation(fig, animate, interval=1, repeat=False)\n",
    "#anim.save('LJ_Harmonic_Particles.mp4', writer=writer)"
   ]
  },
  {
   "cell_type": "code",
   "execution_count": null,
   "metadata": {},
   "outputs": [],
   "source": [
    "position = position_matrix_p[-1]\n",
    "dist=distances(vectors(position, boxsize=(-5,5), pbc=True))\n",
    "dim, boxsize = 2, (1,2)\n",
    "dmax = np.sqrt(dim)*(boxsize[1]-boxsize[0])\n",
    "plt.figure()\n",
    "def raddisfunc(dist, boxsize=(-5,5), dim=2, sigma=1):\n",
    "    N = len(dist)\n",
    "    dmax = np.sqrt(dim)*(boxsize[1]-boxsize[0])\n",
    "    dmin = 0\n",
    "    edges = np.linspace(dmin, dmax, 21)\n",
    "    ndist = int(N-1)\n",
    "    d = dist[0][1:]\n",
    "    rd = np.array([np.sum(np.logical_and((d >= emin).astype(int), (d < emax).astype(int)))/ndist for emin, emax in zip(edges[:-1], edges[1:])])\n",
    "    x = (edges[:-1] + edges[1:])/2\n",
    "    return x, rd\n",
    "\n",
    "\n",
    "res = raddisfunc(distances(vectors(position, boxsize=(-5,5), pbc=True)), dim=position.shape[-1], sigma=1)\n",
    "plt.plot(res[0], res[1])"
   ]
  },
  {
   "cell_type": "markdown",
   "metadata": {},
   "source": [
    "### Langevin"
   ]
  },
  {
   "cell_type": "code",
   "execution_count": null,
   "metadata": {},
   "outputs": [],
   "source": [
    "def pot_grad(position, pbc = False, boxsize = (-5., 5.), sig = 1, eps = 1):\n",
    "    vecs = vectors(position, boxsize, pbc = False)\n",
    "    return gradients.LJ(vecs, eps, sig) + gradients.pot_barrier(position, boxsize)*5\n",
    "def pot(position, sig = 1, eps = 1, boxsize = (-5, 5), pbc = False):\n",
    "    vecs = vectors(position, boxsize, pbc)\n",
    "    dist = distances(vecs)\n",
    "    return potentials.LJ(dist, eps, sig) + potentials.pot_barrier(position, boxsize)*5\n",
    "\n",
    "position_mcmc = mcmc(pot, 5, 2, 10, 0.001, boxsize = (-5, 5))"
   ]
  },
  {
   "cell_type": "code",
   "execution_count": null,
   "metadata": {},
   "outputs": [],
   "source": [
    "position_init = descent(position_mcmc, pot_grad, boxsize=(-5,5), save_config=False)"
   ]
  },
  {
   "cell_type": "code",
   "execution_count": null,
   "metadata": {},
   "outputs": [],
   "source": [
    "velocity_init = np.zeros_like(position_init)\n",
    "#position_init_b[0] = [10., 0.]\n",
    "#velocity_init_b[0] = [-3., 0.]"
   ]
  },
  {
   "cell_type": "code",
   "execution_count": null,
   "metadata": {},
   "outputs": [],
   "source": [
    "position_matrix, velocity_matrix, acceleration_matrix = langevin(pot_grad, position_init, velocity_init, 1, 10, 1e-3, 0.1, 1, 0, (-5, 5))"
   ]
  },
  {
   "cell_type": "code",
   "execution_count": null,
   "metadata": {},
   "outputs": [],
   "source": [
    "plt.figure()\n",
    "plt.plot(position_matrix[:,0, 0], velocity_matrix[:,0,0])\n",
    "plt.xlabel(r'$p$')\n",
    "plt.ylabel(r'$v$')"
   ]
  },
  {
   "cell_type": "code",
   "execution_count": null,
   "metadata": {},
   "outputs": [],
   "source": [
    "fig, ax = plt.subplots(figsize=(6, 6))\n",
    "r_init = position_matrix[0]\n",
    "r_matrix = position_matrix\n",
    "v_matrix = velocity_matrix\n",
    "colors = np.arange(len(r_init))\n",
    "scat = ax.scatter(r_init[:,0], r_init[:,1], c=colors)\n",
    "ax.set_xlabel(r'$p_x$')\n",
    "ax.set_ylabel(r'$p_y$')\n",
    "circles = [plt.Circle(r, radius=0.5, fill=False) for i,r in enumerate(r_init)]\n",
    "for c in circles:\n",
    "    plt.gca().add_patch(c)\n",
    "qax = ax.quiver(r_matrix[0,:,0], r_matrix[0,:,1], v_matrix[1,:,0], v_matrix[1,:,1],np.arange(len(r_init)),scale=50, width=0.005)\n",
    "ax.set_xlim(-7, 7)\n",
    "ax.set_ylim(-7, 7)\n",
    "ax.plot(position_matrix[:,0, 0], position_matrix[:,0,1])\n",
    "def animate(i):\n",
    "    index = 4*i\n",
    "    data = r_matrix[index]\n",
    "    scat.set_offsets(data)\n",
    "    for i, c in enumerate(circles):\n",
    "        c.center = data[i]\n",
    "    qax.set_UVC(v_matrix[index,:,0],v_matrix[index,:,1])\n",
    "    qax.set_offsets(data)\n",
    "    return scat,\n",
    "\n",
    "#Writer = animation.writers['ffmpeg']\n",
    "#writer = Writer(fps=25, bitrate=1800)\n",
    "anim = animation.FuncAnimation(fig, animate, interval=1, repeat=False)\n",
    "#anim.save('LJ_Harmonic_Particles.mp4', writer=writer)"
   ]
  },
  {
   "cell_type": "code",
   "execution_count": null,
   "metadata": {},
   "outputs": [],
   "source": []
  },
  {
   "cell_type": "code",
   "execution_count": null,
   "metadata": {},
   "outputs": [],
   "source": []
  }
 ],
 "metadata": {
  "kernelspec": {
   "display_name": "Python 3",
   "language": "python",
   "name": "python3"
  },
  "language_info": {
   "codemirror_mode": {
    "name": "ipython",
    "version": 3
   },
   "file_extension": ".py",
   "mimetype": "text/x-python",
   "name": "python",
   "nbconvert_exporter": "python",
   "pygments_lexer": "ipython3",
   "version": "3.7.2"
  }
 },
 "nbformat": 4,
 "nbformat_minor": 2
}
