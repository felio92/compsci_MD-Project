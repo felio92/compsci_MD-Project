{
 "cells": [
  {
   "cell_type": "code",
   "execution_count": null,
   "metadata": {},
   "outputs": [],
   "source": [
    "#def nk( maxki ):\n",
    "    \"\"\"Combinatorics, \n",
    "    returns number of combis for lattice vectors in 3D\n",
    "    \"\"\"\n",
    "    mitnull = 4 * (maxki + 1) ** 3 \n",
    "    #korr = 7 + sum([30 + i * 24 for i in range(maxki)])\n",
    "    korr = 3 \n",
    "    return mitnull - korr"
   ]
  },
  {
   "cell_type": "code",
   "execution_count": null,
   "metadata": {},
   "outputs": [],
   "source": [
    "#def kvec( maxki=3, maxnk=300, maxr=0):\n",
    "    \"\"\"Returns k-vectors for fourier part of ewald \n",
    "    \n",
    "    Arguments:\n",
    "        maxki (int): max value for kx, ky, kz\n",
    "        maxnk (int): max # of k vectors, unrestrict with maxnk=0 \n",
    "        maxr  (int): max length of k, unrestrict with maxr=0\n",
    "    \n",
    "    Output:\n",
    "        k (float): k vectors (dim = 3 x maxnk)\n",
    "    \"\"\"\n",
    "    vector = np.zeros([nk(maxki), 3], dtype=np.float32)\n",
    "    maxr = maxr**2\n",
    "    cnt = 0\n",
    "    for i in range(maxki + 1):\n",
    "        for j in range(maxki + 1):\n",
    "            for k in range(maxki + 1):\n",
    "                if (maxr == 0 or maxr >= i**2+j**2+k**2):\n",
    "                    vector[cnt] = [i, j, k]\n",
    "                    cnt += 1\n",
    "                    #for i in range(len(vector)):\n",
    "                    #    if vector[i] > 0:\n",
    "                    #        vector[cnt] = [-i, j, k]\n",
    "                    #        cnt += 1\n",
    "    return vector"
   ]
  }
 ],
 "metadata": {
  "kernelspec": {
   "display_name": "Python 3",
   "language": "python",
   "name": "python3"
  },
  "language_info": {
   "codemirror_mode": {
    "name": "ipython",
    "version": 3
   },
   "file_extension": ".py",
   "mimetype": "text/x-python",
   "name": "python",
   "nbconvert_exporter": "python",
   "pygments_lexer": "ipython3",
   "version": "3.7.2"
  }
 },
 "nbformat": 4,
 "nbformat_minor": 2
}
