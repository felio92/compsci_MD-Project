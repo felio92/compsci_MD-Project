{
 "cells": [
  {
   "cell_type": "markdown",
   "metadata": {},
   "source": [
    "# Integrator\n",
    "## Verlet\n",
    "- like Euler numerical procedure for solving ODEs but with lower false\n",
    "- approximating the integral with the finite sum by the Taylor expansion\n",
    "- the cubic and higher-order terms are ignored\n",
    "Approximation\n",
    "\n",
    "$$\n",
    "x(t+\\tau)\\approx x(t)+\\tau \\,v(t)-\\frac{\\tau ^2}{2m}\\nabla\\phi(x(t))\\\\\n",
    "v(t+\\tau)\\approx v(t)-\\frac{\\tau }{2m}\\left(\\nabla\\phi(x(t))+\\nabla\\phi(x(t+\\tau))\\right)\n",
    "$$\n",
    "\n",
    "### Goals\n",
    "- setup of the algorithm \n",
    "    - parameters  \n",
    "    - inputs\n",
    "- timing\n",
    "- 1D, 2D and 3D distinction\n",
    "- vectorization\n",
    "- testing\n",
    "    - ZeroDivisionError, NameError and TypeErrorn ValueError, Type,Error, RuntimeError, IOError\n",
    "    - functionality\n",
    "    - ??\n",
    "- visualisation\n",
    "    - timing\n",
    "    - stability\n",
    "    - ??\n",
    "    \n",
    "### Advantage:\n",
    "- Reversible integrator \n",
    "- symplectic\n",
    "- Simple integrator not converting \n",
    "\n",
    "=> more stable and energy-conserving integrator than Euler\n"
   ]
  },
  {
   "cell_type": "code",
   "execution_count": null,
   "metadata": {
    "scrolled": false
   },
   "outputs": [],
   "source": [
    "%matplotlib notebook\n",
    "import numpy as np\n",
    "#import timeit\n",
    "import matplotlib.pyplot as plt\n",
    "#from matplotlib import animation, rc\n",
    "#from IPython.display import HTML"
   ]
  },
  {
   "cell_type": "code",
   "execution_count": null,
   "metadata": {},
   "outputs": [],
   "source": [
    "# wehmeyer\n",
    "def vvW(potential_gradient, size, x_init, v_init, mass=1.0, time_step=0.005):\n",
    "    x, v = np.zeros(size), np.zeros(size)\n",
    "    x[0], v[0] = x_init, v_init\n",
    "    nabla_u1, nabla_u0 = potential_gradient(x[0]), None\n",
    "    for i in range(1, size):\n",
    "        x[i] = x[i - 1] + time_step * v[i - 1] - time_step**2 * nabla_u1 / 2 / mass\n",
    "        nabla_u1, nabla_u0 = potential_gradient(x[i]), nabla_u1\n",
    "        v[i] = v[i - 1] - time_step * (nabla_u1 + nabla_u0) / 2 / mass\n",
    "    return x, v"
   ]
  },
  {
   "cell_type": "markdown",
   "metadata": {},
   "source": [
    "#### VV-algorithm, open system"
   ]
  },
  {
   "cell_type": "code",
   "execution_count": null,
   "metadata": {},
   "outputs": [],
   "source": [
    "def potential_gradient(p,k=1):\n",
    "    return k*p"
   ]
  },
  {
   "cell_type": "code",
   "execution_count": null,
   "metadata": {},
   "outputs": [],
   "source": [
    "def vvJ(potential_gradient, position_init, velocity_init, mass, T, time_step):\n",
    "    size = int(T/time_step)        # number of time steps\n",
    "    n = len(position_init)         # number of particles\n",
    "    dim = position_init.shape[-1]  # number of dimension\n",
    "    m = mass\n",
    "    # creating positiion, velocity and acceleration container\n",
    "    position_matrix, velocity_matrix, acceleration_matrix = np.zeros((size, n, dim)), np.zeros((size, n, dim)), np.zeros((size, n, dim))\n",
    "    # initialization by adding the start configuration\n",
    "    position_matrix[0], velocity_matrix[0], acceleration_matrix[0] = position_init, velocity_init, potential_gradient(position_init)\n",
    "    # time iteration\n",
    "    for t in range(1, size):\n",
    "        # rename # kostet das rechenleistung ? bennenung lieber von anfang anders?\n",
    "        p = position_matrix[t-1]\n",
    "        v = velocity_matrix[t-1]\n",
    "        a = acceleration_matrix[t]\n",
    "        gp = potential_gradient(p)\n",
    "        # vv approximation\n",
    "        p_new = p + time_step*v - (time_step**2)/(2*m)*gp\n",
    "        gp_new = potential_gradient(p_new) \n",
    "        v_new = v - time_step/(2*m) * (gp + gp_new)\n",
    "        a = gp_new\n",
    "        #v_new[:,1][p_new[:,1]<0]*=-1 ???\n",
    "        # write in pos and vel container\n",
    "        #position_matrix[t], velocity_matrix[t] = p_new, v_new\n",
    "        position_matrix[t], velocity_matrix[t], acceleration_matrix[t] = p_new, v_new, a\n",
    "    # returning position and velocety container\n",
    "    return position_matrix, velocity_matrix, acceleration_matrix"
   ]
  },
  {
   "cell_type": "code",
   "execution_count": null,
   "metadata": {},
   "outputs": [],
   "source": [
    "# testing \n",
    "#p_0 = np.array([[1., 0.]])\n",
    "#v_0 = np.array([[20., 200.5]])\n",
    "p_0 = np.array([[1., 0., 0.], [1., 0., 0.]])\n",
    "v_0 = np.array([[0., 0., 0.], [0., 0., 0.]])\n",
    "m = np.array([[1.], [1.]])\n",
    "\n",
    "res = vvJ(potential_gradient, p_0, v_0, m, 100, 1/100)\n",
    "res\n",
    "#print(a[0][:,0,0])\n",
    "plt.plot(res[0][:,0, 0], res[1][:,0,0])"
   ]
  },
  {
   "cell_type": "markdown",
   "metadata": {},
   "source": [
    "### closed system , non pbc"
   ]
  },
  {
   "cell_type": "code",
   "execution_count": null,
   "metadata": {},
   "outputs": [],
   "source": [
    "def potential_gradient(p,k=10):\n",
    "    return k*p\n",
    "\n",
    "def boundary(p, p_max):\n",
    "    p_r = p_max - p_max/4\n",
    "    p_l = p_max/4\n",
    "    V_end_r = 4 * np.abs(p-p_r)**2*np.heaviside(np.abs(p-p_r))\n",
    "    V_end_l = 4 * np.abs(p-p_l)**2*np.heaviside(np.abs(p-p_l))\n",
    "    return V_end_r + V_end_l\n",
    "\n",
    "def potential():\n",
    "    return potantial_gradient + boundary"
   ]
  },
  {
   "cell_type": "code",
   "execution_count": null,
   "metadata": {},
   "outputs": [],
   "source": [
    "def vvJ(potential_gradient, position_init, velocity_init, mass, T, time_step):\n",
    "    size = int(T/time_step)        # number of time steps\n",
    "    n = len(position_init)         # number of particles\n",
    "    dim = position_init.shape[-1]  # number of dimension\n",
    "    m = mass\n",
    "    # creating positiion, velocity and acceleration container\n",
    "    position_matrix, velocity_matrix, acceleration_matrix = np.zeros((size, n, dim)), np.zeros((size, n, dim)), np.zeros((size, n, dim))\n",
    "    # initialization by adding the start configuration\n",
    "    position_matrix[0], velocity_matrix[0], acceleration_matrix[0] = position_init, velocity_init, potential_gradient(position_init)\n",
    "    # time iteration\n",
    "    for t in range(1, size):\n",
    "        # rename # kostet das rechenleistung ? bennenung lieber von anfang anders?\n",
    "        p = position_matrix[t-1]\n",
    "        v = velocity_matrix[t-1]\n",
    "        a = acceleration_matrix[t]\n",
    "        gp = potential_gradient(p)\n",
    "        # vv approximation\n",
    "        p_new = p + time_step*v - (time_step**2)/(2*m)*gp\n",
    "        gp_new = potential_gradient(p_new) \n",
    "        v_new = v - time_step/(2*m) * (gp + gp_new)\n",
    "        a = gp_new\n",
    "        #v_new[:,1][p_new[:,1]<0]*=-1 ???\n",
    "        # write in pos and vel container\n",
    "        #position_matrix[t], velocity_matrix[t] = p_new, v_new\n",
    "        position_matrix[t], velocity_matrix[t], acceleration_matrix[t] = p_new, v_new, a\n",
    "    # returning position and velocety container\n",
    "    return position_matrix, velocity_matrix, acceleration_matrix"
   ]
  },
  {
   "cell_type": "code",
   "execution_count": null,
   "metadata": {},
   "outputs": [],
   "source": [
    "p_max = np.array([[2., 3., 2.], [2., 3., 2.]])\n",
    "p_0 = np.array([[1., 0., 0.], [1., 0., 0.]])\n",
    "v_0 = np.array([[0., 0., 0.], [0., 0., 0.]])\n",
    "m = np.array([[1., 1., 1.], [1., 1., 1.]])\n",
    "\n",
    "res = vvJ(potential_gradient, p_0, v_0, m, 10, 1/100)\n",
    "res"
   ]
  },
  {
   "cell_type": "code",
   "execution_count": null,
   "metadata": {},
   "outputs": [],
   "source": []
  }
 ],
 "metadata": {
  "kernelspec": {
   "display_name": "Python 3",
   "language": "python",
   "name": "python3"
  },
  "language_info": {
   "codemirror_mode": {
    "name": "ipython",
    "version": 3
   },
   "file_extension": ".py",
   "mimetype": "text/x-python",
   "name": "python",
   "nbconvert_exporter": "python",
   "pygments_lexer": "ipython3",
   "version": "3.7.2"
  }
 },
 "nbformat": 4,
 "nbformat_minor": 2
}
