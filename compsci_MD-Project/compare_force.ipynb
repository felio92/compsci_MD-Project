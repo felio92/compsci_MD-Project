{
 "cells": [
  {
   "cell_type": "code",
   "execution_count": 1,
   "metadata": {},
   "outputs": [],
   "source": [
    "import numpy as np\n",
    "from numba import jit\n",
    "import torch\n",
    "\n",
    "import timeit"
   ]
  },
  {
   "cell_type": "code",
   "execution_count": 2,
   "metadata": {},
   "outputs": [],
   "source": [
    "def distances(x): # pytorch\n",
    "    \"\"\"Calculates distance vectors and distances (euclidian norm of vecs)\n",
    "    \n",
    "    Arguments:\n",
    "        x (float): position vectors (dim = N x 3)\n",
    "    \n",
    "    Output:\n",
    "        dist (float): distances between particle pairs (dim = N x N)\n",
    "        vecs (float): distance vectors between particle pairs (dim = N x N x 3)\n",
    "    \"\"\"\n",
    "    x = torch.Tensor(x)\n",
    "    #dist = torch.zeros((x.shape[0], x.shape[0]))\n",
    "    #vecs = torch.zeros((x.shape[0], x.shape[0], x.shape[-1]))\n",
    "    vecs = x[None, :, :] - x[:, None, :]       \n",
    "    return torch.norm(vecs, dim=-1), vecs"
   ]
  },
  {
   "cell_type": "code",
   "execution_count": 3,
   "metadata": {},
   "outputs": [],
   "source": [
    "@jit\n",
    "def Coulomb_force_jit(x, q):\n",
    "    \"\"\"Coulomb's law\n",
    "\n",
    "    Arguments:\n",
    "        x (float): position vectors (dim = N x 3)\n",
    "        q (int): charges (dim = N)\n",
    "        \n",
    "    Constants:\n",
    "        vacuum permittivity: eps0 = 8.854187e-12 \n",
    "        elementary charge: qe = 1.602177e-19\n",
    "    \n",
    "    Output:\n",
    "        f (float): forces between all particle pairs (dim = N x N x 3)\n",
    "    \"\"\"\n",
    "    eps0, qe = 1., 1.\n",
    "    force = np.zeros(x.shape)\n",
    "    dist, vecs = distances(x)[0].numpy(), distances(x)[1].numpy()\n",
    "    for i in range(x.shape[0]):\n",
    "        for j in range(x.shape[0]):\n",
    "            if dist[i][j] != 0:\n",
    "                force[i] += q[i] * q[j] * vecs[i][j] / dist[i][j]**3\n",
    "    return qe/(4*np.pi*eps0)*force"
   ]
  },
  {
   "cell_type": "code",
   "execution_count": 4,
   "metadata": {},
   "outputs": [],
   "source": [
    "def Coulomb_force_vec(x, q):\n",
    "    \"\"\"Coulomb's law\n",
    "\n",
    "    Arguments:\n",
    "        x (float): position vectors (dim = N x 3)\n",
    "        q (int): charges (dim = N)\n",
    "        \n",
    "    Constants:\n",
    "        vacuum permittivity: eps0 = 8.854187e-12 \n",
    "        elementary charge: qe = 1.602177e-19\n",
    "    \n",
    "    Output:\n",
    "        f (float): forces between all particle pairs (dim = N x N x 3)\n",
    "    \"\"\"\n",
    "    eps0, qe = 1., 1.\n",
    "    force = np.zeros(x.shape)\n",
    "    dist, vecs = distances(x)\n",
    "    dist[dist!=0] = 1/dist[dist!=0]**3\n",
    "    force = np.dot(np.diag(q), vecs * dist[:, :, None])\n",
    "    force = np.einsum(\"ijk,j\", force, q)\n",
    "    return qe/(4*np.pi*eps0)*force"
   ]
  },
  {
   "cell_type": "code",
   "execution_count": 5,
   "metadata": {},
   "outputs": [],
   "source": [
    "def coulomb(coord, q, eps0=1, pbc=False):\n",
    "        dist, vectors = distances(coord)\n",
    "        dist[dist!=0] = 1/dist[dist!=0]**3\n",
    "        D = dist[:,:,None]*vectors\n",
    "        return q[:, None]*np.einsum(\"ijk, j\",D, q)"
   ]
  },
  {
   "cell_type": "code",
   "execution_count": 6,
   "metadata": {},
   "outputs": [],
   "source": [
    "positions = np.array([[0., 0.],\n",
    "                    [0., 1.],\n",
    "                    [1., 1.],\n",
    "                    [1., 0.]])\n",
    "charges = np.array([1., -1., 1., -1.])"
   ]
  },
  {
   "cell_type": "code",
   "execution_count": 7,
   "metadata": {},
   "outputs": [
    {
     "name": "stdout",
     "output_type": "stream",
     "text": [
      "[[ 0.05144258  0.05144258]\n",
      " [ 0.05144258 -0.05144258]\n",
      " [-0.05144258 -0.05144258]\n",
      " [-0.05144258  0.05144258]]\n",
      "[[-0.05144258 -0.05144258]\n",
      " [-0.05144258  0.05144258]\n",
      " [ 0.05144258  0.05144258]\n",
      " [ 0.05144258 -0.05144258]]\n"
     ]
    }
   ],
   "source": [
    "print(Coulomb_force_vec(positions, charges))\n",
    "print(Coulomb_force_jit(positions, charges))"
   ]
  },
  {
   "cell_type": "code",
   "execution_count": 8,
   "metadata": {},
   "outputs": [],
   "source": [
    "import random\n",
    "\n",
    "def Random_particles(N):\n",
    "    \"\"\"Creates a list of N particles with random positions and charges\n",
    "    \n",
    "    Arguments:\n",
    "        N (int): number of particles\n",
    "        \n",
    "    Output:\n",
    "        x (float): position vectors (dim = N x 3)\n",
    "        q (int): charges (dim = N)\n",
    "    \"\"\"\n",
    "    return np.random.rand(N,3), np.array([[-1,1][random.randrange(2)] for i in range(N)])"
   ]
  },
  {
   "cell_type": "code",
   "execution_count": 9,
   "metadata": {},
   "outputs": [],
   "source": [
    "N = 100\n",
    "x, q = Random_particles(N)"
   ]
  },
  {
   "cell_type": "code",
   "execution_count": 10,
   "metadata": {},
   "outputs": [
    {
     "name": "stdout",
     "output_type": "stream",
     "text": [
      "8.98 ms ± 304 µs per loop (mean ± std. dev. of 7 runs, 100 loops each)\n",
      "2.54 ms ± 517 µs per loop (mean ± std. dev. of 7 runs, 1 loop each)\n"
     ]
    }
   ],
   "source": [
    "%timeit Coulomb_force_vec(x, q)\n",
    "%timeit Coulomb_force_jit(x, q)"
   ]
  },
  {
   "cell_type": "code",
   "execution_count": 11,
   "metadata": {},
   "outputs": [
    {
     "name": "stdout",
     "output_type": "stream",
     "text": [
      "4.02 ms ± 139 µs per loop (mean ± std. dev. of 7 runs, 100 loops each)\n"
     ]
    }
   ],
   "source": [
    "%timeit coulomb(x, q)"
   ]
  },
  {
   "cell_type": "code",
   "execution_count": null,
   "metadata": {},
   "outputs": [],
   "source": []
  }
 ],
 "metadata": {
  "kernelspec": {
   "display_name": "Python 3",
   "language": "python",
   "name": "python3"
  },
  "language_info": {
   "codemirror_mode": {
    "name": "ipython",
    "version": 3
   },
   "file_extension": ".py",
   "mimetype": "text/x-python",
   "name": "python",
   "nbconvert_exporter": "python",
   "pygments_lexer": "ipython3",
   "version": "3.7.2"
  }
 },
 "nbformat": 4,
 "nbformat_minor": 2
}
