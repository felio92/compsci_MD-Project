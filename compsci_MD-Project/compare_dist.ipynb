{
 "cells": [
  {
   "cell_type": "code",
   "execution_count": 1,
   "metadata": {},
   "outputs": [],
   "source": [
    "import numpy as np\n",
    "from numba import jit\n",
    "import torch\n",
    "\n",
    "import timeit"
   ]
  },
  {
   "cell_type": "code",
   "execution_count": 2,
   "metadata": {},
   "outputs": [],
   "source": [
    "def dist_vec(x): \n",
    "    \"\"\"Calculates distance vectors and distances (euclidian norm of vecs)\n",
    "    \n",
    "    Arguments:\n",
    "        x (float): position vectors (dim = N x 3)\n",
    "    \n",
    "    Output:\n",
    "        dist (float): distances between particle pairs (dim = N x N)\n",
    "        vecs (float): distance vectors between particle pairs (dim = N x N x 3)\n",
    "    \"\"\"\n",
    "    dist = np.linalg.norm(\n",
    "        x[:, None, :] - x[None, :, :],\n",
    "        axis=-1)\n",
    "    vecs = x[None, :, :] - x[:, None, :]       \n",
    "    return dist, vecs"
   ]
  },
  {
   "cell_type": "code",
   "execution_count": 3,
   "metadata": {},
   "outputs": [],
   "source": [
    "@jit\n",
    "def dist_jit(x): \n",
    "    \"\"\"Calculates distance vectors and distances (euclidian norm of vecs)\n",
    "    \n",
    "    Arguments:\n",
    "        x (float): position vectors (dim = N x 3)\n",
    "    \n",
    "    Output:\n",
    "        dist (float): distances between particle pairs (dim = N x N)\n",
    "        vecs (float): distance vectors between particle pairs (dim = N x N x 3)\n",
    "    \"\"\"\n",
    "    dist = np.zeros((x.shape[0], x.shape[0]))\n",
    "    vecs = np.zeros((x.shape[0], x.shape[0], x.shape[-1]))\n",
    "    for i in range(x.shape[0]):\n",
    "        for j in range(i):\n",
    "            dist[i][j] = np.linalg.norm(x[i] - x[j])\n",
    "            vecs[i][j] = x[i] - x[j]\n",
    "            dist[j][i] = dist[i][j]\n",
    "            vecs[j][i] = vecs[i][j]\n",
    "    return dist, vecs"
   ]
  },
  {
   "cell_type": "code",
   "execution_count": 4,
   "metadata": {},
   "outputs": [],
   "source": [
    "def dist_torch(x): \n",
    "    \"\"\"Calculates distance vectors and distances (euclidian norm of vecs)\n",
    "    \n",
    "    Arguments:\n",
    "        x (float): position vectors (dim = N x 3)\n",
    "    \n",
    "    Output:\n",
    "        dist (float): distances between particle pairs (dim = N x N)\n",
    "        vecs (float): distance vectors between particle pairs (dim = N x N x 3)\n",
    "    \"\"\"\n",
    "    x = torch.Tensor(x)\n",
    "    #dist = torch.zeros((x.shape[0], x.shape[0]))\n",
    "    #vecs = torch.zeros((x.shape[0], x.shape[0], x.shape[-1]))\n",
    "    vecs = x[None, :, :] - x[:, None, :]       \n",
    "    return torch.norm(vecs, dim=-1), vecs"
   ]
  },
  {
   "cell_type": "code",
   "execution_count": 5,
   "metadata": {},
   "outputs": [],
   "source": [
    "def dist_cuda(x): \n",
    "    \"\"\"Calculates distance vectors and distances (euclidian norm of vecs)\n",
    "    \n",
    "    Arguments:\n",
    "        x (float): position vectors (dim = N x 3)\n",
    "    \n",
    "    Output:\n",
    "        dist (float): distances between particle pairs (dim = N x N)\n",
    "        vecs (float): distance vectors between particle pairs (dim = N x N x 3)\n",
    "    \"\"\"\n",
    "    x = torch.Tensor(x).cuda()\n",
    "    #dist = torch.zeros((x.shape[0], x.shape[0]))\n",
    "    #vecs = torch.zeros((x.shape[0], x.shape[0], x.shape[-1]))\n",
    "    vecs = x[None, :, :] - x[:, None, :]       \n",
    "    return torch.norm(vecs, dim=-1).cpu(), vecs.cpu()"
   ]
  },
  {
   "cell_type": "code",
   "execution_count": 6,
   "metadata": {},
   "outputs": [],
   "source": [
    "x = np.array([[0., 0.],\n",
    "                [0., 1.],\n",
    "                [1., 1.],\n",
    "                [1., 0.]])\n",
    "q = np.array([1., -1., 1., -1.])"
   ]
  },
  {
   "cell_type": "code",
   "execution_count": 7,
   "metadata": {},
   "outputs": [],
   "source": [
    "assert (dist_vec(x)[0] == dist_jit(x)[0]).any\n",
    "assert (dist_vec(x)[1] == dist_jit(x)[1]).any\n",
    "assert (dist_vec(x)[0] == dist_torch(x)[0].numpy()).any\n",
    "assert (dist_vec(x)[1] == dist_torch(x)[1].numpy()).any\n",
    "#assert (dist_vec(x)[0] == dist_cuda(x)[0].numpy()).any\n",
    "#assert (dist_vec(x)[1] == dist_cuda(x)[1].numpy()).any"
   ]
  },
  {
   "cell_type": "code",
   "execution_count": 8,
   "metadata": {},
   "outputs": [],
   "source": [
    "import random\n",
    "\n",
    "def Random_particles(N):\n",
    "    \"\"\"Creates a list of N particles with random positions and charges\n",
    "    \n",
    "    Arguments:\n",
    "        N (int): number of particles\n",
    "        \n",
    "    Output:\n",
    "        x (float): position vectors (dim = N x 3)\n",
    "        q (int): charges (dim = N)\n",
    "    \"\"\"\n",
    "    return np.random.rand(N,3), np.array([[-1,1][random.randrange(2)] for i in range(N)])\n"
   ]
  },
  {
   "cell_type": "code",
   "execution_count": 9,
   "metadata": {},
   "outputs": [],
   "source": [
    "N = 500\n",
    "x, q = Random_particles(N)"
   ]
  },
  {
   "cell_type": "code",
   "execution_count": 10,
   "metadata": {},
   "outputs": [
    {
     "name": "stdout",
     "output_type": "stream",
     "text": [
      "5.72 ms ± 13 µs per loop (mean ± std. dev. of 7 runs, 100 loops each)\n",
      "31.2 ms ± 1.5 ms per loop (mean ± std. dev. of 7 runs, 1 loop each)\n",
      "1.27 s ± 36.4 ms per loop (mean ± std. dev. of 7 runs, 1 loop each)\n"
     ]
    }
   ],
   "source": [
    "%timeit dist_torch(x)\n",
    "#%timeit dist_cuda(x)\n",
    "%timeit dist_vec(x)\n",
    "%timeit dist_jit(x)"
   ]
  },
  {
   "cell_type": "code",
   "execution_count": null,
   "metadata": {},
   "outputs": [],
   "source": []
  }
 ],
 "metadata": {
  "kernelspec": {
   "display_name": "Python 3",
   "language": "python",
   "name": "python3"
  },
  "language_info": {
   "codemirror_mode": {
    "name": "ipython",
    "version": 3
   },
   "file_extension": ".py",
   "mimetype": "text/x-python",
   "name": "python",
   "nbconvert_exporter": "python",
   "pygments_lexer": "ipython3",
   "version": "3.7.2"
  }
 },
 "nbformat": 4,
 "nbformat_minor": 2
}
