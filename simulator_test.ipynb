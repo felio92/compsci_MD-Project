{
 "cells": [
  {
   "cell_type": "code",
   "execution_count": null,
   "metadata": {},
   "outputs": [],
   "source": [
    "%matplotlib notebook\n",
    "import numpy as np\n",
    "from numba import jit\n",
    "from potentials import *\n",
    "from distances import *\n",
    "from sampling import *\n",
    "from vv import vvJ\n",
    "import matplotlib.pyplot as plt\n",
    "from matplotlib import animation\n",
    "from IPython.display import HTML"
   ]
  },
  {
   "cell_type": "code",
   "execution_count": null,
   "metadata": {},
   "outputs": [],
   "source": [
    "def pot_gradient(coord, sig=1, eps=1):\n",
    "    return gradients.LJ(coord, sig, eps)\n",
    "def pot(coord, pbc,sig=1, eps=1):\n",
    "    return potentials.LJ(coord, sig, eps, pbc)"
   ]
  },
  {
   "cell_type": "code",
   "execution_count": null,
   "metadata": {},
   "outputs": [],
   "source": [
    "r_init = mcmc(pot,30, 2, 10000, stepsize=1/100, beta=100, boxsize=(0,5))\n",
    "v_init = np.zeros_like(r_init)\n",
    "r_matrix, v_matrix, a_matrix=vvJ(pot_gradient, r_init, v_init, 1, 10, 0.001)"
   ]
  },
  {
   "cell_type": "code",
   "execution_count": null,
   "metadata": {},
   "outputs": [],
   "source": [
    "fig, ax = plt.subplots(figsize=(5, 5))\n",
    "scat = ax.scatter(r_init[:,0], r_init[:,1], c=np.arange(len(r_init)))\n",
    "qax = ax.quiver(r_matrix[0,:,0], r_matrix[0,:,1], v_matrix[1,:,0], v_matrix[1,:,1],np.arange(len(r_init)),scale=100, width=0.005)\n",
    "ax.set_xlim(np.max([-10,np.min(r_matrix[:,:,0])]),np.min([10,np.max(r_matrix[:,:,0])]))\n",
    "ax.set_ylim(np.max([-10,np.min(r_matrix[:,:,1])]),np.min([10,np.max(r_matrix[:,:,1])]))\n",
    "\n",
    "def animate(i):\n",
    "    index = 2*i\n",
    "    data = r_matrix[index]\n",
    "    scat.set_offsets(data)\n",
    "    qax.set_UVC(v_matrix[index,:,0],v_matrix[index,:,1])\n",
    "    qax.set_offsets(data)\n",
    "\n",
    "anim = animation.FuncAnimation(fig, animate, interval=20, repeat=True)"
   ]
  },
  {
   "cell_type": "code",
   "execution_count": null,
   "metadata": {},
   "outputs": [],
   "source": []
  }
 ],
 "metadata": {
  "kernelspec": {
   "display_name": "Python 3",
   "language": "python",
   "name": "python3"
  },
  "language_info": {
   "codemirror_mode": {
    "name": "ipython",
    "version": 3
   },
   "file_extension": ".py",
   "mimetype": "text/x-python",
   "name": "python",
   "nbconvert_exporter": "python",
   "pygments_lexer": "ipython3",
   "version": "3.7.2"
  }
 },
 "nbformat": 4,
 "nbformat_minor": 2
}
