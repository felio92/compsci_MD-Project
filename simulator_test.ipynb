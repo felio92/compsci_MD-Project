{
 "cells": [
  {
   "cell_type": "code",
   "execution_count": 2,
   "metadata": {},
   "outputs": [],
   "source": [
    "import numpy as np\n",
    "import matplotlib.pyplot as plt\n",
    "from numba import jit\n",
    "\n",
    "from Potentials import *\n",
    "from distances import *\n",
    "from sampler import *"
   ]
  },
  {
   "cell_type": "code",
   "execution_count": 4,
   "metadata": {},
   "outputs": [],
   "source": [
    "#declare global variables\n",
    "max_a = 5\n",
    "min_a = 0\n",
    "n_atoms = 6\n",
    "dim = 2\n",
    "\n",
    "sigma = 2\n",
    "eps = 10\n",
    "beta = 1\n",
    "\n",
    "q = 1\n",
    "mass = 1\n",
    "energy = 1\n",
    "variance = 0.5\n",
    "dim = 2\n",
    "stepsize = 0.5\n",
    "\n",
    "n_steps = 5000"
   ]
  },
  {
   "cell_type": "code",
   "execution_count": 5,
   "metadata": {},
   "outputs": [],
   "source": [
    "v_init = initial_velocities(n_atoms, dim, energy, mass, variance)\n",
    "x_init = mcmc(n_atoms,dim,n_steps,stepsize,pbc=False)\n",
    "r = vvJ(potential_gradient, position_init, velocity_init, mass, T, time_step)"
   ]
  },
  {
   "cell_type": "code",
   "execution_count": null,
   "metadata": {},
   "outputs": [],
   "source": []
  }
 ],
 "metadata": {
  "kernelspec": {
   "display_name": "Python 3",
   "language": "python",
   "name": "python3"
  },
  "language_info": {
   "codemirror_mode": {
    "name": "ipython",
    "version": 3
   },
   "file_extension": ".py",
   "mimetype": "text/x-python",
   "name": "python",
   "nbconvert_exporter": "python",
   "pygments_lexer": "ipython3",
   "version": "3.7.0"
  }
 },
 "nbformat": 4,
 "nbformat_minor": 2
}
