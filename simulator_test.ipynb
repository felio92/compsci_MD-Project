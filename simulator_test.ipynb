{
 "cells": [
  {
   "cell_type": "code",
   "execution_count": null,
   "metadata": {},
   "outputs": [],
   "source": [
    "%matplotlib notebook\n",
    "import numpy as np\n",
    "from numba import jit\n",
    "from potentials import *\n",
    "from distances import *\n",
    "from sampling import *\n",
    "from optimize import *\n",
    "from integrators import *\n",
    "import matplotlib.pyplot as plt\n",
    "from matplotlib import animation\n",
    "from IPython.display import HTML\n",
    "from mpl_toolkits.mplot3d import Axes3D"
   ]
  },
  {
   "cell_type": "code",
   "execution_count": null,
   "metadata": {},
   "outputs": [],
   "source": [
    "def pot_gradient(coord, boxsize=(0,10), pbc=True, sig=1, eps=1):\n",
    "    vecs = vectors(coord, boxsize, pbc)\n",
    "    return gradients.LJ_cut(vecs, eps, sig) + 0*gradients.harmonic(coord,boxsize, pbc, r0 =(5, 5), k=5)\n",
    "def pot(coord, pbc=True,boxsize=(0,10), sig=1, eps=1):\n",
    "    vecs = vectors(coord, boxsize, pbc)\n",
    "    dist = distances(vecs)\n",
    "    return potentials.LJ_cut(dist, eps, sig) + potentials.harmonic(coord, boxsize, pbc, r0 =(5, 5),k=5)"
   ]
  },
  {
   "cell_type": "code",
   "execution_count": null,
   "metadata": {},
   "outputs": [],
   "source": [
    "r_init = mcmc(pot,20, 2, 10000, stepsize=0.01, beta=100, boxsize=(0,10), pbc=True, save_config=False)\n",
    "v_init = np.zeros_like(r_init)\n",
    "v_init[0] = [10,0]\n",
    "r_matrix, v_matrix, a_matrix=vv(pot_gradient, r_init, v_init, 1, 10, 0.001, boxsize=(0,10), pbc=True)"
   ]
  },
  {
   "cell_type": "code",
   "execution_count": null,
   "metadata": {},
   "outputs": [],
   "source": [
    "fig, ax = plt.subplots(figsize=(6, 6))\n",
    "colors = np.arange(len(r_init))\n",
    "scat = ax.scatter(r_init[:,0], r_init[:,1], c=colors)\n",
    "circles = [plt.Circle(r, radius=0.5, fill=False) for i,r in enumerate(r_init)]\n",
    "for c in circles:\n",
    "    plt.gca().add_patch(c)\n",
    "qax = ax.quiver(r_matrix[0,:,0], r_matrix[0,:,1], v_matrix[1,:,0], v_matrix[1,:,1],np.arange(len(r_init)),scale=50, width=0.005)\n",
    "ax.set_xlim(0, 10)\n",
    "ax.set_ylim(0, 10)\n",
    "def animate(i):\n",
    "    index = 4*i\n",
    "    data = r_matrix[index]\n",
    "    scat.set_offsets(data)\n",
    "    for i, c in enumerate(circles):\n",
    "        c.center = data[i]\n",
    "    qax.set_UVC(v_matrix[index,:,0],v_matrix[index,:,1])\n",
    "    qax.set_offsets(data)\n",
    "    return scat,\n",
    "\n",
    "#Writer = animation.writers['ffmpeg']\n",
    "#writer = Writer(fps=25, bitrate=1800)\n",
    "anim = animation.FuncAnimation(fig, animate, interval=20, frames=750, repeat=False)\n",
    "#anim.save('LJ_Harmonic_Particles.mp4', writer=writer)"
   ]
  },
  {
   "cell_type": "code",
   "execution_count": null,
   "metadata": {},
   "outputs": [],
   "source": [
    "def pot_gradient(coord, boxsize=(0,10),pbc=True, sig=1, eps=1):\n",
    "    vecs = vectors(coord, boxsize, pbc)\n",
    "    return gradients.LJ(vecs, eps, sig) + gradients.harmonic(coord, boxsize, pbc, r0 = (5,5,5), k=10)\n",
    "def pot(coord, pbc=True,boxsize=(0,10), sig=1, eps=1):\n",
    "    vecs = vectors(coord, boxsize, pbc)\n",
    "    dist = distances(vecs)\n",
    "    return potentials.LJ(dist, eps, sig) +  potentials.harmonic(coord, boxsize, pbc, r0 =(5, 5, 5),k=10)"
   ]
  },
  {
   "cell_type": "code",
   "execution_count": null,
   "metadata": {},
   "outputs": [],
   "source": [
    "r_init = mcmc(pot,10, 3, 10000, stepsize=0.01, beta=100, boxsize=(0,10), pbc=True)\n",
    "r_init = descent(r_init, pot_gradient, maxst=10000, pbc=True, save_config=False, boxsize=(0,10))\n",
    "v_init = np.zeros_like(r_init)"
   ]
  },
  {
   "cell_type": "code",
   "execution_count": null,
   "metadata": {},
   "outputs": [],
   "source": [
    "v_init[0] = [10,0,0]\n",
    "r_matrix, v_matrix, a_matrix=vv(pot_gradient, r_init, v_init, 1, 10, 0.001, pbc=True, boxsize=(0,10))"
   ]
  },
  {
   "cell_type": "code",
   "execution_count": null,
   "metadata": {},
   "outputs": [],
   "source": [
    "fig = plt.figure()\n",
    "ax = fig.add_subplot(111, projection='3d')\n",
    "colors = np.arange(len(r_init))\n",
    "scat = ax.scatter(r_init[:,0], r_init[:,1], r_init[:,2])\n",
    "ax.set_xlim(0, 10)\n",
    "ax.set_ylim(0, 10)\n",
    "ax.set_zlim(0, 10)\n",
    "def animate(i):\n",
    "    index = 4*i\n",
    "    data = r_matrix[index]\n",
    "    scat._offsets3d=(data[:,0],data[:,1],data[:,2])\n",
    "    return scat,\n",
    "\n",
    "#Writer = animation.writers['ffmpeg']\n",
    "#writer = Writer(fps=25, bitrate=1800)\n",
    "anim = animation.FuncAnimation(fig, animate, interval=20, frames=1050, repeat=False)\n",
    "#anim.save('LJ_Harmonic_Particles.mp4', writer=writer)"
   ]
  },
  {
   "cell_type": "code",
   "execution_count": null,
   "metadata": {},
   "outputs": [],
   "source": [
    "beta_array = [0.01, 10, 50, 100, 1000]\n",
    "config_array = [mcmc(pot, 100, 3, 5000, stepsize=0.01, beta=b, boxsize=(0,10), pbc=False) for b in beta_array]\n",
    "plt.figure()\n",
    "pot_array=[pot(c, boxsize=(0,10), pbc=False) for c in config_array]\n",
    "plt.hist(pot_array,label=beta_array, bins=20,density=True)\n",
    "plt.legend()\n",
    "plt.show()"
   ]
  },
  {
   "cell_type": "code",
   "execution_count": null,
   "metadata": {},
   "outputs": [],
   "source": [
    "r_init = mcmc(pot, 100, 3, 10000, 0.01, beta=100, boxsize=(0,10), pbc=True)"
   ]
  },
  {
   "cell_type": "code",
   "execution_count": null,
   "metadata": {},
   "outputs": [],
   "source": [
    "r_matrix, v_matrix, a_matrix = langevin(pot_gradient, r_init, np.zeros_like(r_init), 1, 10, 0.001, damping=100,beta=1,temp=0, boxsize=(0,10), pbc=True)"
   ]
  },
  {
   "cell_type": "code",
   "execution_count": null,
   "metadata": {},
   "outputs": [],
   "source": [
    "fig = plt.figure()\n",
    "ax = fig.add_subplot(111, projection='3d')\n",
    "colors = np.arange(len(r_init))\n",
    "scat = ax.scatter(r_init[:,0], r_init[:,1], r_init[:,2])\n",
    "ax.set_xlim(0,10)\n",
    "ax.set_ylim(0,10)\n",
    "ax.set_zlim(0,10)\n",
    "def animate(i):\n",
    "    index = 4*i\n",
    "    data = r_matrix[index]\n",
    "    scat._offsets3d=(data[:,0],data[:,1],data[:,2])\n",
    "    return scat,\n",
    "\n",
    "#Writer = animation.writers['ffmpeg']\n",
    "#writer = Writer(fps=25, bitrate=1800)\n",
    "anim = animation.FuncAnimation(fig, animate, interval=20, frames=1050, repeat=False)\n",
    "#anim.save('LJ_Harmonic_Particles.mp4', writer=writer)"
   ]
  },
  {
   "cell_type": "code",
   "execution_count": null,
   "metadata": {},
   "outputs": [],
   "source": [
    "kin_array = [1/2*np.linalg.norm(v)**2 for v in v_matrix]\n",
    "#pot_array = [pot(r) for r in r_matrix]\n",
    "plt.figure()\n",
    "plt.plot(kin_array)\n",
    "#plt.plot(np.sum(pot_array,axis=-1))"
   ]
  },
  {
   "cell_type": "code",
   "execution_count": null,
   "metadata": {},
   "outputs": [],
   "source": []
  }
 ],
 "metadata": {
  "kernelspec": {
   "display_name": "Python 3",
   "language": "python",
   "name": "python3"
  },
  "language_info": {
   "codemirror_mode": {
    "name": "ipython",
    "version": 3
   },
   "file_extension": ".py",
   "mimetype": "text/x-python",
   "name": "python",
   "nbconvert_exporter": "python",
   "pygments_lexer": "ipython3",
   "version": "3.7.2"
  }
 },
 "nbformat": 4,
 "nbformat_minor": 2
}
