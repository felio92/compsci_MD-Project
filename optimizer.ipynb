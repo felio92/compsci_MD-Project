{
 "cells": [
  {
   "cell_type": "markdown",
   "metadata": {},
   "source": [
    "# Structure Optimization"
   ]
  },
  {
   "cell_type": "code",
   "execution_count": null,
   "metadata": {},
   "outputs": [],
   "source": [
    "%matplotlib notebook\n",
    "import numpy as np\n",
    "import torch\n",
    "import matplotlib.pyplot as plt\n",
    "from matplotlib import animation\n",
    "\n",
    "import random\n",
    "import time"
   ]
  },
  {
   "cell_type": "code",
   "execution_count": null,
   "metadata": {},
   "outputs": [],
   "source": [
    "from potentials import gradients\n",
    "from distances import vectors\n",
    "from ewald_numpy import Ewald"
   ]
  },
  {
   "cell_type": "code",
   "execution_count": null,
   "metadata": {},
   "outputs": [],
   "source": [
    "def grad_Ewald( x, q, boxsz=(0,1), pbc=False ):\n",
    "    vecs = vectors(x, boxsz)\n",
    "    E = Ewald(charges=q, boxsize=boxsz, alpha=5, r_cutoff=5, n_max=2, k_cutoff=5)\n",
    "    return -E.force(x)\n",
    "\n",
    "def grad_HLC( x, q, boxsize=(0,1), pbc=False ):\n",
    "    \"\"\"Sum of Harmonic, LJ and Coulombs gradients\"\"\"\n",
    "    vecs = vectors(x, boxsize, pbc)\n",
    "    return gradients.harmonic(x, boxsize) + gradients.LJ(vecs) - gradients.coulomb(vecs, q)\n",
    "    \n",
    "def descent( x, q, grad, a=1e-4, prec=1e-10, maxst=1e6, k=.1, boxsize=(0, 1), pbc=False ):\n",
    "    \"\"\"Gradient Descent\n",
    "    \n",
    "    Arguments:\n",
    "        x    (float): position vectors (dim = n x 3)\n",
    "        q: charge\n",
    "        a    (float): 'learning rate' alpha = 1e-4\n",
    "        prec (float): difference between steps, precision = 1e-10\n",
    "        maxst  (int): max # of steps, maxst = 1e6\n",
    "        k: factor harmonic pot\n",
    "    \n",
    "    Output:\n",
    "        x: position array,\n",
    "        step: # of steps needed to converge\"\"\"\n",
    "    xmin, xmax = boxsize[0], boxsize[1]\n",
    "    L = xmax - xmin\n",
    "    x = x[None, :, :]\n",
    "    step = 0\n",
    "    f = grad(x[-1], q, pbc=pbc)\n",
    "    x1 = x[-1] - a * f\n",
    "    if pbc:\n",
    "        x1 = x1 + (x1 < xmin) * L\n",
    "        x1 = x1 - (x1 > xmax) * L  \n",
    "    while step < maxst and np.linalg.norm(x[-1] - x1) > prec:\n",
    "        x = np.append(x, x1[None, :, :], axis=0)\n",
    "        f = grad(x[-1], q, pbc=pbc)\n",
    "        x1 = x[-1] - a * f\n",
    "        if pbc:\n",
    "            x1 = x1 + (x1 < xmin) * L\n",
    "            x1 = x1 - (x1 > xmax) * L\n",
    "        step += 1\n",
    "    return x, step"
   ]
  },
  {
   "cell_type": "markdown",
   "metadata": {},
   "source": [
    "# 2D case, Harmonic + LJ + Coulomb"
   ]
  },
  {
   "cell_type": "code",
   "execution_count": null,
   "metadata": {},
   "outputs": [],
   "source": [
    "def x_init_gen2D(N=3, qfac=7, alternating=False): \n",
    "    \"\"\"Generate initial particle distribution\n",
    "        N**2 - # of particles\n",
    "        qfac - \n",
    "    \n",
    "    Output:\n",
    "        x: position array,\n",
    "        step: # of steps needed to converge\"\"\"\n",
    "    x, y = np.linspace(-N, N, N), np.linspace(-N, N, N)\n",
    "    XX, YY = np.meshgrid(x,y)\n",
    "    if alternating:\n",
    "        q = np.array([(-1)**i for i in range(N) for j in range(N)])\n",
    "    else:\n",
    "        q = np.array([[-1,1][random.randrange(2)] for i in range(N*N)])\n",
    "    q *= qfac\n",
    "    x_init = np.array([XX.flatten(),YY.flatten()]).T\n",
    "    x_init += np.random.uniform(low=-0.5, high=0.5, size=(N**2,2))\n",
    "    #x_init *= 10\n",
    "    assert len(x_init) == N**2\n",
    "    return x_init, q"
   ]
  },
  {
   "cell_type": "code",
   "execution_count": null,
   "metadata": {},
   "outputs": [],
   "source": [
    "x_init, q = x_init_gen2D()\n",
    "x_init = np.array([[-1.02180131,  1.82156929], [-1.80851221, -0.79108905],\n",
    "                   [ 1.45298718,  0.53496423], [-1.33659605, -1.4763313 ]])\n",
    "q = np.array([ 1, -1,  1, -1])\n",
    "print(x_init.shape, q)"
   ]
  },
  {
   "cell_type": "code",
   "execution_count": null,
   "metadata": {},
   "outputs": [],
   "source": [
    "print(x_init)"
   ]
  },
  {
   "cell_type": "code",
   "execution_count": null,
   "metadata": {},
   "outputs": [],
   "source": [
    "print('(# of particles, dimensions): ', x_init.shape)\n",
    "t0 = time.time()\n",
    "positions, nsteps = descent(x_init, q, grad_HLC, a=1e-4, prec=1e-5, maxst=40000, k=0.1, pbc=False)\n",
    "t1 = time.time()\n",
    "print('# of steps:', nsteps, '| positions.shape:', positions.shape)\n",
    "print('time elapsed: ', t1 - t0)"
   ]
  },
  {
   "cell_type": "code",
   "execution_count": null,
   "metadata": {},
   "outputs": [],
   "source": [
    "mask = np.count_nonzero(np.linalg.norm(positions[-1], axis=-1) < 10)\n",
    "print(mask)\n",
    "\n",
    "fig, ax = plt.subplots(figsize=(9, 9))\n",
    "colors = np.arange(len(x_init))\n",
    "scat = ax.scatter(x_init[:,0], x_init[:,1], c=q)\n",
    "circles = [plt.Circle(r, radius=0.5, fill=False) \n",
    "            for i,r in enumerate(x_init)]\n",
    "for c in circles:\n",
    "    plt.gca().add_patch(c)\n",
    "ax.set_xlim(-7, 7)\n",
    "ax.set_ylim(-7, 7)\n",
    "def animate(i):\n",
    "    index = 4*i\n",
    "    data = positions[index]\n",
    "    scat.set_offsets(data)\n",
    "    for i, c in enumerate(circles):\n",
    "        c.center = data[i]\n",
    "    return scat\n",
    "anim = animation.FuncAnimation(fig, animate, interval=1)"
   ]
  },
  {
   "cell_type": "code",
   "execution_count": null,
   "metadata": {},
   "outputs": [],
   "source": [
    "def x_init_gen3D(N=3): \n",
    "    x = np.linspace(-N, N, N)\n",
    "    XX, YY, ZZ = np.meshgrid(x,x,x)\n",
    "    #q = np.array([[-1,1][random.randrange(2)] for i in range(N**3)])\n",
    "    q = np.array([(-1)**j for i in range(N**2) for j in range(N)]) * 10\n",
    "    x_init = np.array([XX.flatten(),YY.flatten(),ZZ.flatten()]).T\n",
    "    x_init += np.random.uniform(low=-0.1, high=0.1, size=(N**3,3))\n",
    "    #x_init *= 10\n",
    "    assert len(x_init) == N**3\n",
    "    return x_init, q"
   ]
  },
  {
   "cell_type": "code",
   "execution_count": null,
   "metadata": {},
   "outputs": [],
   "source": [
    "x_init, q = x_init_gen3D(2)\n",
    "print(x_init.shape)\n",
    "positions, nsteps = descent(x_init, q, grad_HLC, k=0.1, \n",
    "                       a=1e-4, prec=1e-6, maxst=80000)\n",
    "print('# of steps:', nsteps, '| positions.shape:', positions.shape)"
   ]
  },
  {
   "cell_type": "code",
   "execution_count": null,
   "metadata": {},
   "outputs": [],
   "source": [
    "from mpl_toolkits.mplot3d import Axes3D\n",
    "fig = plt.figure(figsize=(9.5,9.5))\n",
    "ax = fig.add_subplot(111, projection='3d')\n",
    "colors = np.arange(len(x_init))\n",
    "scat = ax.scatter(x_init[:,0], x_init[:,1], x_init[:,2], c=q)\n",
    "#circles = [plt.Circle(r, radius=0.5, fill=False) \n",
    "#            for i,r in enumerate(x_init)]\n",
    "#for c in circles:\n",
    "#    plt.gca().add_patch(c)\n",
    "ax.set_xlim(-3, 3)\n",
    "ax.set_ylim(-3, 3)\n",
    "ax.set_zlim(-3, 3)\n",
    "def animate(i):\n",
    "    index = 4*i\n",
    "    data = positions[index]\n",
    "    scat._offsets3d=(data[:,0],data[:,1],data[:,2])\n",
    "    #for i, c in enumerate(circles):\n",
    "    #    c.center = data[i]\n",
    "    return scat,\n",
    "\n",
    "#anim = animation.FuncAnimation(fig, animate, interval=1)\n",
    "anim = animation.FuncAnimation(fig, animate, interval=20, frames=1050, repeat=False)"
   ]
  },
  {
   "cell_type": "markdown",
   "metadata": {},
   "source": [
    "# 3D case, Ewald forces"
   ]
  },
  {
   "cell_type": "code",
   "execution_count": null,
   "metadata": {},
   "outputs": [],
   "source": [
    "x_init, q = x_init_gen3D(2)\n",
    "print(x_init.shape)\n",
    "print(q)"
   ]
  },
  {
   "cell_type": "code",
   "execution_count": null,
   "metadata": {},
   "outputs": [],
   "source": [
    "t0 = time.time()\n",
    "positions, nsteps = descent(x_init, q, grad_Ewald, a=1e-4, prec=1e-6, maxst=10000)\n",
    "t1 = time.time()\n",
    "print('# of steps:', nsteps, '| positions.shape:', positions.shape)\n",
    "print('time: ', t1 - t0)"
   ]
  },
  {
   "cell_type": "code",
   "execution_count": null,
   "metadata": {},
   "outputs": [],
   "source": [
    "from mpl_toolkits.mplot3d import Axes3D\n",
    "fig = plt.figure(figsize=(9.5,9.5))\n",
    "ax = fig.add_subplot(111, projection='3d')\n",
    "colors = np.arange(len(x_init))\n",
    "scat = ax.scatter(x_init[:,0], x_init[:,1], x_init[:,2], c=q)\n",
    "#circles = [plt.Circle(r, radius=0.5, fill=False) \n",
    "#            for i,r in enumerate(x_init)]\n",
    "#for c in circles:\n",
    "#    plt.gca().add_patch(c)\n",
    "ax.set_xlim(-3, 3)\n",
    "ax.set_ylim(-3, 3)\n",
    "ax.set_zlim(-3, 3)\n",
    "def animate(i):\n",
    "    index = 4*i\n",
    "    data = positions[index]\n",
    "    scat._offsets3d=(data[:,0],data[:,1],data[:,2])\n",
    "    #for i, c in enumerate(circles):\n",
    "    #    c.center = data[i]\n",
    "    return scat,\n",
    "\n",
    "\n",
    "#anim = animation.FuncAnimation(fig, animate, interval=1)\n",
    "anim = animation.FuncAnimation(fig, animate, interval=20, frames=1050, repeat=False)"
   ]
  },
  {
   "cell_type": "code",
   "execution_count": null,
   "metadata": {},
   "outputs": [],
   "source": [
    "boxsize = (0, 1)\n",
    "xmin, xmax = boxsize[0], boxsize[1]\n",
    "L = xmax - xmin\n",
    "pbc = True\n",
    "x0 = np.array([[.4, .6], [.1, .8]])\n",
    "f = np.array([[.5, -.1], [.1, -.7]])\n",
    "x1 = x0 - f\n",
    "print(x0)\n",
    "print(f)\n",
    "print(x1)\n",
    "print(x1 < xmin)\n",
    "print(x1 > xmax)\n",
    "if pbc:\n",
    "    x1 = x1 + (x1 < xmin) * L\n",
    "    x1 = x1 - (x1 > xmax) * L\n",
    "print(x1)"
   ]
  },
  {
   "cell_type": "code",
   "execution_count": null,
   "metadata": {},
   "outputs": [],
   "source": [
    "import numpy as np"
   ]
  },
  {
   "cell_type": "code",
   "execution_count": null,
   "metadata": {},
   "outputs": [],
   "source": [
    "def pbc( x1, box ):\n",
    "    print(x1)\n",
    "    xmin, xmax = box[0], box[1]\n",
    "    assert xmin < xmax\n",
    "    L = xmax - xmin\n",
    "    x1[x1 < xmin] = xmax - (xmin - x1[x1 < xmin]) %  L\n",
    "    x1[x1 > xmax] = xmin + (x1[x1 > xmax] - xmax) %  L\n",
    "    print(x1)\n",
    "    return\n",
    "\n",
    "# box = (+, +)\n",
    "#pp = np.array([-1.2, 2.4, 4, 5.3, 8.7])\n",
    "#pbc(pp, box=(3, 5))\n",
    "# box = (-, -)\n",
    "#mm = np.array([1.1, -4.8, -6., -7.3, -10.7])\n",
    "#pbc(mm, box=(-7, -5))\n",
    "# box = (-, +)\n",
    "#mp = np.array([-10.4, -2.2, -.1, 3.3, 9.7])\n",
    "#pbc(mp, box=(-2, 3))"
   ]
  },
  {
   "cell_type": "code",
   "execution_count": null,
   "metadata": {},
   "outputs": [],
   "source": [
    "kc = 3\n",
    "kvec = np.array([[i,j, k] \n",
    "                 for i in range(kc + 1) \n",
    "                 for j in range(int(np.sqrt(kc**2 - i**2)) + 1) \n",
    "                 for k in range(int(np.sqrt(kc**2 - i**2 - j**2)) + 1) if (i,j,k) != (0,0,0)])\n",
    "print(kvec)"
   ]
  },
  {
   "cell_type": "code",
   "execution_count": null,
   "metadata": {},
   "outputs": [],
   "source": []
  }
 ],
 "metadata": {
  "kernelspec": {
   "display_name": "Python 3",
   "language": "python",
   "name": "python3"
  },
  "language_info": {
   "codemirror_mode": {
    "name": "ipython",
    "version": 3
   },
   "file_extension": ".py",
   "mimetype": "text/x-python",
   "name": "python",
   "nbconvert_exporter": "python",
   "pygments_lexer": "ipython3",
   "version": "3.7.2"
  }
 },
 "nbformat": 4,
 "nbformat_minor": 2
}
