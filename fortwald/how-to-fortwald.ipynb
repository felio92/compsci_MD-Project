{
 "cells": [
  {
   "cell_type": "markdown",
   "metadata": {},
   "source": [
    "# How to use fortwald"
   ]
  },
  {
   "cell_type": "code",
   "execution_count": null,
   "metadata": {},
   "outputs": [],
   "source": [
    "import numpy as np\n",
    "a2au = 1.8897261255"
   ]
  },
  {
   "cell_type": "code",
   "execution_count": null,
   "metadata": {},
   "outputs": [],
   "source": [
    "#from fortwald.dirfast import dirvec\n",
    "from dirfast import dirvec\n",
    "kvec_fort = dirvec(1)\n",
    "print(kvec_fort)\n",
    "print(len(kvec_fort))"
   ]
  },
  {
   "cell_type": "code",
   "execution_count": null,
   "metadata": {},
   "outputs": [],
   "source": [
    "kc = 1\n",
    "kvec = np.array([[i,j, k] \n",
    "                 for i in range(kc + 1) \n",
    "                 for j in range(int(np.sqrt(kc**2 - i**2)) + 1) \n",
    "                 for k in range(int(np.sqrt(kc**2 - i**2 - j**2)) + 1) if (i,j,k) != (0,0,0)])\n",
    "kvec = np.concatenate([[i,j,1]*kvec for i in [-1, 1] for j in [-1, 1]])\n",
    "print(kvec)\n",
    "print(len(kvec))"
   ]
  },
  {
   "cell_type": "code",
   "execution_count": null,
   "metadata": {},
   "outputs": [],
   "source": []
  }
 ],
 "metadata": {
  "kernelspec": {
   "display_name": "Python 3",
   "language": "python",
   "name": "python3"
  },
  "language_info": {
   "codemirror_mode": {
    "name": "ipython",
    "version": 3
   },
   "file_extension": ".py",
   "mimetype": "text/x-python",
   "name": "python",
   "nbconvert_exporter": "python",
   "pygments_lexer": "ipython3",
   "version": "3.7.2"
  }
 },
 "nbformat": 4,
 "nbformat_minor": 2
}
