{
 "cells": [
  {
   "cell_type": "markdown",
   "metadata": {},
   "source": [
    "# Structure Optimization"
   ]
  },
  {
   "cell_type": "code",
   "execution_count": null,
   "metadata": {},
   "outputs": [],
   "source": [
    "%matplotlib notebook\n",
    "import numpy as np\n",
    "import torch\n",
    "import matplotlib.pyplot as plt\n",
    "from matplotlib import animation\n",
    "\n",
    "import random\n",
    "import time"
   ]
  },
  {
   "cell_type": "code",
   "execution_count": null,
   "metadata": {},
   "outputs": [],
   "source": [
    "from potentials import gradients\n",
    "from distances import vectors\n",
    "from ewald_numpy import Ewald"
   ]
  },
  {
   "cell_type": "code",
   "execution_count": null,
   "metadata": {},
   "outputs": [],
   "source": [
    "def grad_Ewald( x, q, boxsz=(0,1), pbc=False ):\n",
    "    vecs = vectors(x, boxsz)\n",
    "    E = Ewald(charges=q, boxsize=boxsz, alpha=5, r_cutoff=5, n_max=2, k_cutoff=5)\n",
    "    return -E.force(x)\n",
    "\n",
    "def grad_HLC( x, q, boxsize=(0,1), pbc=False ):\n",
    "    \"\"\"Sum of Harmonic, LJ and Coulombs gradients\"\"\"\n",
    "    vecs = vectors(x, boxsize, pbc)\n",
    "    return gradients.harmonic(x, boxsize) + gradients.LJ(vecs) - gradients.coulomb(vecs, q)\n",
    "    \n",
    "def descent( x, q, grad, a=1e-4, prec=1e-10, maxst=1e6, k=.1, boxsize=(0, 1), pbc=False ):\n",
    "    \"\"\"Gradient Descent\n",
    "    \n",
    "    Arguments:\n",
    "        x    (float): position vectors (dim = n x 3)\n",
    "        q: charge\n",
    "        a    (float): 'learning rate' alpha = 1e-4\n",
    "        prec (float): difference between steps, precision = 1e-10\n",
    "        maxst  (int): max # of steps, maxst = 1e6\n",
    "        k: factor harmonic pot\n",
    "    \n",
    "    Output:\n",
    "        x: position array,\n",
    "        step: # of steps needed to converge\"\"\"\n",
    "    xmin, xmax = boxsize[0], boxsize[1]\n",
    "    L = xmax - xmin\n",
    "    x = x[None, :, :]\n",
    "    step = 0\n",
    "    f = grad(x[-1], q, pbc=pbc)\n",
    "    x1 = x[-1] - a * f\n",
    "    if pbc:\n",
    "        x1 = x1 + (x1 < xmin) * L\n",
    "        x1 = x1 - (x1 > xmax) * L  \n",
    "    while step < maxst and np.linalg.norm(x[-1] - x1) > prec:\n",
    "        x = np.append(x, x1[None, :, :], axis=0)\n",
    "        f = grad(x[-1], q, pbc=pbc)\n",
    "        x1 = x[-1] - a * f\n",
    "        if pbc:\n",
    "            x1 = x1 + (x1 < xmin) * L\n",
    "            x1 = x1 - (x1 > xmax) * L\n",
    "        step += 1\n",
    "    return x, step"
   ]
  },
  {
   "cell_type": "markdown",
   "metadata": {},
   "source": [
    "# Harmonic,  LJ & Coulomb\n",
    "## 3D case"
   ]
  },
  {
   "cell_type": "code",
   "execution_count": null,
   "metadata": {},
   "outputs": [],
   "source": [
    "def x_init_gen3D(N=3): \n",
    "    x = np.linspace(-N, N, N)\n",
    "    XX, YY, ZZ = np.meshgrid(x,x,x)\n",
    "    #q = np.array([[-1,1][random.randrange(2)] for i in range(N**3)])\n",
    "    q = np.array([(-1)**j for i in range(N**2) for j in range(N)]) * 10\n",
    "    x_init = np.array([XX.flatten(),YY.flatten(),ZZ.flatten()]).T\n",
    "    x_init += np.random.uniform(low=-0.1, high=0.1, size=(N**3,3))\n",
    "    #x_init *= 10\n",
    "    assert len(x_init) == N**3\n",
    "    return x_init, q\n",
    "\n",
    "def init_x(N=3, dim=2, x_pert=0, x_ampl=1., q_ampl=1, alter=False):\n",
    "    \"\"\"Generate initial particle distribution and charges\n",
    "        N**dim - # of particles\n",
    "        dim - dimension, 2D or 3D\n",
    "        x_pert - position perturbation, displaces particles\n",
    "        x_fact - position factor, sizes the free space between particles\n",
    "        q_ampl - amplification of charges\n",
    "        alter - True: enable alternating charges; False: generate random charges\n",
    "    \n",
    "    Output:\n",
    "        x: positions\n",
    "        q: charges\n",
    "    \"\"\"\n",
    "    import random\n",
    "    # Positions\n",
    "    distri = np.linspace(-N, N, N)\n",
    "    if dim==2:\n",
    "        XX, YY = np.meshgrid(distri, distri)\n",
    "        x = np.array([XX.flatten(),YY.flatten()]).T\n",
    "    elif dim==3:\n",
    "        XX, YY, ZZ = np.meshgrid(distri, distri, distri)\n",
    "        x = np.array([XX.flatten(),YY.flatten(),ZZ.flatten()]).T\n",
    "    assert len(x) == N**dim\n",
    "    x += np.random.uniform(low=-x_pert, high=x_pert, size=(N**dim,dim))\n",
    "    x *= x_ampl\n",
    "    # Charges\n",
    "    if alter:\n",
    "        #q = np.array([(-1)**(i+j) for i in range(N) for j in range(N**(dim-1))])\n",
    "        q = np.array([(-1)**(i+j+k) for i in range(N) for j in range(N) for k in range(N**(dim-2))])\n",
    "    else:\n",
    "        q = np.array([[-1,1][random.randrange(2)] for i in range(N**dim)])\n",
    "    q *= q_ampl\n",
    "    return x, q\n"
   ]
  },
  {
   "cell_type": "code",
   "execution_count": null,
   "metadata": {},
   "outputs": [],
   "source": [
    "x_init, q = x_init_gen3D(2)\n",
    "print(x_init.shape, q)\n",
    "x_init, q = init_x(N=2, dim=3, alter=True)\n",
    "print(x_init.shape, q)\n",
    "print(x_init.shape)\n",
    "positions, nsteps = descent(x_init, q, grad_HLC, k=0.1, \n",
    "                       a=1e-4, prec=1e-6, maxst=80000)\n",
    "print('# of steps:', nsteps, '| positions.shape:', positions.shape)"
   ]
  },
  {
   "cell_type": "code",
   "execution_count": null,
   "metadata": {},
   "outputs": [],
   "source": [
    "from mpl_toolkits.mplot3d import Axes3D\n",
    "fig = plt.figure(figsize=(9.5,9.5))\n",
    "ax = fig.add_subplot(111, projection='3d')\n",
    "colors = np.arange(len(x_init))\n",
    "scat = ax.scatter(x_init[:,0], x_init[:,1], x_init[:,2], c=q)\n",
    "#circles = [plt.Circle(r, radius=0.5, fill=False) \n",
    "#            for i,r in enumerate(x_init)]\n",
    "#for c in circles:\n",
    "#    plt.gca().add_patch(c)\n",
    "ax.set_xlim(-3, 3)\n",
    "ax.set_ylim(-3, 3)\n",
    "ax.set_zlim(-3, 3)\n",
    "def animate(i):\n",
    "    index = 10*i\n",
    "    data = positions[index]\n",
    "    scat._offsets3d=(data[:,0],data[:,1],data[:,2])\n",
    "    #for i, c in enumerate(circles):\n",
    "    #    c.center = data[i]\n",
    "    return scat,\n",
    "\n",
    "#anim = animation.FuncAnimation(fig, animate, interval=1)\n",
    "anim = animation.FuncAnimation(fig, animate, interval=20, frames=1050, repeat=False)"
   ]
  },
  {
   "cell_type": "code",
   "execution_count": null,
   "metadata": {},
   "outputs": [],
   "source": []
  }
 ],
 "metadata": {
  "kernelspec": {
   "display_name": "Python 3",
   "language": "python",
   "name": "python3"
  },
  "language_info": {
   "codemirror_mode": {
    "name": "ipython",
    "version": 3
   },
   "file_extension": ".py",
   "mimetype": "text/x-python",
   "name": "python",
   "nbconvert_exporter": "python",
   "pygments_lexer": "ipython3",
   "version": "3.7.2"
  }
 },
 "nbformat": 4,
 "nbformat_minor": 2
}
