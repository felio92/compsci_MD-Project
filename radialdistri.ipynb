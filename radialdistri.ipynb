{
 "cells": [
  {
   "cell_type": "markdown",
   "metadata": {},
   "source": [
    "### radial distribution function"
   ]
  },
  {
   "cell_type": "code",
   "execution_count": null,
   "metadata": {},
   "outputs": [],
   "source": [
    "import numpy as np\n",
    "from sampling import mcmc\n",
    "from potentials import potentials\n",
    "import matplotlib.pyplot as plt\n",
    "from distances import vectors, distances"
   ]
  },
  {
   "cell_type": "code",
   "execution_count": null,
   "metadata": {},
   "outputs": [],
   "source": [
    "position = mcmc(potentials.LJ, 1000, 3, 1000, 0.01)\n",
    "print(position)\n",
    "dist=distances(vectors(position, boxsize=(0,1), pbc=False))\n",
    "print(len(dist))\n",
    "print(position.shape[-1])\n",
    "dim, boxsize = 2, (1,2)\n",
    "dmax = np.sqrt(dim)*(boxsize[1]-boxsize[0])\n",
    "print(dmax)"
   ]
  },
  {
   "cell_type": "code",
   "execution_count": null,
   "metadata": {},
   "outputs": [],
   "source": [
    "# distance between all particles\n",
    "def raddisfunc(dist, boxsize=(0,1), dim=3, sigma=1):\n",
    "    print(dist)\n",
    "    N = len(dist)\n",
    "    dmax = np.sqrt(dim)*(boxsize[1]-boxsize[0])\n",
    "    print(dmax)\n",
    "    dmin = 0\n",
    "    edges = np.linspace(dmin, dmax, 21)\n",
    "    #print(edges)\n",
    "    # calculate distance areas\n",
    "    # indicator function\n",
    "    ndist = int(N*(N-1)/2)\n",
    "    d = np.zeros(ndist)\n",
    "    count = 0\n",
    "    for i in range(0,N):\n",
    "        for j in range(i+1,N):\n",
    "            d[count] = dist[i,j]\n",
    "            count += 1\n",
    "    print(d)\n",
    "    rd = [np.sum(np.logical_and((d > emin).astype(int), (d < emax).astype(int)))/ndist for emin, emax in zip(edges[:-1], edges[1:])]\n",
    "    #x = (edges[:-1] + edges[1:])/sigma\n",
    "    return edges, rd\n",
    "\n",
    "\n",
    "res = raddisfunc(distances(vectors(position, boxsize=(0,1), pbc=False)), dim=position.shape[-1], sigma=1)\n",
    "plt.plot(res[0][1:], res[1])"
   ]
  },
  {
   "cell_type": "code",
   "execution_count": null,
   "metadata": {},
   "outputs": [],
   "source": [
    "# distance of one particle with the other\n",
    "def raddisfunc(dist, boxsize=(0,1), dim=3, sigma=1):\n",
    "    #print(dist)\n",
    "    N = len(dist)\n",
    "    dmax = np.sqrt(dim)*(boxsize[1]-boxsize[0])\n",
    "    #print(dmax)\n",
    "    dmin = 0\n",
    "    edges = np.linspace(dmin, dmax, 21)\n",
    "    #print(edges)\n",
    "    # calculate distance areas\n",
    "    # indicator function\n",
    "    ndist = int(N-1)\n",
    "    d = dist[0][1:]\n",
    "    #print(d)\n",
    "    rd = np.array([np.sum(np.logical_and((d >= emin).astype(int), (d < emax).astype(int)))/ndist for emin, emax in zip(edges[:-1], edges[1:])])\n",
    "    x = (edges[:-1] + edges[1:])/2\n",
    "    #print(rd, x)\n",
    "    #print(((dim)*(boxsize[1]-boxsize[0])), N**2, rd)\n",
    "    #g = (((dim)*(boxsize[1]-boxsize[0]))/N**2)*rd\n",
    "    return x, rd\n",
    "\n",
    "\n",
    "res = raddisfunc(distances(vectors(position, boxsize=(0,1), pbc=False)), dim=position.shape[-1], sigma=1)\n",
    "plt.plot(res[0], res[1])"
   ]
  },
  {
   "cell_type": "code",
   "execution_count": null,
   "metadata": {},
   "outputs": [],
   "source": []
  },
  {
   "cell_type": "code",
   "execution_count": null,
   "metadata": {},
   "outputs": [],
   "source": []
  }
 ],
 "metadata": {
  "kernelspec": {
   "display_name": "Python 3",
   "language": "python",
   "name": "python3"
  },
  "language_info": {
   "codemirror_mode": {
    "name": "ipython",
    "version": 3
   },
   "file_extension": ".py",
   "mimetype": "text/x-python",
   "name": "python",
   "nbconvert_exporter": "python",
   "pygments_lexer": "ipython3",
   "version": "3.7.2"
  }
 },
 "nbformat": 4,
 "nbformat_minor": 2
}
